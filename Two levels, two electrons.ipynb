{
 "cells": [
  {
   "cell_type": "markdown",
   "metadata": {},
   "source": [
    "# Transitions for a two level system with an electron"
   ]
  },
  {
   "cell_type": "code",
   "execution_count": 14,
   "metadata": {
    "collapsed": true
   },
   "outputs": [],
   "source": [
    "import numpy as np\n",
    "import itertools\n",
    "from operator import add\n",
    "from functools import reduce\n",
    "\n",
    "#from itertools import combinations, permutations"
   ]
  },
  {
   "cell_type": "markdown",
   "metadata": {},
   "source": [
    "We have two sites $(i,j)$ and two levels $\\alpha, \\beta$. The Initial states are $d_i^1d_j^1$ configurations where one electron sits onthe $\\alpha$ level on each site ($4$ in total). The final states are $d_i^0d_j^2$ configurations ($5$ in total).\n",
    "\n",
    "The problem now is how to represent the states. We take an array where the first 4 elements correspond to the $i$ site and then the first two correspond to the $+$ and $-$ spin $\\alpha$ level. Thus the state with spin up on both sites at the $\\alpha$ level is [1 0 0 0 1 0 0 0].\n",
    "\n",
    "As an example, we take the final configuration where in there is on spin up in each level at site $j$ [0 0 0 0 1 0 1 0]"
   ]
  },
  {
   "cell_type": "code",
   "execution_count": 2,
   "metadata": {
    "collapsed": true
   },
   "outputs": [],
   "source": [
    "initial = np.array((1, 0, 0, 0, 1, 0, 0, 0))\n",
    "final = np.array((0, 0, 0, 0, 1, 0, 1, 0))"
   ]
  },
  {
   "cell_type": "markdown",
   "metadata": {},
   "source": [
    "The question is, is there a transition matrix element between those states? The answer is yes, since the receiving \"state\" is empty and no spin flip is involved. We can codify this by taking the XOR operation between the initial and final states and checking the positions where we get True. If both are odd or even the hop is allowed, whereas if one is in odd and the other in even positions it is not allowd (implying a spin flip)"
   ]
  },
  {
   "cell_type": "code",
   "execution_count": 3,
   "metadata": {},
   "outputs": [
    {
     "name": "stdout",
     "output_type": "stream",
     "text": [
      "[1 0 0 0 0 0 1 0]\n"
     ]
    }
   ],
   "source": [
    "jump = np.logical_xor(initial,final)\n",
    "print(jump.astype(int))"
   ]
  },
  {
   "cell_type": "markdown",
   "metadata": {},
   "source": [
    "We can see that we get a $1$ in position $0$ and another one in position $6$, thus the jump is allowed since both are even. Let's codify that computationally."
   ]
  },
  {
   "cell_type": "code",
   "execution_count": 4,
   "metadata": {},
   "outputs": [
    {
     "data": {
      "text/plain": [
       "(array([0, 6], dtype=int64),)"
      ]
     },
     "execution_count": 4,
     "metadata": {},
     "output_type": "execute_result"
    }
   ],
   "source": [
    "np.nonzero(jump)"
   ]
  },
  {
   "cell_type": "markdown",
   "metadata": {},
   "source": [
    "Now we apply modulo 2, which will allow us to check validity. If both are even or odd, there will be just one unique element."
   ]
  },
  {
   "cell_type": "code",
   "execution_count": 5,
   "metadata": {
    "collapsed": true
   },
   "outputs": [],
   "source": [
    "def allowed(jump):\n",
    "    if np.unique(np.remainder(np.nonzero(jump),2)).size == 1:\n",
    "        return 1\n",
    "    return 0"
   ]
  },
  {
   "cell_type": "markdown",
   "metadata": {},
   "source": [
    "Testing it out..."
   ]
  },
  {
   "cell_type": "code",
   "execution_count": 6,
   "metadata": {},
   "outputs": [
    {
     "data": {
      "text/plain": [
       "1"
      ]
     },
     "execution_count": 6,
     "metadata": {},
     "output_type": "execute_result"
    }
   ],
   "source": [
    "allowed(jump)"
   ]
  },
  {
   "cell_type": "markdown",
   "metadata": {},
   "source": [
    "What about another final state like [0 0 0 0 0 1 1 0]. Between the initial and this final state there is a spin flip wich should not be allowed."
   ]
  },
  {
   "cell_type": "code",
   "execution_count": 7,
   "metadata": {},
   "outputs": [
    {
     "data": {
      "text/plain": [
       "0"
      ]
     },
     "execution_count": 7,
     "metadata": {},
     "output_type": "execute_result"
    }
   ],
   "source": [
    "final = [0, 0, 0, 0, 0, 1, 1, 0]\n",
    "jump = np.logical_xor(initial,final)\n",
    "allowed(jump)"
   ]
  },
  {
   "cell_type": "markdown",
   "metadata": {},
   "source": [
    "As we expected, it is not allowed."
   ]
  },
  {
   "cell_type": "markdown",
   "metadata": {},
   "source": [
    "## How to generate the states\n",
    "\n",
    "The problem now is how to generate the initial and final states. First we start with the initial states. Here we can proceed by isolating one site and writing both possible initial states. Then we double it and make all possible combinations and filter out repeated sequences."
   ]
  },
  {
   "cell_type": "code",
   "execution_count": 8,
   "metadata": {},
   "outputs": [
    {
     "data": {
      "text/plain": [
       "[[1, 0, 0, 0], [0, 1, 0, 0], [1, 0, 0, 0], [0, 1, 0, 0]]"
      ]
     },
     "execution_count": 8,
     "metadata": {},
     "output_type": "execute_result"
    }
   ],
   "source": [
    "single_initial_states = [[1, 0, 0, 0], [0, 1, 0, 0]]\n",
    "single_initial_states *= 2\n",
    "single_initial_states"
   ]
  },
  {
   "cell_type": "code",
   "execution_count": 9,
   "metadata": {},
   "outputs": [
    {
     "data": {
      "text/plain": [
       "[(0, 1, 0, 0, 0, 1, 0, 0),\n",
       " (1, 0, 0, 0, 1, 0, 0, 0),\n",
       " (1, 0, 0, 0, 0, 1, 0, 0),\n",
       " (0, 1, 0, 0, 1, 0, 0, 0)]"
      ]
     },
     "execution_count": 9,
     "metadata": {},
     "output_type": "execute_result"
    }
   ],
   "source": [
    "initial_states = set()\n",
    "for combination in itertools.combinations(single_initial_states,2):\n",
    "    initial_states.add(tuple(reduce(add, combination)))\n",
    "list(initial_states)"
   ]
  },
  {
   "cell_type": "code",
   "execution_count": 28,
   "metadata": {},
   "outputs": [
    {
     "data": {
      "text/plain": [
       "{(0, 1, 0, 0, 0, 1, 0, 0),\n",
       " (0, 1, 0, 0, 1, 0, 0, 0),\n",
       " (1, 0, 0, 0, 0, 1, 0, 0),\n",
       " (1, 0, 0, 0, 1, 0, 0, 0)}"
      ]
     },
     "execution_count": 28,
     "metadata": {},
     "output_type": "execute_result"
    }
   ],
   "source": [
    "initial_states = set([tuple(reduce(add, combination)) \n",
    "                  for combination \n",
    "                  in itertools.combinations(single_initial_states,2)])\n",
    "initial_states"
   ]
  },
  {
   "cell_type": "markdown",
   "metadata": {},
   "source": [
    "Now that we have all possible initial states, we can test what happens with our test final state."
   ]
  },
  {
   "cell_type": "code",
   "execution_count": 29,
   "metadata": {},
   "outputs": [
    {
     "name": "stdout",
     "output_type": "stream",
     "text": [
      "From initial state (0, 1, 0, 0, 0, 1, 0, 0) to final state [0, 0, 0, 0, 0, 1, 1, 0] allowed? 0\n",
      "From initial state (1, 0, 0, 0, 1, 0, 0, 0) to final state [0, 0, 0, 0, 0, 1, 1, 0] allowed? 0\n",
      "From initial state (1, 0, 0, 0, 0, 1, 0, 0) to final state [0, 0, 0, 0, 0, 1, 1, 0] allowed? 1\n",
      "From initial state (0, 1, 0, 0, 1, 0, 0, 0) to final state [0, 0, 0, 0, 0, 1, 1, 0] allowed? 0\n"
     ]
    }
   ],
   "source": [
    "for initial_state in initial_states:\n",
    "    jump = np.logical_xor(initial_state,final)\n",
    "    print(f\"From initial state {initial_state} to final state {final} allowed? {allowed(jump)}\")"
   ]
  },
  {
   "cell_type": "markdown",
   "metadata": {},
   "source": [
    "To generate the final states, we do simmilarly as for the initial ones. We have to create all the combinations of two elec trons on site $j$. There are in total $6$ states where the one with two electrons in the $\\beta$ level is not accessible with optics."
   ]
  },
  {
   "cell_type": "code",
   "execution_count": 27,
   "metadata": {},
   "outputs": [
    {
     "data": {
      "text/plain": [
       "[(0, 0, 0, 0, 1, 0, 1, 0),\n",
       " (0, 0, 0, 0, 1, 1, 0, 0),\n",
       " (0, 0, 0, 0, 1, 0, 0, 1),\n",
       " (0, 0, 0, 0, 0, 1, 1, 0),\n",
       " (0, 0, 0, 0, 0, 1, 0, 1),\n",
       " (0, 0, 0, 0, 0, 0, 1, 1)]"
      ]
     },
     "execution_count": 27,
     "metadata": {},
     "output_type": "execute_result"
    }
   ],
   "source": [
    "single_states_j = set(itertools.permutations([1, 1, 0, 0]))\n",
    "final_states = [tuple(reduce(add, [(0, 0, 0, 0), j_state])) \n",
    "                for j_state \n",
    "                in list(set(itertools.permutations((1, 1, 0, 0))))]\n",
    "final_states"
   ]
  },
  {
   "cell_type": "markdown",
   "metadata": {},
   "source": [
    "Having the final states created, we can again test every initial state against every final state."
   ]
  },
  {
   "cell_type": "code",
   "execution_count": 31,
   "metadata": {},
   "outputs": [
    {
     "name": "stdout",
     "output_type": "stream",
     "text": [
      "From initial state (0, 1, 0, 0, 0, 1, 0, 0) to final state (0, 0, 0, 0, 1, 0, 1, 0) allowed? 0\n",
      "From initial state (0, 1, 0, 0, 0, 1, 0, 0) to final state (0, 0, 0, 0, 1, 1, 0, 0) allowed? 0\n",
      "From initial state (0, 1, 0, 0, 0, 1, 0, 0) to final state (0, 0, 0, 0, 1, 0, 0, 1) allowed? 0\n",
      "From initial state (0, 1, 0, 0, 0, 1, 0, 0) to final state (0, 0, 0, 0, 0, 1, 1, 0) allowed? 0\n",
      "From initial state (0, 1, 0, 0, 0, 1, 0, 0) to final state (0, 0, 0, 0, 0, 1, 0, 1) allowed? 1\n",
      "From initial state (0, 1, 0, 0, 0, 1, 0, 0) to final state (0, 0, 0, 0, 0, 0, 1, 1) allowed? 0\n",
      "From initial state (1, 0, 0, 0, 1, 0, 0, 0) to final state (0, 0, 0, 0, 1, 0, 1, 0) allowed? 1\n",
      "From initial state (1, 0, 0, 0, 1, 0, 0, 0) to final state (0, 0, 0, 0, 1, 1, 0, 0) allowed? 0\n",
      "From initial state (1, 0, 0, 0, 1, 0, 0, 0) to final state (0, 0, 0, 0, 1, 0, 0, 1) allowed? 0\n",
      "From initial state (1, 0, 0, 0, 1, 0, 0, 0) to final state (0, 0, 0, 0, 0, 1, 1, 0) allowed? 0\n",
      "From initial state (1, 0, 0, 0, 1, 0, 0, 0) to final state (0, 0, 0, 0, 0, 1, 0, 1) allowed? 0\n",
      "From initial state (1, 0, 0, 0, 1, 0, 0, 0) to final state (0, 0, 0, 0, 0, 0, 1, 1) allowed? 0\n",
      "From initial state (1, 0, 0, 0, 0, 1, 0, 0) to final state (0, 0, 0, 0, 1, 0, 1, 0) allowed? 0\n",
      "From initial state (1, 0, 0, 0, 0, 1, 0, 0) to final state (0, 0, 0, 0, 1, 1, 0, 0) allowed? 1\n",
      "From initial state (1, 0, 0, 0, 0, 1, 0, 0) to final state (0, 0, 0, 0, 1, 0, 0, 1) allowed? 0\n",
      "From initial state (1, 0, 0, 0, 0, 1, 0, 0) to final state (0, 0, 0, 0, 0, 1, 1, 0) allowed? 1\n",
      "From initial state (1, 0, 0, 0, 0, 1, 0, 0) to final state (0, 0, 0, 0, 0, 1, 0, 1) allowed? 0\n",
      "From initial state (1, 0, 0, 0, 0, 1, 0, 0) to final state (0, 0, 0, 0, 0, 0, 1, 1) allowed? 0\n",
      "From initial state (0, 1, 0, 0, 1, 0, 0, 0) to final state (0, 0, 0, 0, 1, 0, 1, 0) allowed? 0\n",
      "From initial state (0, 1, 0, 0, 1, 0, 0, 0) to final state (0, 0, 0, 0, 1, 1, 0, 0) allowed? 1\n",
      "From initial state (0, 1, 0, 0, 1, 0, 0, 0) to final state (0, 0, 0, 0, 1, 0, 0, 1) allowed? 1\n",
      "From initial state (0, 1, 0, 0, 1, 0, 0, 0) to final state (0, 0, 0, 0, 0, 1, 1, 0) allowed? 0\n",
      "From initial state (0, 1, 0, 0, 1, 0, 0, 0) to final state (0, 0, 0, 0, 0, 1, 0, 1) allowed? 0\n",
      "From initial state (0, 1, 0, 0, 1, 0, 0, 0) to final state (0, 0, 0, 0, 0, 0, 1, 1) allowed? 0\n"
     ]
    }
   ],
   "source": [
    "for initial_state in initial_states:\n",
    "    for final_state in final_states:\n",
    "        jump = np.logical_xor(initial_state,final_state)\n",
    "        print(f\"From initial state {initial_state} to final state {final_state} allowed? {allowed(jump)}\")"
   ]
  },
  {
   "cell_type": "code",
   "execution_count": null,
   "metadata": {
    "collapsed": true
   },
   "outputs": [],
   "source": []
  }
 ],
 "metadata": {
  "kernelspec": {
   "display_name": "Python 3",
   "language": "python",
   "name": "python3"
  },
  "language_info": {
   "codemirror_mode": {
    "name": "ipython",
    "version": 3
   },
   "file_extension": ".py",
   "mimetype": "text/x-python",
   "name": "python",
   "nbconvert_exporter": "python",
   "pygments_lexer": "ipython3",
   "version": "3.6.1"
  }
 },
 "nbformat": 4,
 "nbformat_minor": 2
}
