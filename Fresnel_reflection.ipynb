{
 "cells": [
  {
   "cell_type": "markdown",
   "metadata": {},
   "source": [
    "# Fresnel Coefficients and Ellipsometric angles"
   ]
  },
  {
   "cell_type": "markdown",
   "metadata": {},
   "source": [
    "This notebook explores how light gets reflected from an interface."
   ]
  },
  {
   "cell_type": "markdown",
   "metadata": {},
   "source": [
    "## Fresnel Coefficients\n",
    "\n",
    "Let's define the perpendicular and parallel Fresnel coefficients."
   ]
  },
  {
   "cell_type": "code",
   "execution_count": 1,
   "metadata": {
    "collapsed": false
   },
   "outputs": [],
   "source": [
    "import numpy as np\n",
    "def perpendicularFresnelCoefficient(n1, n2, theta):\n",
    "    ci = np.cos(theta*np.pi/180)\n",
    "    si = np.sin(theta*np.pi/180)\n",
    "    temp1 = n1*ci\n",
    "    temp2 = n2*np.sqrt(1-(n1/n2*si)**2)\n",
    "    num = temp1-temp2\n",
    "    den = temp1+temp2\n",
    "    return num/den\n",
    "\n",
    "def parallelFresnelCoefficient(n1, n2, theta):\n",
    "    ci = np.cos(theta*np.pi/180)\n",
    "    si = np.sin(theta*np.pi/180)\n",
    "    temp1 = n1*np.sqrt(1-(n1/n2*si)**2)\n",
    "    temp2 = n2*ci\n",
    "    num = temp1-temp2\n",
    "    den = temp1+temp2\n",
    "    return num/den"
   ]
  },
  {
   "cell_type": "markdown",
   "metadata": {},
   "source": [
    "And now the perpendicular and parallel reflectivities."
   ]
  },
  {
   "cell_type": "code",
   "execution_count": 2,
   "metadata": {
    "collapsed": true
   },
   "outputs": [],
   "source": [
    "def perpendicularReflectivity(n1,k1,n2,k2,theta):\n",
    "    return np.abs(perpendicularFresnelCoefficient(n1+k1*1j, n2+k2*1j, theta))**2\n",
    "\n",
    "def parallelReflectivity(n1,k1,n2,k2,theta):\n",
    "    return np.abs(parallelFresnelCoefficient(n1+k1*1j, n2+k2*1j, theta))**2"
   ]
  },
  {
   "cell_type": "markdown",
   "metadata": {},
   "source": [
    "Now, some imports to be able to plot and handle data"
   ]
  },
  {
   "cell_type": "code",
   "execution_count": 3,
   "metadata": {
    "collapsed": false
   },
   "outputs": [
    {
     "data": {
      "text/html": [
       "\n",
       "    <div class=\"bk-root\">\n",
       "        <a href=\"http://bokeh.pydata.org\" target=\"_blank\" class=\"bk-logo bk-logo-small bk-logo-notebook\"></a>\n",
       "        <span id=\"8be7dc66-cec6-4aa6-946f-eea6a8e2fac9\">Loading BokehJS ...</span>\n",
       "    </div>"
      ]
     },
     "metadata": {},
     "output_type": "display_data"
    },
    {
     "data": {
      "application/javascript": [
       "\n",
       "(function(global) {\n",
       "  function now() {\n",
       "    return new Date();\n",
       "  }\n",
       "\n",
       "  var force = \"1\";\n",
       "\n",
       "  if (typeof (window._bokeh_onload_callbacks) === \"undefined\" || force !== \"\") {\n",
       "    window._bokeh_onload_callbacks = [];\n",
       "    window._bokeh_is_loading = undefined;\n",
       "  }\n",
       "\n",
       "\n",
       "  \n",
       "  if (typeof (window._bokeh_timeout) === \"undefined\" || force !== \"\") {\n",
       "    window._bokeh_timeout = Date.now() + 5000;\n",
       "    window._bokeh_failed_load = false;\n",
       "  }\n",
       "\n",
       "  var NB_LOAD_WARNING = {'data': {'text/html':\n",
       "     \"<div style='background-color: #fdd'>\\n\"+\n",
       "     \"<p>\\n\"+\n",
       "     \"BokehJS does not appear to have successfully loaded. If loading BokehJS from CDN, this \\n\"+\n",
       "     \"may be due to a slow or bad network connection. Possible fixes:\\n\"+\n",
       "     \"</p>\\n\"+\n",
       "     \"<ul>\\n\"+\n",
       "     \"<li>re-rerun `output_notebook()` to attempt to load from CDN again, or</li>\\n\"+\n",
       "     \"<li>use INLINE resources instead, as so:</li>\\n\"+\n",
       "     \"</ul>\\n\"+\n",
       "     \"<code>\\n\"+\n",
       "     \"from bokeh.resources import INLINE\\n\"+\n",
       "     \"output_notebook(resources=INLINE)\\n\"+\n",
       "     \"</code>\\n\"+\n",
       "     \"</div>\"}};\n",
       "\n",
       "  function display_loaded() {\n",
       "    if (window.Bokeh !== undefined) {\n",
       "      Bokeh.$(\"#8be7dc66-cec6-4aa6-946f-eea6a8e2fac9\").text(\"BokehJS successfully loaded.\");\n",
       "    } else if (Date.now() < window._bokeh_timeout) {\n",
       "      setTimeout(display_loaded, 100)\n",
       "    }\n",
       "  }\n",
       "\n",
       "  function run_callbacks() {\n",
       "    window._bokeh_onload_callbacks.forEach(function(callback) { callback() });\n",
       "    delete window._bokeh_onload_callbacks\n",
       "    console.info(\"Bokeh: all callbacks have finished\");\n",
       "  }\n",
       "\n",
       "  function load_libs(js_urls, callback) {\n",
       "    window._bokeh_onload_callbacks.push(callback);\n",
       "    if (window._bokeh_is_loading > 0) {\n",
       "      console.log(\"Bokeh: BokehJS is being loaded, scheduling callback at\", now());\n",
       "      return null;\n",
       "    }\n",
       "    if (js_urls == null || js_urls.length === 0) {\n",
       "      run_callbacks();\n",
       "      return null;\n",
       "    }\n",
       "    console.log(\"Bokeh: BokehJS not loaded, scheduling load and callback at\", now());\n",
       "    window._bokeh_is_loading = js_urls.length;\n",
       "    for (var i = 0; i < js_urls.length; i++) {\n",
       "      var url = js_urls[i];\n",
       "      var s = document.createElement('script');\n",
       "      s.src = url;\n",
       "      s.async = false;\n",
       "      s.onreadystatechange = s.onload = function() {\n",
       "        window._bokeh_is_loading--;\n",
       "        if (window._bokeh_is_loading === 0) {\n",
       "          console.log(\"Bokeh: all BokehJS libraries loaded\");\n",
       "          run_callbacks()\n",
       "        }\n",
       "      };\n",
       "      s.onerror = function() {\n",
       "        console.warn(\"failed to load library \" + url);\n",
       "      };\n",
       "      console.log(\"Bokeh: injecting script tag for BokehJS library: \", url);\n",
       "      document.getElementsByTagName(\"head\")[0].appendChild(s);\n",
       "    }\n",
       "  };var element = document.getElementById(\"8be7dc66-cec6-4aa6-946f-eea6a8e2fac9\");\n",
       "  if (element == null) {\n",
       "    console.log(\"Bokeh: ERROR: autoload.js configured with elementid '8be7dc66-cec6-4aa6-946f-eea6a8e2fac9' but no matching script tag was found. \")\n",
       "    return false;\n",
       "  }\n",
       "\n",
       "  var js_urls = ['https://cdn.pydata.org/bokeh/release/bokeh-0.12.2.min.js', 'https://cdn.pydata.org/bokeh/release/bokeh-widgets-0.12.2.min.js', 'https://cdn.pydata.org/bokeh/release/bokeh-compiler-0.12.2.min.js'];\n",
       "\n",
       "  var inline_js = [\n",
       "    function(Bokeh) {\n",
       "      Bokeh.set_log_level(\"info\");\n",
       "    },\n",
       "    \n",
       "    function(Bokeh) {\n",
       "      \n",
       "      Bokeh.$(\"#8be7dc66-cec6-4aa6-946f-eea6a8e2fac9\").text(\"BokehJS is loading...\");\n",
       "    },\n",
       "    function(Bokeh) {\n",
       "      console.log(\"Bokeh: injecting CSS: https://cdn.pydata.org/bokeh/release/bokeh-0.12.2.min.css\");\n",
       "      Bokeh.embed.inject_css(\"https://cdn.pydata.org/bokeh/release/bokeh-0.12.2.min.css\");\n",
       "      console.log(\"Bokeh: injecting CSS: https://cdn.pydata.org/bokeh/release/bokeh-widgets-0.12.2.min.css\");\n",
       "      Bokeh.embed.inject_css(\"https://cdn.pydata.org/bokeh/release/bokeh-widgets-0.12.2.min.css\");\n",
       "    }\n",
       "  ];\n",
       "\n",
       "  function run_inline_js() {\n",
       "    \n",
       "    if ((window.Bokeh !== undefined) || (force === \"1\")) {\n",
       "      for (var i = 0; i < inline_js.length; i++) {\n",
       "        inline_js[i](window.Bokeh);\n",
       "      }if (force === \"1\") {\n",
       "        display_loaded();\n",
       "      }} else if (Date.now() < window._bokeh_timeout) {\n",
       "      setTimeout(run_inline_js, 100);\n",
       "    } else if (!window._bokeh_failed_load) {\n",
       "      console.log(\"Bokeh: BokehJS failed to load within specified timeout.\");\n",
       "      window._bokeh_failed_load = true;\n",
       "    } else if (!force) {\n",
       "      var cell = $(\"#8be7dc66-cec6-4aa6-946f-eea6a8e2fac9\").parents('.cell').data().cell;\n",
       "      cell.output_area.append_execute_result(NB_LOAD_WARNING)\n",
       "    }\n",
       "\n",
       "  }\n",
       "\n",
       "  if (window._bokeh_is_loading === 0) {\n",
       "    console.log(\"Bokeh: BokehJS loaded, going straight to plotting\");\n",
       "    run_inline_js();\n",
       "  } else {\n",
       "    load_libs(js_urls, function() {\n",
       "      console.log(\"Bokeh: BokehJS plotting callback run at\", now());\n",
       "      run_inline_js();\n",
       "    });\n",
       "  }\n",
       "}(this));"
      ]
     },
     "metadata": {},
     "output_type": "display_data"
    }
   ],
   "source": [
    "from bokeh.io import output_notebook, show\n",
    "from bokeh.plotting import figure\n",
    "output_notebook()\n",
    "\n",
    "from bokeh.io import push_notebook\n",
    "from bokeh.models import ColumnDataSource\n",
    "\n",
    "from ipywidgets import interact"
   ]
  },
  {
   "cell_type": "markdown",
   "metadata": {},
   "source": [
    "To plot the reflectivities as a function of the angle of incidence we need to do some coding!\n",
    "\n",
    "The starting point will be an interface defined by vacuum and a material with $n=1.5$ and no absorption."
   ]
  },
  {
   "cell_type": "code",
   "execution_count": 4,
   "metadata": {
    "collapsed": false
   },
   "outputs": [
    {
     "data": {
      "text/html": [
       "\n",
       "\n",
       "    <div class=\"bk-root\">\n",
       "        <div class=\"plotdiv\" id=\"3a71697e-94df-4b4b-8762-1f6cea4502b3\"></div>\n",
       "    </div>\n",
       "<script type=\"text/javascript\">\n",
       "  \n",
       "  (function(global) {\n",
       "    function now() {\n",
       "      return new Date();\n",
       "    }\n",
       "  \n",
       "    var force = \"\";\n",
       "  \n",
       "    if (typeof (window._bokeh_onload_callbacks) === \"undefined\" || force !== \"\") {\n",
       "      window._bokeh_onload_callbacks = [];\n",
       "      window._bokeh_is_loading = undefined;\n",
       "    }\n",
       "  \n",
       "  \n",
       "    \n",
       "    if (typeof (window._bokeh_timeout) === \"undefined\" || force !== \"\") {\n",
       "      window._bokeh_timeout = Date.now() + 0;\n",
       "      window._bokeh_failed_load = false;\n",
       "    }\n",
       "  \n",
       "    var NB_LOAD_WARNING = {'data': {'text/html':\n",
       "       \"<div style='background-color: #fdd'>\\n\"+\n",
       "       \"<p>\\n\"+\n",
       "       \"BokehJS does not appear to have successfully loaded. If loading BokehJS from CDN, this \\n\"+\n",
       "       \"may be due to a slow or bad network connection. Possible fixes:\\n\"+\n",
       "       \"</p>\\n\"+\n",
       "       \"<ul>\\n\"+\n",
       "       \"<li>re-rerun `output_notebook()` to attempt to load from CDN again, or</li>\\n\"+\n",
       "       \"<li>use INLINE resources instead, as so:</li>\\n\"+\n",
       "       \"</ul>\\n\"+\n",
       "       \"<code>\\n\"+\n",
       "       \"from bokeh.resources import INLINE\\n\"+\n",
       "       \"output_notebook(resources=INLINE)\\n\"+\n",
       "       \"</code>\\n\"+\n",
       "       \"</div>\"}};\n",
       "  \n",
       "    function display_loaded() {\n",
       "      if (window.Bokeh !== undefined) {\n",
       "        Bokeh.$(\"#3a71697e-94df-4b4b-8762-1f6cea4502b3\").text(\"BokehJS successfully loaded.\");\n",
       "      } else if (Date.now() < window._bokeh_timeout) {\n",
       "        setTimeout(display_loaded, 100)\n",
       "      }\n",
       "    }if ((window.Jupyter !== undefined) && Jupyter.notebook.kernel) {\n",
       "      comm_manager = Jupyter.notebook.kernel.comm_manager\n",
       "      comm_manager.register_target(\"9ec3ef8f-a29b-4331-a1d7-7ac54356af03\", function () {});\n",
       "    }\n",
       "  \n",
       "    function run_callbacks() {\n",
       "      window._bokeh_onload_callbacks.forEach(function(callback) { callback() });\n",
       "      delete window._bokeh_onload_callbacks\n",
       "      console.info(\"Bokeh: all callbacks have finished\");\n",
       "    }\n",
       "  \n",
       "    function load_libs(js_urls, callback) {\n",
       "      window._bokeh_onload_callbacks.push(callback);\n",
       "      if (window._bokeh_is_loading > 0) {\n",
       "        console.log(\"Bokeh: BokehJS is being loaded, scheduling callback at\", now());\n",
       "        return null;\n",
       "      }\n",
       "      if (js_urls == null || js_urls.length === 0) {\n",
       "        run_callbacks();\n",
       "        return null;\n",
       "      }\n",
       "      console.log(\"Bokeh: BokehJS not loaded, scheduling load and callback at\", now());\n",
       "      window._bokeh_is_loading = js_urls.length;\n",
       "      for (var i = 0; i < js_urls.length; i++) {\n",
       "        var url = js_urls[i];\n",
       "        var s = document.createElement('script');\n",
       "        s.src = url;\n",
       "        s.async = false;\n",
       "        s.onreadystatechange = s.onload = function() {\n",
       "          window._bokeh_is_loading--;\n",
       "          if (window._bokeh_is_loading === 0) {\n",
       "            console.log(\"Bokeh: all BokehJS libraries loaded\");\n",
       "            run_callbacks()\n",
       "          }\n",
       "        };\n",
       "        s.onerror = function() {\n",
       "          console.warn(\"failed to load library \" + url);\n",
       "        };\n",
       "        console.log(\"Bokeh: injecting script tag for BokehJS library: \", url);\n",
       "        document.getElementsByTagName(\"head\")[0].appendChild(s);\n",
       "      }\n",
       "    };var element = document.getElementById(\"3a71697e-94df-4b4b-8762-1f6cea4502b3\");\n",
       "    if (element == null) {\n",
       "      console.log(\"Bokeh: ERROR: autoload.js configured with elementid '3a71697e-94df-4b4b-8762-1f6cea4502b3' but no matching script tag was found. \")\n",
       "      return false;\n",
       "    }\n",
       "  \n",
       "    var js_urls = [];\n",
       "  \n",
       "    var inline_js = [\n",
       "      function(Bokeh) {\n",
       "        Bokeh.$(function() {\n",
       "            var docs_json = {\"04649e00-b46b-4efc-9921-a171377fd33a\":{\"roots\":{\"references\":[{\"attributes\":{},\"id\":\"fbe07de6-956a-4d0f-a208-898f2602b73b\",\"type\":\"BasicTickFormatter\"},{\"attributes\":{},\"id\":\"bec0096e-442e-429d-afa6-6a34598a98f6\",\"type\":\"BasicTickFormatter\"},{\"attributes\":{\"data_source\":{\"id\":\"ef036127-b998-46e4-95f2-bf33f1d145d0\",\"type\":\"ColumnDataSource\"},\"glyph\":{\"id\":\"201ead1d-6f5a-4a3e-bf5d-ec0e29933d77\",\"type\":\"Line\"},\"hover_glyph\":null,\"name\":\"2\",\"nonselection_glyph\":{\"id\":\"ce983278-4c58-4a08-a388-9c1522c4b68e\",\"type\":\"Line\"},\"selection_glyph\":null},\"id\":\"3581aa92-69b6-41a2-aedd-bb8768780c80\",\"type\":\"GlyphRenderer\"},{\"attributes\":{\"line_alpha\":{\"value\":0.1},\"line_color\":{\"value\":\"#1f77b4\"},\"line_width\":{\"value\":2},\"x\":{\"field\":\"x\"},\"y\":{\"field\":\"y\"}},\"id\":\"d2420775-f360-4280-a59d-da87baeaace4\",\"type\":\"Line\"},{\"attributes\":{\"data_source\":{\"id\":\"18ab828a-6d6e-41ac-8b91-fa47bc98c787\",\"type\":\"ColumnDataSource\"},\"glyph\":{\"id\":\"d7450a72-0b78-4574-a931-2ac363691606\",\"type\":\"Line\"},\"hover_glyph\":null,\"name\":\"1\",\"nonselection_glyph\":{\"id\":\"d2420775-f360-4280-a59d-da87baeaace4\",\"type\":\"Line\"},\"selection_glyph\":null},\"id\":\"8b4f6f68-7431-4d65-8921-89b46746e9d3\",\"type\":\"GlyphRenderer\"},{\"attributes\":{\"plot\":{\"id\":\"e52d1e87-60aa-4147-9dd4-d28274c83bd3\",\"subtype\":\"Figure\",\"type\":\"Plot\"}},\"id\":\"16fe33af-d315-479c-b137-542280801405\",\"type\":\"PanTool\"},{\"attributes\":{\"callback\":null,\"column_names\":[\"y\",\"x\",\"y\",\"x\"],\"data\":{\"x\":[0.0,0.5,1.0,1.5,2.0,2.5,3.0,3.5,4.0,4.5,5.0,5.5,6.0,6.5,7.0,7.5,8.0,8.5,9.0,9.5,10.0,10.5,11.0,11.5,12.0,12.5,13.0,13.5,14.0,14.5,15.0,15.5,16.0,16.5,17.0,17.5,18.0,18.5,19.0,19.5,20.0,20.5,21.0,21.5,22.0,22.5,23.0,23.5,24.0,24.5,25.0,25.5,26.0,26.5,27.0,27.5,28.0,28.5,29.0,29.5,30.0,30.5,31.0,31.5,32.0,32.5,33.0,33.5,34.0,34.5,35.0,35.5,36.0,36.5,37.0,37.5,38.0,38.5,39.0,39.5,40.0,40.5,41.0,41.5,42.0,42.5,43.0,43.5,44.0,44.5,45.0,45.5,46.0,46.5,47.0,47.5,48.0,48.5,49.0,49.5,50.0,50.5,51.0,51.5,52.0,52.5,53.0,53.5,54.0,54.5,55.0,55.5,56.0,56.5,57.0,57.5,58.0,58.5,59.0,59.5,60.0,60.5,61.0,61.5,62.0,62.5,63.0,63.5,64.0,64.5,65.0,65.5,66.0,66.5,67.0,67.5,68.0,68.5,69.0,69.5,70.0,70.5,71.0,71.5,72.0,72.5,73.0,73.5,74.0,74.5,75.0,75.5,76.0,76.5,77.0,77.5,78.0,78.5,79.0,79.5,80.0,80.5,81.0,81.5,82.0,82.5,83.0,83.5,84.0,84.5,85.0,85.5,86.0,86.5,87.0,87.5,88.0,88.5,89.0,89.5,90.0],\"y\":[0.04000000000000001,0.04000406178040053,0.04001624969960907,0.04003657149439258,0.04006504006852155,0.040101673506521794,0.04014649509295467,0.04019953333725308,0.040260822004149134,0.04033040014973662,0.0404083121632205,0.04049460781441245,0.04058934230704136,0.0406925763379551,0.040804376162297956,0.04092481366475811,0.04105396643698712,0.04119191786130285,0.04133875720079642,0.04149457969597276,0.04165948666806429,0.041833585629166774,0.042016990399356184,0.042209821230956054,0.04241220494013515,0.0426242750460258,0.042846171917564416,0.04307804292826803,0.04332004261917015,0.04357233287015453,0.043835083079934514,0.04410847035494096,0.04439267970739411,0.04468790426284753,0.04499434547750818,0.04531221336564952,0.04564172673745051,0.0459831134476083,0.04633661065508941,0.04670246509439924,0.047080933358768326,0.047472282195670595,0.04787678881510733,0.0482947412111102,0.04872643849693419,0.049172191254434734,0.0496323218981409,0.05010716505456056,0.05059706795727394,0.0511023908583971,0.05162350745701845,0.05216080534523753,0.052714686472460616,0.05328556762863302,0.05387388094711634,0.05448007442794598,0.05510461248223307,0.05574797649850602,0.056410665431815006,0.05709319641645752,0.05779610540321305,0.05851994782200957,0.059265299270978705,0.060032756232892594,0.06082293682001073,0.06163648154840269,0.0624740541428521,0.0633363423734852,0.06422405892530772,0.06513794230187644,0.06607875776437183,0.06704729830738292,0.0680443856727588,0.06907087140292546,0.07012763793511355,0.07121559973798776,0.07233570449221535,0.07348893431656146,0.07467630704114267,0.07589887752952414,0.0771577390513906,0.0784540247075729,0.07978890890926141,0.08116360891328626,0.08257938641539464,0.08403754920350487,0.08553945287296515,0.0870865026058937,0.0886801550167242,0.09032192006612738,0.0920133630455244,0.09375610663445125,0.0955518330330758,0.09740228617220881,0.09930927400318713,0.10127467087004195,0.10330041996639833,0.10538853587957599,0.10754110722439053,0.10976029936916934,0.11204835725651391,0.11440760832134741,0.11684046550879235,0.11934943039441669,0.12193709640937983,0.12460615217298748,0.12735938493514382,0.1301996841311473,0.13313004505123668,0.136153572627234,0.13927348533856634,0.14249311923986663,0.14581593211226543,0.14924550774037282,0.15278556031683652,0.15643993897621838,0.16021263245978543,0.16410777391263454,0.16812964581438755,0.17228268504447952,0.17657148808284046,0.18100081634651657,0.18557560166250753,0.19030095187680443,0.1951821565992885,0.20022469308381466,0.20543423224242965,0.21081664479228232,0.21637800753336334,0.222124609754757,0.22806295976661503,0.2341997915545521,0.24054207155262872,0.24709700553052588,0.25387204558990967,0.2608748972643744,0.2681135267166886,0.2755961680263901,0.2833313305600644,0.291327806415897,0.29959467793332695,0.3081413252578369,0.31697743395008804,0.3261130026277717,0.3355583506276868,0.34532412567465737,0.3554213115430087,0.36586123569539986,0.37665557688287316,0.3878163726890433,0.3993560270003951,0.41128731738369745,0.42362340235060525,0.43637782848854045,0.44956453743602315,0.46319787267967616,0.4772925861492164,0.4918638445858393,0.5069272356585479,0.5224987738021137,0.5385949057495805,0.5552325157314224,0.572428930312784,0.5902019228395288,0.6085697174632426,0.6275509927147589,0.6471648845953156,0.6674309891540264,0.6883693645200268,0.7100005323573969,0.7323454787108016,0.7554256542097235,0.7792629735991801,0.8038798145649344,0.8292990158214533,0.855543874431179,0.8826381423241406,0.9106060219874595,0.939472161295008,0.9692616474482229,1.0]}},\"id\":\"18ab828a-6d6e-41ac-8b91-fa47bc98c787\",\"type\":\"ColumnDataSource\"},{\"attributes\":{},\"id\":\"c3e356ad-bf06-437a-b25e-cde52ef7a886\",\"type\":\"BasicTicker\"},{\"attributes\":{\"formatter\":{\"id\":\"bec0096e-442e-429d-afa6-6a34598a98f6\",\"type\":\"BasicTickFormatter\"},\"plot\":{\"id\":\"e52d1e87-60aa-4147-9dd4-d28274c83bd3\",\"subtype\":\"Figure\",\"type\":\"Plot\"},\"ticker\":{\"id\":\"683283f2-e511-4322-8ec7-ba35b2c6bae8\",\"type\":\"BasicTicker\"}},\"id\":\"494a7874-20b1-4480-90b3-a0b23c3f25b6\",\"type\":\"LinearAxis\"},{\"attributes\":{\"callback\":null,\"column_names\":[\"y\",\"x\",\"y\",\"x\"],\"data\":{\"x\":[0.0,0.5,1.0,1.5,2.0,2.5,3.0,3.5,4.0,4.5,5.0,5.5,6.0,6.5,7.0,7.5,8.0,8.5,9.0,9.5,10.0,10.5,11.0,11.5,12.0,12.5,13.0,13.5,14.0,14.5,15.0,15.5,16.0,16.5,17.0,17.5,18.0,18.5,19.0,19.5,20.0,20.5,21.0,21.5,22.0,22.5,23.0,23.5,24.0,24.5,25.0,25.5,26.0,26.5,27.0,27.5,28.0,28.5,29.0,29.5,30.0,30.5,31.0,31.5,32.0,32.5,33.0,33.5,34.0,34.5,35.0,35.5,36.0,36.5,37.0,37.5,38.0,38.5,39.0,39.5,40.0,40.5,41.0,41.5,42.0,42.5,43.0,43.5,44.0,44.5,45.0,45.5,46.0,46.5,47.0,47.5,48.0,48.5,49.0,49.5,50.0,50.5,51.0,51.5,52.0,52.5,53.0,53.5,54.0,54.5,55.0,55.5,56.0,56.5,57.0,57.5,58.0,58.5,59.0,59.5,60.0,60.5,61.0,61.5,62.0,62.5,63.0,63.5,64.0,64.5,65.0,65.5,66.0,66.5,67.0,67.5,68.0,68.5,69.0,69.5,70.0,70.5,71.0,71.5,72.0,72.5,73.0,73.5,74.0,74.5,75.0,75.5,76.0,76.5,77.0,77.5,78.0,78.5,79.0,79.5,80.0,80.5,81.0,81.5,82.0,82.5,83.0,83.5,84.0,84.5,85.0,85.5,86.0,86.5,87.0,87.5,88.0,88.5,89.0,89.5,90.0],\"y\":[0.04000000000000001,0.03999593840863095,0.03998375332543202,0.03996344382441428,0.03993500836655375,0.0398984448062421,0.03985375040034611,0.039800921819904675,0.03973995516449972,0.03967084597934757,0.03959358927516299,0.039508179550860494,0.039414610819163046,0.039312876635199674,0.03920297012818155,0.039084884036257185,0.03895861074465541,0.038824142327237,0.03868147059158536,0.03853058712777778,0.03837148336099077,0.03820415060810479,0.03802858013848538,0.03784476323913217,0.03765269128439939,0.03745235581050649,0.037243748595072595,0.03702686174192279,0.036801687771433,0.03656821971669456,0.036326451225800305,0.036076376670570814,0.03581799126206167,0.035551291173211326,0.03527627366901339,0.034992937244619736,0.034701281771805106,0.03440130865425134,0.034093020992134924,0.0337764237565332,0.03345152397419265,0.03311833092323712,0.032776856340427644,0.03242711464062107,0.032069123149114726,0.03170290234760349,0.03132847613451966,0.03094587210057104,0.030555121820342073,0.030156261160871545,0.029749330608178165,0.029334375612758878,0.028911446955148787,0.028480601132694152,0.028041900768759287,0.027595415045659908,0.027141220162693543,0.026679399820717948,0.026210045734816386,0.025733258176679236,0.025249146548429992,0.024757829989727066,0.024259438020082052,0.023754111218453354,0.023242001942296173,0.022723275088384173,0.022198108897855656,0.02166669580808776,0.021129243354159825,0.02058597512283525,0.02003713176216984,0.01948297205004629,0.01892377402513469,0.018359836183996673,0.01779147874827865,0.01721904500618391,0.01664290273267394,0.01606344569312512,0.015481095235462594,0.014896301976106538,0.014309547585401398,0.013721346678555277,0.013132248818496927,0.01254284063746382,0.011953748084567806,0.011365638807045993,0.010779224673398686,0.01019526444714132,0.009614566620460127,0.009037992417661624,0.008466458978947489,0.007900942735731992,0.007342482989453282,0.006792185706612656,0.006251227543616534,0.005720860115893084,0.00520241452671673,0.004697306172204693,0.004207039840051525,0.0037332151207513427,0.0032775321513246023,0.0028417977129266787,0.0024279317051744396,0.0020379740215938596,0.001674091852273781,0.0013385874416185883,0.0010339063310352405,0.0007626461184790645,0.000527565769030475,0.00033159551309351257,0.0001778473714120624,6.962634890594831e-05,1.044234235390014e-05,4.022810212578927e-06,5.432625638061676e-05,0.00016555658351635072,0.0003421783756222379,0.0005889331740444314,0.0009108568158323233,0.0013132979085919466,0.0018019375215850236,0.002382810178910371,0.003062326247199326,0.0038472958174103167,0.0047449541880683855,0.005762989065724848,0.006909569607569276,0.008193377441083666,0.009623639806461354,0.011210164979307744,0.01296338014398875,0.01489437190200216,0.01701492961503,0.01933759179901598,0.02187569580384195,0.024643431033110858,0.02765589598035285,0.030929159381855153,0.03448032581248835,0.038327606079605815,0.0424903928016021,0.046989341592325186,0.05184645831059035,0.05708519287591297,0.06273054019769149,0.06880914881589525,0.0753494379073859,0.08238172337391636,0.0899383537962861,0.09805385711482957,0.1067650989802444,0.1161114538116762,0.12613498970206502,0.13688066842523325,0.14839656192647876,0.1607340868200776,0.17394825857490345,0.18809796724536798,0.2032462768013989,0.21946075033082474,0.2368138036333647,0.25538309000084597,0.2752519192872413,0.29650971471916276,0.31925251128772836,0.34358350000220383,0.3696136227813711,0.3974622233181345,0.42725775988550807,0.4591385867685162,0.4932538118188535,0.5297642385516901,0.568843402253322,0.6106787107637277,0.6554727019620961,0.70344443154241,0.7548310064510344,0.8098892814054415,0.8688977382653716,0.9321585707353174,0.9999999999999993]}},\"id\":\"ef036127-b998-46e4-95f2-bf33f1d145d0\",\"type\":\"ColumnDataSource\"},{\"attributes\":{\"below\":[{\"id\":\"09e55a46-30f3-4cb5-a4ea-832cdc7b9994\",\"type\":\"LinearAxis\"}],\"left\":[{\"id\":\"494a7874-20b1-4480-90b3-a0b23c3f25b6\",\"type\":\"LinearAxis\"}],\"plot_height\":300,\"renderers\":[{\"id\":\"09e55a46-30f3-4cb5-a4ea-832cdc7b9994\",\"type\":\"LinearAxis\"},{\"id\":\"821a4266-b067-4c79-ac58-c3d434dd4da1\",\"type\":\"Grid\"},{\"id\":\"494a7874-20b1-4480-90b3-a0b23c3f25b6\",\"type\":\"LinearAxis\"},{\"id\":\"413c67b4-2be5-4b4a-9622-7d0bac26f041\",\"type\":\"Grid\"},{\"id\":\"5b757261-b6f9-4c13-8ab5-5ca6894db278\",\"type\":\"BoxAnnotation\"},{\"id\":\"8b4f6f68-7431-4d65-8921-89b46746e9d3\",\"type\":\"GlyphRenderer\"},{\"id\":\"3581aa92-69b6-41a2-aedd-bb8768780c80\",\"type\":\"GlyphRenderer\"}],\"title\":{\"id\":\"a93c483f-3105-46e7-89c1-b69d12312566\",\"type\":\"Title\"},\"tool_events\":{\"id\":\"050ec8ce-6f10-4498-bf1f-b8c0befa86b0\",\"type\":\"ToolEvents\"},\"toolbar\":{\"id\":\"906b34d3-1d16-44df-b33e-80c073435139\",\"type\":\"Toolbar\"},\"x_range\":{\"id\":\"b835f1f3-33d7-456f-8e48-da84b6c26ebb\",\"type\":\"Range1d\"},\"y_range\":{\"id\":\"ec83459e-5078-4417-b13b-30e48070a776\",\"type\":\"Range1d\"}},\"id\":\"e52d1e87-60aa-4147-9dd4-d28274c83bd3\",\"subtype\":\"Figure\",\"type\":\"Plot\"},{\"attributes\":{\"callback\":null,\"end\":90},\"id\":\"b835f1f3-33d7-456f-8e48-da84b6c26ebb\",\"type\":\"Range1d\"},{\"attributes\":{\"line_alpha\":{\"value\":0.5},\"line_color\":{\"value\":\"#222222\"},\"line_width\":{\"value\":2},\"x\":{\"field\":\"x\"},\"y\":{\"field\":\"y\"}},\"id\":\"201ead1d-6f5a-4a3e-bf5d-ec0e29933d77\",\"type\":\"Line\"},{\"attributes\":{\"plot\":{\"id\":\"e52d1e87-60aa-4147-9dd4-d28274c83bd3\",\"subtype\":\"Figure\",\"type\":\"Plot\"}},\"id\":\"42d88c00-236e-4571-add5-3b8bd09909e3\",\"type\":\"WheelZoomTool\"},{\"attributes\":{\"plot\":{\"id\":\"e52d1e87-60aa-4147-9dd4-d28274c83bd3\",\"subtype\":\"Figure\",\"type\":\"Plot\"}},\"id\":\"93c363a6-039d-490b-9cfd-4b0299e912b0\",\"type\":\"SaveTool\"},{\"attributes\":{\"formatter\":{\"id\":\"fbe07de6-956a-4d0f-a208-898f2602b73b\",\"type\":\"BasicTickFormatter\"},\"plot\":{\"id\":\"e52d1e87-60aa-4147-9dd4-d28274c83bd3\",\"subtype\":\"Figure\",\"type\":\"Plot\"},\"ticker\":{\"id\":\"c3e356ad-bf06-437a-b25e-cde52ef7a886\",\"type\":\"BasicTicker\"}},\"id\":\"09e55a46-30f3-4cb5-a4ea-832cdc7b9994\",\"type\":\"LinearAxis\"},{\"attributes\":{\"bottom_units\":\"screen\",\"fill_alpha\":{\"value\":0.5},\"fill_color\":{\"value\":\"lightgrey\"},\"left_units\":\"screen\",\"level\":\"overlay\",\"line_alpha\":{\"value\":1.0},\"line_color\":{\"value\":\"black\"},\"line_dash\":[4,4],\"line_width\":{\"value\":2},\"plot\":null,\"render_mode\":\"css\",\"right_units\":\"screen\",\"top_units\":\"screen\"},\"id\":\"5b757261-b6f9-4c13-8ab5-5ca6894db278\",\"type\":\"BoxAnnotation\"},{\"attributes\":{\"line_alpha\":{\"value\":0.5},\"line_color\":{\"value\":\"#2222aa\"},\"line_width\":{\"value\":2},\"x\":{\"field\":\"x\"},\"y\":{\"field\":\"y\"}},\"id\":\"d7450a72-0b78-4574-a931-2ac363691606\",\"type\":\"Line\"},{\"attributes\":{\"plot\":{\"id\":\"e52d1e87-60aa-4147-9dd4-d28274c83bd3\",\"subtype\":\"Figure\",\"type\":\"Plot\"}},\"id\":\"3d8dfd82-e7d8-4364-a942-f3c3230c87fd\",\"type\":\"HelpTool\"},{\"attributes\":{\"overlay\":{\"id\":\"5b757261-b6f9-4c13-8ab5-5ca6894db278\",\"type\":\"BoxAnnotation\"},\"plot\":{\"id\":\"e52d1e87-60aa-4147-9dd4-d28274c83bd3\",\"subtype\":\"Figure\",\"type\":\"Plot\"}},\"id\":\"743463a0-cc52-4aa8-b081-9d4b4cc1614c\",\"type\":\"BoxZoomTool\"},{\"attributes\":{\"active_drag\":\"auto\",\"active_scroll\":\"auto\",\"active_tap\":\"auto\",\"tools\":[{\"id\":\"16fe33af-d315-479c-b137-542280801405\",\"type\":\"PanTool\"},{\"id\":\"42d88c00-236e-4571-add5-3b8bd09909e3\",\"type\":\"WheelZoomTool\"},{\"id\":\"743463a0-cc52-4aa8-b081-9d4b4cc1614c\",\"type\":\"BoxZoomTool\"},{\"id\":\"93c363a6-039d-490b-9cfd-4b0299e912b0\",\"type\":\"SaveTool\"},{\"id\":\"a9bb5f1a-d028-484d-b35a-10895349b4bc\",\"type\":\"ResetTool\"},{\"id\":\"3d8dfd82-e7d8-4364-a942-f3c3230c87fd\",\"type\":\"HelpTool\"}]},\"id\":\"906b34d3-1d16-44df-b33e-80c073435139\",\"type\":\"Toolbar\"},{\"attributes\":{},\"id\":\"683283f2-e511-4322-8ec7-ba35b2c6bae8\",\"type\":\"BasicTicker\"},{\"attributes\":{\"callback\":null},\"id\":\"ec83459e-5078-4417-b13b-30e48070a776\",\"type\":\"Range1d\"},{\"attributes\":{},\"id\":\"050ec8ce-6f10-4498-bf1f-b8c0befa86b0\",\"type\":\"ToolEvents\"},{\"attributes\":{\"dimension\":1,\"plot\":{\"id\":\"e52d1e87-60aa-4147-9dd4-d28274c83bd3\",\"subtype\":\"Figure\",\"type\":\"Plot\"},\"ticker\":{\"id\":\"683283f2-e511-4322-8ec7-ba35b2c6bae8\",\"type\":\"BasicTicker\"}},\"id\":\"413c67b4-2be5-4b4a-9622-7d0bac26f041\",\"type\":\"Grid\"},{\"attributes\":{\"plot\":{\"id\":\"e52d1e87-60aa-4147-9dd4-d28274c83bd3\",\"subtype\":\"Figure\",\"type\":\"Plot\"}},\"id\":\"a9bb5f1a-d028-484d-b35a-10895349b4bc\",\"type\":\"ResetTool\"},{\"attributes\":{\"plot\":null,\"text\":\"Reflectivity\"},\"id\":\"a93c483f-3105-46e7-89c1-b69d12312566\",\"type\":\"Title\"},{\"attributes\":{\"line_alpha\":{\"value\":0.1},\"line_color\":{\"value\":\"#1f77b4\"},\"line_width\":{\"value\":2},\"x\":{\"field\":\"x\"},\"y\":{\"field\":\"y\"}},\"id\":\"ce983278-4c58-4a08-a388-9c1522c4b68e\",\"type\":\"Line\"},{\"attributes\":{\"plot\":{\"id\":\"e52d1e87-60aa-4147-9dd4-d28274c83bd3\",\"subtype\":\"Figure\",\"type\":\"Plot\"},\"ticker\":{\"id\":\"c3e356ad-bf06-437a-b25e-cde52ef7a886\",\"type\":\"BasicTicker\"}},\"id\":\"821a4266-b067-4c79-ac58-c3d434dd4da1\",\"type\":\"Grid\"}],\"root_ids\":[\"e52d1e87-60aa-4147-9dd4-d28274c83bd3\"]},\"title\":\"Bokeh Application\",\"version\":\"0.12.2\"}};\n",
       "            var render_items = [{\"docid\":\"04649e00-b46b-4efc-9921-a171377fd33a\",\"elementid\":\"3a71697e-94df-4b4b-8762-1f6cea4502b3\",\"modelid\":\"e52d1e87-60aa-4147-9dd4-d28274c83bd3\",\"notebook_comms_target\":\"9ec3ef8f-a29b-4331-a1d7-7ac54356af03\"}];\n",
       "            \n",
       "            Bokeh.embed.embed_items(docs_json, render_items);\n",
       "        });\n",
       "      },\n",
       "      function(Bokeh) {\n",
       "      }\n",
       "    ];\n",
       "  \n",
       "    function run_inline_js() {\n",
       "      \n",
       "      if ((window.Bokeh !== undefined) || (force === \"1\")) {\n",
       "        for (var i = 0; i < inline_js.length; i++) {\n",
       "          inline_js[i](window.Bokeh);\n",
       "        }if (force === \"1\") {\n",
       "          display_loaded();\n",
       "        }} else if (Date.now() < window._bokeh_timeout) {\n",
       "        setTimeout(run_inline_js, 100);\n",
       "      } else if (!window._bokeh_failed_load) {\n",
       "        console.log(\"Bokeh: BokehJS failed to load within specified timeout.\");\n",
       "        window._bokeh_failed_load = true;\n",
       "      } else if (!force) {\n",
       "        var cell = $(\"#3a71697e-94df-4b4b-8762-1f6cea4502b3\").parents('.cell').data().cell;\n",
       "        cell.output_area.append_execute_result(NB_LOAD_WARNING)\n",
       "      }\n",
       "  \n",
       "    }\n",
       "  \n",
       "    if (window._bokeh_is_loading === 0) {\n",
       "      console.log(\"Bokeh: BokehJS loaded, going straight to plotting\");\n",
       "      run_inline_js();\n",
       "    } else {\n",
       "      load_libs(js_urls, function() {\n",
       "        console.log(\"Bokeh: BokehJS plotting callback run at\", now());\n",
       "        run_inline_js();\n",
       "      });\n",
       "    }\n",
       "  }(this));\n",
       "</script>"
      ]
     },
     "metadata": {},
     "output_type": "display_data"
    },
    {
     "data": {
      "text/html": [
       "<p><code>&lt;Bokeh Notebook handle for <strong>In[4]</strong>&gt;</code></p>"
      ],
      "text/plain": [
       "<bokeh.io._CommsHandle at 0x939f898>"
      ]
     },
     "execution_count": 4,
     "metadata": {},
     "output_type": "execute_result"
    }
   ],
   "source": [
    "angle = np.arange(0, 90.5, 0.5)\n",
    "Rs = perpendicularReflectivity(1, 0, 1.5, 0, angle)\n",
    "Rp = parallelReflectivity(1, 0, 1.5, 0, angle)\n",
    "source1 = ColumnDataSource(data=dict(x=angle, y=Rs))\n",
    "source2 = ColumnDataSource(data=dict(x=angle, y=Rp))\n",
    "reflectivityPlot = figure(title=\"Reflectivity\", plot_height=300, plot_width=600, y_range=(0, 1), x_range=(0,90))\n",
    "reflectivityPlot.line(angle, Rs, color=\"#2222aa\", alpha=0.5, line_width=2, source=source1, name=\"1\")\n",
    "reflectivityPlot.line(angle, Rp, color=\"#222222\", alpha=0.5, line_width=2, source=source2, name=\"2\")\n",
    "show(reflectivityPlot, notebook_handle=True)"
   ]
  },
  {
   "cell_type": "markdown",
   "metadata": {},
   "source": [
    "There we have the reflectivity. But it would be very interesting if we were able to interact and explore the behavior of the reflectivity given different index of refraction for the two media defining the interface.\n",
    "\n",
    "We add interaction capability in the following."
   ]
  },
  {
   "cell_type": "code",
   "execution_count": 5,
   "metadata": {
    "collapsed": false
   },
   "outputs": [],
   "source": [
    "def updateReflectivityPlot(n1=1, k1=0, n2=1.5, k2=0):\n",
    "    source1.data['y'] = perpendicularReflectivity(n1, k1, n2, k2, angle)\n",
    "    source2.data['y'] = parallelReflectivity(n1, k1, n2, k2, angle)\n",
    "    push_notebook()\n",
    "    \n",
    "interact(updateReflectivityPlot, n1=(1, 5, 0.05), k1=(0, 2, 0.01), n2=(1, 5, 0.05), k2=(0, 2, 0.01))"
   ]
  },
  {
   "cell_type": "markdown",
   "metadata": {},
   "source": [
    "## Ellipsometric Angles\n",
    "\n",
    "At this point, we can see how the ellipsometric angles behave.\n",
    "\n",
    "First we define the ellipsometric angles by using the previously defined Fresnel coefficients and then some similar code for plotting and handling the interactivity as for the reflectivity before."
   ]
  },
  {
   "cell_type": "code",
   "execution_count": 6,
   "metadata": {
    "collapsed": false
   },
   "outputs": [],
   "source": [
    "def ellipsometricAngles(n1, n2, angle):\n",
    "    rp = parallelFresnelCoefficient(n1, n2, angle)\n",
    "    rs = perpendicularFresnelCoefficient(n1, n2, angle)\n",
    "    psi = np.arctan(np.abs(rp)/np.abs(rs))*180/np.pi\n",
    "    delta = np.angle(rp, deg=True)-np.angle(rs, deg=True)\n",
    "    \n",
    "    return psi, delta"
   ]
  },
  {
   "cell_type": "code",
   "execution_count": 7,
   "metadata": {
    "collapsed": false
   },
   "outputs": [
    {
     "data": {
      "text/html": [
       "\n",
       "\n",
       "    <div class=\"bk-root\">\n",
       "        <div class=\"plotdiv\" id=\"bc04268f-8019-4bee-9e3b-709f9d444ad1\"></div>\n",
       "    </div>\n",
       "<script type=\"text/javascript\">\n",
       "  \n",
       "  (function(global) {\n",
       "    function now() {\n",
       "      return new Date();\n",
       "    }\n",
       "  \n",
       "    var force = \"\";\n",
       "  \n",
       "    if (typeof (window._bokeh_onload_callbacks) === \"undefined\" || force !== \"\") {\n",
       "      window._bokeh_onload_callbacks = [];\n",
       "      window._bokeh_is_loading = undefined;\n",
       "    }\n",
       "  \n",
       "  \n",
       "    \n",
       "    if (typeof (window._bokeh_timeout) === \"undefined\" || force !== \"\") {\n",
       "      window._bokeh_timeout = Date.now() + 0;\n",
       "      window._bokeh_failed_load = false;\n",
       "    }\n",
       "  \n",
       "    var NB_LOAD_WARNING = {'data': {'text/html':\n",
       "       \"<div style='background-color: #fdd'>\\n\"+\n",
       "       \"<p>\\n\"+\n",
       "       \"BokehJS does not appear to have successfully loaded. If loading BokehJS from CDN, this \\n\"+\n",
       "       \"may be due to a slow or bad network connection. Possible fixes:\\n\"+\n",
       "       \"</p>\\n\"+\n",
       "       \"<ul>\\n\"+\n",
       "       \"<li>re-rerun `output_notebook()` to attempt to load from CDN again, or</li>\\n\"+\n",
       "       \"<li>use INLINE resources instead, as so:</li>\\n\"+\n",
       "       \"</ul>\\n\"+\n",
       "       \"<code>\\n\"+\n",
       "       \"from bokeh.resources import INLINE\\n\"+\n",
       "       \"output_notebook(resources=INLINE)\\n\"+\n",
       "       \"</code>\\n\"+\n",
       "       \"</div>\"}};\n",
       "  \n",
       "    function display_loaded() {\n",
       "      if (window.Bokeh !== undefined) {\n",
       "        Bokeh.$(\"#bc04268f-8019-4bee-9e3b-709f9d444ad1\").text(\"BokehJS successfully loaded.\");\n",
       "      } else if (Date.now() < window._bokeh_timeout) {\n",
       "        setTimeout(display_loaded, 100)\n",
       "      }\n",
       "    }if ((window.Jupyter !== undefined) && Jupyter.notebook.kernel) {\n",
       "      comm_manager = Jupyter.notebook.kernel.comm_manager\n",
       "      comm_manager.register_target(\"6560eda2-2e53-450d-9835-4fc8d2074263\", function () {});\n",
       "    }\n",
       "  \n",
       "    function run_callbacks() {\n",
       "      window._bokeh_onload_callbacks.forEach(function(callback) { callback() });\n",
       "      delete window._bokeh_onload_callbacks\n",
       "      console.info(\"Bokeh: all callbacks have finished\");\n",
       "    }\n",
       "  \n",
       "    function load_libs(js_urls, callback) {\n",
       "      window._bokeh_onload_callbacks.push(callback);\n",
       "      if (window._bokeh_is_loading > 0) {\n",
       "        console.log(\"Bokeh: BokehJS is being loaded, scheduling callback at\", now());\n",
       "        return null;\n",
       "      }\n",
       "      if (js_urls == null || js_urls.length === 0) {\n",
       "        run_callbacks();\n",
       "        return null;\n",
       "      }\n",
       "      console.log(\"Bokeh: BokehJS not loaded, scheduling load and callback at\", now());\n",
       "      window._bokeh_is_loading = js_urls.length;\n",
       "      for (var i = 0; i < js_urls.length; i++) {\n",
       "        var url = js_urls[i];\n",
       "        var s = document.createElement('script');\n",
       "        s.src = url;\n",
       "        s.async = false;\n",
       "        s.onreadystatechange = s.onload = function() {\n",
       "          window._bokeh_is_loading--;\n",
       "          if (window._bokeh_is_loading === 0) {\n",
       "            console.log(\"Bokeh: all BokehJS libraries loaded\");\n",
       "            run_callbacks()\n",
       "          }\n",
       "        };\n",
       "        s.onerror = function() {\n",
       "          console.warn(\"failed to load library \" + url);\n",
       "        };\n",
       "        console.log(\"Bokeh: injecting script tag for BokehJS library: \", url);\n",
       "        document.getElementsByTagName(\"head\")[0].appendChild(s);\n",
       "      }\n",
       "    };var element = document.getElementById(\"bc04268f-8019-4bee-9e3b-709f9d444ad1\");\n",
       "    if (element == null) {\n",
       "      console.log(\"Bokeh: ERROR: autoload.js configured with elementid 'bc04268f-8019-4bee-9e3b-709f9d444ad1' but no matching script tag was found. \")\n",
       "      return false;\n",
       "    }\n",
       "  \n",
       "    var js_urls = [];\n",
       "  \n",
       "    var inline_js = [\n",
       "      function(Bokeh) {\n",
       "        Bokeh.$(function() {\n",
       "            var docs_json = {\"198aa049-3982-4291-94ff-bf698500ee00\":{\"roots\":{\"references\":[{\"attributes\":{},\"id\":\"36581ebf-f91c-4dc1-9a29-d895725ae1ae\",\"type\":\"BasicTickFormatter\"},{\"attributes\":{\"line_alpha\":{\"value\":0.1},\"line_color\":{\"value\":\"#1f77b4\"},\"line_width\":{\"value\":2},\"x\":{\"field\":\"x\"},\"y\":{\"field\":\"y\"}},\"id\":\"d18a99a7-6f54-4a02-834d-ecca216b9ca9\",\"type\":\"Line\"},{\"attributes\":{\"plot\":{\"id\":\"ef2c961d-754e-4b5b-b9f9-59c52a0f5ca7\",\"subtype\":\"Figure\",\"type\":\"Plot\"}},\"id\":\"1d355196-21e8-4e77-ac99-fd363ea43721\",\"type\":\"PanTool\"},{\"attributes\":{\"plot\":{\"id\":\"ef2c961d-754e-4b5b-b9f9-59c52a0f5ca7\",\"subtype\":\"Figure\",\"type\":\"Plot\"},\"ticker\":{\"id\":\"2141b153-5b65-46ee-a8a3-a8eb8dae7abb\",\"type\":\"BasicTicker\"}},\"id\":\"06ab6f35-2364-4258-a2dc-c4caf8bee6d3\",\"type\":\"Grid\"},{\"attributes\":{\"bottom_units\":\"screen\",\"fill_alpha\":{\"value\":0.5},\"fill_color\":{\"value\":\"lightgrey\"},\"left_units\":\"screen\",\"level\":\"overlay\",\"line_alpha\":{\"value\":1.0},\"line_color\":{\"value\":\"black\"},\"line_dash\":[4,4],\"line_width\":{\"value\":2},\"plot\":null,\"render_mode\":\"css\",\"right_units\":\"screen\",\"top_units\":\"screen\"},\"id\":\"c7aaaf76-3b56-49f2-a95f-a922feadc31a\",\"type\":\"BoxAnnotation\"},{\"attributes\":{\"callback\":null,\"end\":50},\"id\":\"443b68c7-e6c7-4ab8-ab05-3d5068af5fea\",\"type\":\"Range1d\"},{\"attributes\":{\"plot\":{\"id\":\"ef2c961d-754e-4b5b-b9f9-59c52a0f5ca7\",\"subtype\":\"Figure\",\"type\":\"Plot\"}},\"id\":\"dd250c38-7d10-4b05-98e7-ce6fd1ca368f\",\"type\":\"ResetTool\"},{\"attributes\":{\"callback\":null,\"column_names\":[\"y\",\"x\",\"y\",\"x\"],\"data\":{\"x\":[0.0,0.5,1.0,1.5,2.0,2.5,3.0,3.5,4.0,4.5,5.0,5.5,6.0,6.5,7.0,7.5,8.0,8.5,9.0,9.5,10.0,10.5,11.0,11.5,12.0,12.5,13.0,13.5,14.0,14.5,15.0,15.5,16.0,16.5,17.0,17.5,18.0,18.5,19.0,19.5,20.0,20.5,21.0,21.5,22.0,22.5,23.0,23.5,24.0,24.5,25.0,25.5,26.0,26.5,27.0,27.5,28.0,28.5,29.0,29.5,30.0,30.5,31.0,31.5,32.0,32.5,33.0,33.5,34.0,34.5,35.0,35.5,36.0,36.5,37.0,37.5,38.0,38.5,39.0,39.5,40.0,40.5,41.0,41.5,42.0,42.5,43.0,43.5,44.0,44.5,45.0,45.5,46.0,46.5,47.0,47.5,48.0,48.5,49.0,49.5,50.0,50.5,51.0,51.5,52.0,52.5,53.0,53.5,54.0,54.5,55.0,55.5,56.0,56.5,57.0,57.5,58.0,58.5,59.0,59.5,60.0,60.5,61.0,61.5,62.0,62.5,63.0,63.5,64.0,64.5,65.0,65.5,66.0,66.5,67.0,67.5,68.0,68.5,69.0,69.5,70.0,70.5,71.0,71.5,72.0,72.5,73.0,73.5,74.0,74.5,75.0,75.5,76.0,76.5,77.0,77.5,78.0,78.5,79.0,79.5,80.0,80.5,81.0,81.5,82.0,82.5,83.0,83.5,84.0,84.5,85.0,85.5,86.0,86.5,87.0,87.5,88.0,88.5,89.0,89.5,90.0],\"y\":[45.0,44.99709103176555,44.988363093308614,44.97381308352142,44.9534358344033,44.92722411184111,44.89516861672595,44.85725798642976,44.813478796673216,44.76381556382289,44.708250747662895,44.64676475469429,44.579335942021764,44.505940621896386,44.42655306698971,44.34114551648417,44.2496881830717,44.15214926096233,44.048494935012926,43.93868939109564,43.82269482783544,43.70047146985563,43.57197758268103,43.437169489458526,43.2960015896663,43.14842637999347,42.994394477584535,42.83385464585387,42.666753823088825,42.49303715407137,42.3126480249623,42.12552810170384,41.93161737221055,41.73085419263125,41.52317533797817,41.30851605743334,41.0868101346545,40.857989953417196,40.62198656894088,40.37872978526097,40.12814823901848,39.87016949005142,39.60472011918107,39.33172583359519,39.051111580237844,38.762801667620614,38.466719896474125,38.1627896996599,37.85093429176188,37.531076828771525,37.20314057827485,36.86704910053659,36.52272644086236,36.17009733359929,35.8090874181102,35.43962346702549,35.06163362704054,34.67504767248139,34.27979727181274,33.875816267201515,33.463040967184526,33.04141045241266,32.61086689435986,32.171355886791936,31.722826789686156,31.265233085180746,30.798532745008654,30.3226886087378,29.837668771996974,29.343446983713363,28.840003051226862,28.32732325197643,27.805400750276068,27.27423601751553,26.733837253932524,26.184220809911864,25.6254116045763,25.057443539241948,24.480359903126246,23.894213768515467,23.299068372430646,22.694997481674072,22.082085737999943,21.460428980034983,20.830134538481758,20.191321501072718,19.544120943712045,18.888676124246327,18.225142635350082,17.553688513099832,16.874494297944306,16.187753044959255,15.493670280508093,14.792463902709486,14.084364023446478,13.369612750031974,12.648463905073207,11.921182683550994,11.18804524663947,10.449338252339146,9.70535832356875,8.956411454956195,8.202812360174484,7.444883762278947,6.682955630104942,5.917364364373429,5.148451937713072,4.376564993333531,3.6020539075657125,2.825271821911016,2.0465736506063883,1.2663150700075598,0.48485149631319563,0.29746294170563353,1.0802764282467945,1.863240477588537,2.646010936177555,3.4282489632853452,4.2096219840892575,4.98980460936867,5.768479516407725,6.545338286153072,7.320082192181393,8.092422937578897,8.862083336409373,9.628797937045007,10.392313585239428,11.152389925429844,11.908799839352627,12.66132982163792,13.40978029260405,14.153965848997297,14.893715453908587,15.62887256754291,16.359295220915733,17.08485603490042,17.805442187350568,18.520955331270674,19.23131146720774,19.936440773186874,20.636287395617742,21.33080920465764,22.019977517534723,22.70377679331458,23.382204302539357,24.055269775082763,24.72299502945348,25.38541358664446,26.042570271473576,26.694520804191857,27.341331384956042,27.98307827357421,28.619847366739087,29.251733774767544,29.87884139966793,30.501282516162668,31.1191773571017,31.732653704517137,32.34184648739018,32.946897387029395,33.547954450796354,34.145171714760316,34.738708835718306,35.32873073288166,35.91540723940442,36.498912763812164,37.079425961283086,37.657129414635875,38.232209324788926,38.804855210375855,39.37525961612905,39.94361782957846,40.5101276055547,41.07498889793474,41.638403598023025,42.20057527892269,42.76170894521671,43.32201078725133,43.881687939289655,44.44094824078392,44.99999999999999]}},\"id\":\"fbd96cc8-4fce-4b90-9c4d-2a40a8d5cf67\",\"type\":\"ColumnDataSource\"},{\"attributes\":{\"active_drag\":\"auto\",\"active_scroll\":\"auto\",\"active_tap\":\"auto\",\"tools\":[{\"id\":\"1d355196-21e8-4e77-ac99-fd363ea43721\",\"type\":\"PanTool\"},{\"id\":\"6ebd273a-0444-409c-b927-cd86fda806a7\",\"type\":\"WheelZoomTool\"},{\"id\":\"b8da9a57-6733-4582-bbbc-4277e809e7e9\",\"type\":\"BoxZoomTool\"},{\"id\":\"4868ca9a-d845-48f2-914c-329f1c1724ee\",\"type\":\"SaveTool\"},{\"id\":\"dd250c38-7d10-4b05-98e7-ce6fd1ca368f\",\"type\":\"ResetTool\"},{\"id\":\"1da5bf09-90aa-4f79-b02b-0fa262212b89\",\"type\":\"HelpTool\"}]},\"id\":\"0f2c6602-73bd-48fe-b0ee-eb3ef809e2d1\",\"type\":\"Toolbar\"},{\"attributes\":{},\"id\":\"1220e986-87e2-4b9c-b90a-5fc9c1fd98b9\",\"type\":\"ToolEvents\"},{\"attributes\":{\"plot\":{\"id\":\"ef2c961d-754e-4b5b-b9f9-59c52a0f5ca7\",\"subtype\":\"Figure\",\"type\":\"Plot\"}},\"id\":\"1da5bf09-90aa-4f79-b02b-0fa262212b89\",\"type\":\"HelpTool\"},{\"attributes\":{},\"id\":\"763699e3-231b-45e6-bb58-dfe11d3aa187\",\"type\":\"BasicTickFormatter\"},{\"attributes\":{},\"id\":\"d0c4d3e4-2b4f-48c0-be83-9a3fecf84e2d\",\"type\":\"BasicTicker\"},{\"attributes\":{},\"id\":\"2141b153-5b65-46ee-a8a3-a8eb8dae7abb\",\"type\":\"BasicTicker\"},{\"attributes\":{\"plot\":{\"id\":\"ef2c961d-754e-4b5b-b9f9-59c52a0f5ca7\",\"subtype\":\"Figure\",\"type\":\"Plot\"}},\"id\":\"4868ca9a-d845-48f2-914c-329f1c1724ee\",\"type\":\"SaveTool\"},{\"attributes\":{\"formatter\":{\"id\":\"763699e3-231b-45e6-bb58-dfe11d3aa187\",\"type\":\"BasicTickFormatter\"},\"plot\":{\"id\":\"ef2c961d-754e-4b5b-b9f9-59c52a0f5ca7\",\"subtype\":\"Figure\",\"type\":\"Plot\"},\"ticker\":{\"id\":\"d0c4d3e4-2b4f-48c0-be83-9a3fecf84e2d\",\"type\":\"BasicTicker\"}},\"id\":\"a4d068b6-cc12-4edd-864d-892e1f57322c\",\"type\":\"LinearAxis\"},{\"attributes\":{\"formatter\":{\"id\":\"36581ebf-f91c-4dc1-9a29-d895725ae1ae\",\"type\":\"BasicTickFormatter\"},\"plot\":{\"id\":\"ef2c961d-754e-4b5b-b9f9-59c52a0f5ca7\",\"subtype\":\"Figure\",\"type\":\"Plot\"},\"ticker\":{\"id\":\"2141b153-5b65-46ee-a8a3-a8eb8dae7abb\",\"type\":\"BasicTicker\"}},\"id\":\"1247363a-2b47-4999-af9d-3246f0b3add5\",\"type\":\"LinearAxis\"},{\"attributes\":{\"callback\":null,\"end\":90},\"id\":\"5d077fcb-94f7-4bae-a78a-235e471e9076\",\"type\":\"Range1d\"},{\"attributes\":{\"below\":[{\"id\":\"1247363a-2b47-4999-af9d-3246f0b3add5\",\"type\":\"LinearAxis\"}],\"left\":[{\"id\":\"a4d068b6-cc12-4edd-864d-892e1f57322c\",\"type\":\"LinearAxis\"}],\"plot_height\":300,\"renderers\":[{\"id\":\"1247363a-2b47-4999-af9d-3246f0b3add5\",\"type\":\"LinearAxis\"},{\"id\":\"06ab6f35-2364-4258-a2dc-c4caf8bee6d3\",\"type\":\"Grid\"},{\"id\":\"a4d068b6-cc12-4edd-864d-892e1f57322c\",\"type\":\"LinearAxis\"},{\"id\":\"3ed4628d-616d-437e-9b7b-80d4e5bacd2e\",\"type\":\"Grid\"},{\"id\":\"c7aaaf76-3b56-49f2-a95f-a922feadc31a\",\"type\":\"BoxAnnotation\"},{\"id\":\"67a875a0-1745-4a85-a418-7a23f65744bc\",\"type\":\"GlyphRenderer\"}],\"title\":{\"id\":\"dbb560c4-0837-4e65-b00c-abc46a32119a\",\"type\":\"Title\"},\"tool_events\":{\"id\":\"1220e986-87e2-4b9c-b90a-5fc9c1fd98b9\",\"type\":\"ToolEvents\"},\"toolbar\":{\"id\":\"0f2c6602-73bd-48fe-b0ee-eb3ef809e2d1\",\"type\":\"Toolbar\"},\"x_range\":{\"id\":\"5d077fcb-94f7-4bae-a78a-235e471e9076\",\"type\":\"Range1d\"},\"y_range\":{\"id\":\"443b68c7-e6c7-4ab8-ab05-3d5068af5fea\",\"type\":\"Range1d\"}},\"id\":\"ef2c961d-754e-4b5b-b9f9-59c52a0f5ca7\",\"subtype\":\"Figure\",\"type\":\"Plot\"},{\"attributes\":{\"plot\":null,\"text\":\"Psi and Delta\"},\"id\":\"dbb560c4-0837-4e65-b00c-abc46a32119a\",\"type\":\"Title\"},{\"attributes\":{\"dimension\":1,\"plot\":{\"id\":\"ef2c961d-754e-4b5b-b9f9-59c52a0f5ca7\",\"subtype\":\"Figure\",\"type\":\"Plot\"},\"ticker\":{\"id\":\"d0c4d3e4-2b4f-48c0-be83-9a3fecf84e2d\",\"type\":\"BasicTicker\"}},\"id\":\"3ed4628d-616d-437e-9b7b-80d4e5bacd2e\",\"type\":\"Grid\"},{\"attributes\":{\"overlay\":{\"id\":\"c7aaaf76-3b56-49f2-a95f-a922feadc31a\",\"type\":\"BoxAnnotation\"},\"plot\":{\"id\":\"ef2c961d-754e-4b5b-b9f9-59c52a0f5ca7\",\"subtype\":\"Figure\",\"type\":\"Plot\"}},\"id\":\"b8da9a57-6733-4582-bbbc-4277e809e7e9\",\"type\":\"BoxZoomTool\"},{\"attributes\":{\"plot\":{\"id\":\"ef2c961d-754e-4b5b-b9f9-59c52a0f5ca7\",\"subtype\":\"Figure\",\"type\":\"Plot\"}},\"id\":\"6ebd273a-0444-409c-b927-cd86fda806a7\",\"type\":\"WheelZoomTool\"},{\"attributes\":{\"data_source\":{\"id\":\"fbd96cc8-4fce-4b90-9c4d-2a40a8d5cf67\",\"type\":\"ColumnDataSource\"},\"glyph\":{\"id\":\"3007b346-cb29-41cb-a25a-d08310e406ac\",\"type\":\"Line\"},\"hover_glyph\":null,\"name\":\"1\",\"nonselection_glyph\":{\"id\":\"d18a99a7-6f54-4a02-834d-ecca216b9ca9\",\"type\":\"Line\"},\"selection_glyph\":null},\"id\":\"67a875a0-1745-4a85-a418-7a23f65744bc\",\"type\":\"GlyphRenderer\"},{\"attributes\":{\"line_alpha\":{\"value\":0.5},\"line_color\":{\"value\":\"#2222aa\"},\"line_width\":{\"value\":2},\"x\":{\"field\":\"x\"},\"y\":{\"field\":\"y\"}},\"id\":\"3007b346-cb29-41cb-a25a-d08310e406ac\",\"type\":\"Line\"}],\"root_ids\":[\"ef2c961d-754e-4b5b-b9f9-59c52a0f5ca7\"]},\"title\":\"Bokeh Application\",\"version\":\"0.12.2\"}};\n",
       "            var render_items = [{\"docid\":\"198aa049-3982-4291-94ff-bf698500ee00\",\"elementid\":\"bc04268f-8019-4bee-9e3b-709f9d444ad1\",\"modelid\":\"ef2c961d-754e-4b5b-b9f9-59c52a0f5ca7\",\"notebook_comms_target\":\"6560eda2-2e53-450d-9835-4fc8d2074263\"}];\n",
       "            \n",
       "            Bokeh.embed.embed_items(docs_json, render_items);\n",
       "        });\n",
       "      },\n",
       "      function(Bokeh) {\n",
       "      }\n",
       "    ];\n",
       "  \n",
       "    function run_inline_js() {\n",
       "      \n",
       "      if ((window.Bokeh !== undefined) || (force === \"1\")) {\n",
       "        for (var i = 0; i < inline_js.length; i++) {\n",
       "          inline_js[i](window.Bokeh);\n",
       "        }if (force === \"1\") {\n",
       "          display_loaded();\n",
       "        }} else if (Date.now() < window._bokeh_timeout) {\n",
       "        setTimeout(run_inline_js, 100);\n",
       "      } else if (!window._bokeh_failed_load) {\n",
       "        console.log(\"Bokeh: BokehJS failed to load within specified timeout.\");\n",
       "        window._bokeh_failed_load = true;\n",
       "      } else if (!force) {\n",
       "        var cell = $(\"#bc04268f-8019-4bee-9e3b-709f9d444ad1\").parents('.cell').data().cell;\n",
       "        cell.output_area.append_execute_result(NB_LOAD_WARNING)\n",
       "      }\n",
       "  \n",
       "    }\n",
       "  \n",
       "    if (window._bokeh_is_loading === 0) {\n",
       "      console.log(\"Bokeh: BokehJS loaded, going straight to plotting\");\n",
       "      run_inline_js();\n",
       "    } else {\n",
       "      load_libs(js_urls, function() {\n",
       "        console.log(\"Bokeh: BokehJS plotting callback run at\", now());\n",
       "        run_inline_js();\n",
       "      });\n",
       "    }\n",
       "  }(this));\n",
       "</script>"
      ]
     },
     "metadata": {},
     "output_type": "display_data"
    },
    {
     "data": {
      "text/html": [
       "<p><code>&lt;Bokeh Notebook handle for <strong>In[7]</strong>&gt;</code></p>"
      ],
      "text/plain": [
       "<bokeh.io._CommsHandle at 0x93ea940>"
      ]
     },
     "execution_count": 7,
     "metadata": {},
     "output_type": "execute_result"
    }
   ],
   "source": [
    "psi, delta = ellipsometricAngles(1, 1.5, angle)\n",
    "source1 = ColumnDataSource(data=dict(x=angle, y=psi))\n",
    "#source2 = ColumnDataSource(data=dict(x=angle, y=delta))\n",
    "ellipsometryPlot = figure(title=\"Psi and Delta\", plot_height=300, plot_width=600, y_range=(0, 50), x_range=(0,90))\n",
    "ellipsometryPlot.line(angle, psi, color=\"#2222aa\", alpha=0.5, line_width=2, source=source1, name=\"1\")\n",
    "#ellipsometryPlot.line(angle, delta, color=\"#222222\", alpha=0.5, line_width=2, source=source1, name=\"2\")\n",
    "\n",
    "def updateEllipsometryPlot(n1=1, k1=0, n2=1.5, k2=0):\n",
    "    source1.data['y'] = ellipsometricAngles(n1+1j*k1, n2+1j*k2, angle)[0]\n",
    "    #source2.data['y'] = ellipsometricAngles(n1+1j*k1, n2+1j*k2, angle)[1]\n",
    "    push_notebook()\n",
    "    \n",
    "show(ellipsometryPlot, notebook_handle=True)"
   ]
  },
  {
   "cell_type": "code",
   "execution_count": 8,
   "metadata": {
    "collapsed": false
   },
   "outputs": [],
   "source": [
    "interact(updateEllipsometryPlot, n1=(1,5, 0.05), k1=(0, 2, 0.01), n2=(1,5, 0.05), k2=(0, 2, 0.01))"
   ]
  }
 ],
 "metadata": {
  "anaconda-cloud": {},
  "kernelspec": {
   "display_name": "Python [conda root]",
   "language": "python",
   "name": "conda-root-py"
  },
  "language_info": {
   "codemirror_mode": {
    "name": "ipython",
    "version": 3
   },
   "file_extension": ".py",
   "mimetype": "text/x-python",
   "name": "python",
   "nbconvert_exporter": "python",
   "pygments_lexer": "ipython3",
   "version": "3.5.2"
  },
  "widgets": {
   "state": {
    "3d989ef7092d4319869e84fc35fd0af3": {
     "views": [
      {
       "cell_index": 11
      }
     ]
    },
    "f34ed8d7efad4a6491de84ab5bffaeba": {
     "views": [
      {
       "cell_index": 15
      }
     ]
    }
   },
   "version": "1.2.0"
  }
 },
 "nbformat": 4,
 "nbformat_minor": 1
}
