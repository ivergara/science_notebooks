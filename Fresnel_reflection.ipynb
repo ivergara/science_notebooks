{
 "cells": [
  {
   "cell_type": "code",
   "execution_count": null,
   "metadata": {
    "collapsed": false
   },
   "outputs": [],
   "source": [
    "from bokeh.io import output_notebook, show\n",
    "from bokeh.plotting import figure\n",
    "output_notebook()\n",
    "\n",
    "from bokeh.io import push_notebook\n",
    "from bokeh.models import ColumnDataSource\n",
    "\n",
    "import numpy as np"
   ]
  },
  {
   "cell_type": "code",
   "execution_count": null,
   "metadata": {
    "collapsed": false
   },
   "outputs": [],
   "source": [
    "def perpendicularReflection(n1, n2, theta):\n",
    "    ci = np.cos(theta*np.pi/180)\n",
    "    si = np.sin(theta*np.pi/180)\n",
    "    temp1 = n1*ci\n",
    "    temp2 = n2*np.sqrt(1-(n1/n2*si)**2)\n",
    "    num = temp1-temp2\n",
    "    den = temp1+temp2\n",
    "    return np.abs(num/den)**2\n",
    "\n",
    "def parallelReflection(n1, n2, theta):\n",
    "    ci = np.cos(theta*np.pi/180)\n",
    "    si = np.sin(theta*np.pi/180)\n",
    "    temp1 = n1*np.sqrt(1-(n1/n2*si)**2)\n",
    "    temp2 = n2*ci\n",
    "    num = temp1-temp2\n",
    "    den = temp1+temp2\n",
    "    return np.abs(num/den)**2\n",
    "\n",
    "def perpendicularReflectionWrapper(n1,k1,n2,k2,theta):\n",
    "    return perpendicularReflection(n1+k1*1j, n2+k2*1j, theta)\n",
    "\n",
    "def parallelReflectionWrapper(n1,k1,n2,k2,theta):\n",
    "    return parallelReflection(n1+k1*1j, n2+k2*1j, theta)"
   ]
  },
  {
   "cell_type": "code",
   "execution_count": null,
   "metadata": {
    "collapsed": false
   },
   "outputs": [],
   "source": [
    "angle = np.arange(0, 90.5, 0.5)\n",
    "Rs = perpendicularReflectionWrapper(1, 0, 1.5, 0, angle)\n",
    "Rp = parallelReflectionWrapper(1, 0, 1.5, 0, angle)\n",
    "source1 = ColumnDataSource(data=dict(x=angle, y=Rs))\n",
    "source2 = ColumnDataSource(data=dict(x=angle, y=Rp))\n",
    "p = figure(title=\"Reflectivity\", plot_height=300, plot_width=600, y_range=(0, 1), x_range=(0,90))\n",
    "p.line(angle, Rs, color=\"#2222aa\", alpha=0.5, line_width=2, source=source1, name=\"1\")\n",
    "p.line(angle, Rp, color=\"#222222\", alpha=0.5, line_width=2, source=source2, name=\"2\")"
   ]
  },
  {
   "cell_type": "code",
   "execution_count": null,
   "metadata": {
    "collapsed": false
   },
   "outputs": [],
   "source": [
    "def update(n1=1, k1=0, n2=1.5, k2=0):\n",
    "    #angle = np.arange(0,90.5,0.5)\n",
    "    source1.data['y'] = perpendicularReflectionWrapper(n1,k1,n2,k2,angle)\n",
    "    source2.data['y'] = parallelReflectionWrapper(n1,k1,n2,k2,angle)\n",
    "    push_notebook()\n",
    "    \n",
    "show(p, notebook_handle=True)"
   ]
  },
  {
   "cell_type": "code",
   "execution_count": null,
   "metadata": {
    "collapsed": false,
    "scrolled": true
   },
   "outputs": [],
   "source": [
    "from ipywidgets import interact\n",
    "interact(update, n1=(1,5, 0.1), k1=(0, 5, 0.1), n2=(1,5, 0.1), k2=(0, 5, 0.1))"
   ]
  }
 ],
 "metadata": {
  "anaconda-cloud": {},
  "kernelspec": {
   "display_name": "Python [conda root]",
   "language": "python",
   "name": "conda-root-py"
  },
  "language_info": {
   "codemirror_mode": {
    "name": "ipython",
    "version": 3
   },
   "file_extension": ".py",
   "mimetype": "text/x-python",
   "name": "python",
   "nbconvert_exporter": "python",
   "pygments_lexer": "ipython3",
   "version": "3.5.2"
  }
 },
 "nbformat": 4,
 "nbformat_minor": 1
}
