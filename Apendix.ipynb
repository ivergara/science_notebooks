{
 "cells": [
  {
   "cell_type": "markdown",
   "metadata": {},
   "source": [
    "# Apendix\n",
    "\n",
    "Here we show the code to calculate the transition matrix elements of a $d^4$ system like the one explored in chapter 5 for the ruthenate Ca2RuO4. First, we explore a small toy example to test the logic of the calculation and then we proceed to calculate the transition matrix elements of interest."
   ]
  },
  {
   "cell_type": "code",
   "execution_count": 1,
   "metadata": {},
   "outputs": [],
   "source": [
    "# Importing necessary extensions\n",
    "import numpy as np\n",
    "import itertools\n",
    "import functools\n",
    "import operator\n",
    "\n",
    "from typing import List"
   ]
  },
  {
   "cell_type": "code",
   "execution_count": 2,
   "metadata": {},
   "outputs": [],
   "source": [
    "def is_allowed(initial, final):\n",
    "    jump = np.logical_xor(initial,final)  # creates the representation of where the spins changed\n",
    "    # We must check whether only two changes were performed, meanign one jump.\n",
    "    if np.unique(np.remainder(np.nonzero(jump),2)).size == 1:\n",
    "        return 1\n",
    "    return 0"
   ]
  },
  {
   "cell_type": "markdown",
   "metadata": {},
   "source": [
    "## Exploration\n",
    "\n",
    "Let us first explore the $d^4$ system. For this, we create the function to generate the list representation of states."
   ]
  },
  {
   "cell_type": "code",
   "execution_count": 3,
   "metadata": {},
   "outputs": [],
   "source": [
    "def generate_states(electrons: int, levels: int):\n",
    "    \"\"\"Generates the list representation of a given number of electrons and levels (degeneracy not considered).\"\"\"\n",
    "    seed = [1 if position < electrons else 0 for position in range(levels)]\n",
    "    generated_states = list(set(itertools.permutations(seed)))  # with set we filter out repeated states\n",
    "    generated_states.sort(reverse=True)\n",
    "    return generated_states"
   ]
  },
  {
   "cell_type": "markdown",
   "metadata": {},
   "source": [
    "With this we can generate states of 3, 4, and 5 electrons in a 3 level system with degeneracy 2 meaning 6 levels in total."
   ]
  },
  {
   "cell_type": "code",
   "execution_count": 4,
   "metadata": {},
   "outputs": [],
   "source": [
    "states_d3 = generate_states(3,6)\n",
    "states_d4 = generate_states(4,6)\n",
    "states_d5 = generate_states(5,6)"
   ]
  },
  {
   "cell_type": "markdown",
   "metadata": {},
   "source": [
    "We can consider first the $d^4$ states and take a look at them."
   ]
  },
  {
   "cell_type": "code",
   "execution_count": 5,
   "metadata": {},
   "outputs": [
    {
     "data": {
      "text/plain": [
       "[(1, 1, 1, 1, 0, 0),\n",
       " (1, 1, 1, 0, 1, 0),\n",
       " (1, 1, 1, 0, 0, 1),\n",
       " (1, 1, 0, 1, 1, 0),\n",
       " (1, 1, 0, 1, 0, 1),\n",
       " (1, 1, 0, 0, 1, 1),\n",
       " (1, 0, 1, 1, 1, 0),\n",
       " (1, 0, 1, 1, 0, 1),\n",
       " (1, 0, 1, 0, 1, 1),\n",
       " (1, 0, 0, 1, 1, 1),\n",
       " (0, 1, 1, 1, 1, 0),\n",
       " (0, 1, 1, 1, 0, 1),\n",
       " (0, 1, 1, 0, 1, 1),\n",
       " (0, 1, 0, 1, 1, 1),\n",
       " (0, 0, 1, 1, 1, 1)]"
      ]
     },
     "execution_count": 5,
     "metadata": {},
     "output_type": "execute_result"
    }
   ],
   "source": [
    "states_d4"
   ]
  },
  {
   "cell_type": "markdown",
   "metadata": {},
   "source": [
    "There is quite a list of generated states, but not all generated states are relevant for the problem. This means that we can reduce the amount of states beforehand. \n",
    "\n",
    "From all the $d^4$ states, we consider only those with a full $d_{xy}$ orbital and those which distribute the other two electrons in different orbitals as possible initial states since those are the possible ground states for the Ca2RuO4 system. In our representations, this means only the states that have a 1 in the first two entiresand no double occupancy in $zx$ or $yz$ orbitals."
   ]
  },
  {
   "cell_type": "code",
   "execution_count": 6,
   "metadata": {},
   "outputs": [
    {
     "data": {
      "text/plain": [
       "[[1, 1, 1, 0, 1, 0],\n",
       " [1, 1, 1, 0, 0, 1],\n",
       " [1, 1, 0, 1, 1, 0],\n",
       " [1, 1, 0, 1, 0, 1]]"
      ]
     },
     "execution_count": 6,
     "metadata": {},
     "output_type": "execute_result"
    }
   ],
   "source": [
    "possible_states_d4 = [list(state) for state in states_d4    # select from all the d4 states those that fulfill the following two contiditions\n",
    "                      if state[0]==1 and state[1]==1        # 1) dxy orbital double occupancy\n",
    "                      and state[2] is not state[3]          # 2) dzx/dyz orbital single occupancy\n",
    "                     ]\n",
    "possible_states_d4"
   ]
  },
  {
   "cell_type": "markdown",
   "metadata": {},
   "source": [
    "We obtain 4 different $d^4$ states that fullfill the conditions previously indicated.\n",
    "\n",
    "Regarding the $d^3$ states, we want at least those which keep one electron in the $d_{xy}$ orbital since we know that the others states are not reachable with one movement as required by optical spectroscopy."
   ]
  },
  {
   "cell_type": "code",
   "execution_count": 7,
   "metadata": {},
   "outputs": [
    {
     "data": {
      "text/plain": [
       "[[1, 1, 1, 0, 0, 0],\n",
       " [1, 1, 0, 1, 0, 0],\n",
       " [1, 1, 0, 0, 1, 0],\n",
       " [1, 1, 0, 0, 0, 1],\n",
       " [1, 0, 1, 1, 0, 0],\n",
       " [1, 0, 1, 0, 1, 0],\n",
       " [1, 0, 1, 0, 0, 1],\n",
       " [1, 0, 0, 1, 1, 0],\n",
       " [1, 0, 0, 1, 0, 1],\n",
       " [1, 0, 0, 0, 1, 1],\n",
       " [0, 1, 1, 1, 0, 0],\n",
       " [0, 1, 1, 0, 1, 0],\n",
       " [0, 1, 1, 0, 0, 1],\n",
       " [0, 1, 0, 1, 1, 0],\n",
       " [0, 1, 0, 1, 0, 1],\n",
       " [0, 1, 0, 0, 1, 1]]"
      ]
     },
     "execution_count": 7,
     "metadata": {},
     "output_type": "execute_result"
    }
   ],
   "source": [
    "possible_states_d3 = [list(state) for state in states_d3 if state[0]==1 or state[1]==1]\n",
    "possible_states_d3"
   ]
  },
  {
   "cell_type": "markdown",
   "metadata": {},
   "source": [
    "In the case of the $d^5$ states, since our ground state has a doule occupied $d_{xy}$ orbital then it has to stay occupied."
   ]
  },
  {
   "cell_type": "code",
   "execution_count": 8,
   "metadata": {},
   "outputs": [
    {
     "data": {
      "text/plain": [
       "[[1, 1, 1, 1, 1, 0],\n",
       " [1, 1, 1, 1, 0, 1],\n",
       " [1, 1, 1, 0, 1, 1],\n",
       " [1, 1, 0, 1, 1, 1]]"
      ]
     },
     "execution_count": 8,
     "metadata": {},
     "output_type": "execute_result"
    }
   ],
   "source": [
    "possible_states_d5 = [list(state) for state in states_d5 if state[0]==1 and state[1]==1]\n",
    "possible_states_d5 "
   ]
  },
  {
   "cell_type": "markdown",
   "metadata": {},
   "source": [
    "We could generate all $d^3d^5$ combinations and check how many of them there are."
   ]
  },
  {
   "cell_type": "code",
   "execution_count": 9,
   "metadata": {},
   "outputs": [
    {
     "name": "stdout",
     "output_type": "stream",
     "text": [
      "The number of combined states is:  64\n"
     ]
    }
   ],
   "source": [
    "def combine_states(first: List, second: List):\n",
    "    \"\"\"Takes to lists of list representations of states and returns the list representation of a two-site state.\"\"\"\n",
    "    # Producing all the possible final states. This has to be read from bottom to top.\n",
    "    final_states = [\n",
    "                    functools.reduce(operator.add, combination)  # 3) the single site representations are combined into one single two-site representation\n",
    "                            for combination                      # 2) we iterate over all the combinations produced\n",
    "                            in itertools.product(first, second)  # 1) make the product of the given first and second states\n",
    "                   ]\n",
    "    \n",
    "    final_states.sort(reverse=True)\n",
    "    \n",
    "    return final_states\n",
    "\n",
    "print(\"The number of combined states is: \", len(combine_states(possible_states_d3,possible_states_d5)))"
   ]
  },
  {
   "cell_type": "markdown",
   "metadata": {},
   "source": [
    "We already saw in the previous section how we can check if a transition is allowed in our list codification of the states. Here we will make it a function slightly more flexible than what we had before."
   ]
  },
  {
   "cell_type": "code",
   "execution_count": 10,
   "metadata": {},
   "outputs": [],
   "source": [
    "def transition(initial: List, final: List[List[int]], debug = False):\n",
    "    \"\"\"This function takes the list representation of an initial state and a list of\n",
    "    final d3 states. Then, it computes if the transition from the initial state to the \n",
    "    compounded d3d5 final state is possible.\n",
    "    \"\"\"\n",
    "    \n",
    "    final_states = combine_states(final, list(possible_states_d5))\n",
    "    \n",
    "\n",
    "        \n",
    "    print(\"From initial state {}\".format(initial))\n",
    "    \n",
    "    # We iterate over all final states and test whether the transition \n",
    "    # from the given initial state is allowed\n",
    "    for state in final_states:\n",
    "        allowed = is_allowed(initial, state)\n",
    "        if allowed:\n",
    "            print(\"       final state {} is allowed.\".format(state))\n",
    "        else:\n",
    "            if debug:\n",
    "                print(\"       final state {} not allowed\".format(state))"
   ]
  },
  {
   "cell_type": "code",
   "execution_count": 11,
   "metadata": {},
   "outputs": [
    {
     "name": "stdout",
     "output_type": "stream",
     "text": [
      "From initial state [1, 1, 0, 1, 0, 1, 1, 1, 1, 0, 1, 0]\n"
     ]
    }
   ],
   "source": [
    "transition(initial=[1, 1, 0, 1, 0, 1, 1, 1, 1, 0, 1, 0], final=[[1,0,1,0,1,0],[0,1,0,1,0,1]])"
   ]
  },
  {
   "cell_type": "markdown",
   "metadata": {},
   "source": [
    "With this, we can now explore the transitions between the different ground states and multiplets ($^4A_2$, $^2E_a$, $^2E_b$, $^2T_1$, and $^2T_2$ for the $d_3#).\n",
    "\n",
    "Concerning the $d_4$ states, as explained in chapter X, there is the possibility to be in the $S_z=\\pm1$ or $S_z=0$.\n",
    "\n",
    "We will cover each one of them in the following.\n",
    "\n",
    "## $d^3$ multiplet $^4A_2$\n",
    "\n",
    "### $S_z=\\pm1$\n",
    "\n",
    "Starting with the pure $S_z=\\pm1$ initial states, meaning $d_{\\uparrow}^4d_{\\uparrow}^4$ and $d_{\\uparrow}^4d_{\\downarrow}^4$, we have the following representations:"
   ]
  },
  {
   "cell_type": "code",
   "execution_count": 12,
   "metadata": {},
   "outputs": [],
   "source": [
    "AFM_down = [1,1,0,1,0,1,1,1,1,0,1,0]\n",
    "FM_down  = [1,1,0,1,0,1,1,1,0,1,0,1]\n",
    "\n",
    "AFM_up = [1,1,1,0,1,0,1,1,0,1,0,1]\n",
    "FM_up  = [1,1,1,0,1,0,1,1,1,0,1,0]"
   ]
  },
  {
   "cell_type": "markdown",
   "metadata": {},
   "source": [
    "Then, the representation for a $|^4A_2,3/2>$ multiplet is given by"
   ]
  },
  {
   "cell_type": "code",
   "execution_count": 13,
   "metadata": {},
   "outputs": [],
   "source": [
    "A2_32   = [[1,0,1,0,1,0], [0,1,0,1,0,1]]"
   ]
  },
  {
   "cell_type": "markdown",
   "metadata": {},
   "source": [
    "and thus the transition between the initial states and the finals states given in the previous multiplet are"
   ]
  },
  {
   "cell_type": "code",
   "execution_count": 14,
   "metadata": {},
   "outputs": [
    {
     "name": "stdout",
     "output_type": "stream",
     "text": [
      "AFM states\n",
      "From initial state [1, 1, 0, 1, 0, 1, 1, 1, 1, 0, 1, 0]\n",
      "From initial state [1, 1, 1, 0, 1, 0, 1, 1, 0, 1, 0, 1]\n",
      "\n",
      "FM states\n",
      "From initial state [1, 1, 0, 1, 0, 1, 1, 1, 0, 1, 0, 1]\n",
      "       final state [0, 1, 0, 1, 0, 1, 1, 1, 1, 1, 0, 1] is allowed.\n",
      "       final state [0, 1, 0, 1, 0, 1, 1, 1, 0, 1, 1, 1] is allowed.\n",
      "From initial state [1, 1, 1, 0, 1, 0, 1, 1, 1, 0, 1, 0]\n",
      "       final state [1, 0, 1, 0, 1, 0, 1, 1, 1, 1, 1, 0] is allowed.\n",
      "       final state [1, 0, 1, 0, 1, 0, 1, 1, 1, 0, 1, 1] is allowed.\n"
     ]
    }
   ],
   "source": [
    "print(\"AFM states\")\n",
    "transition(AFM_down, A2_32)\n",
    "transition(AFM_up, A2_32)\n",
    "print(\"\\nFM states\")\n",
    "transition(FM_down, A2_32)\n",
    "transition(FM_up, A2_32)"
   ]
  },
  {
   "cell_type": "markdown",
   "metadata": {},
   "source": [
    "We see that the AFM initial state has no transition matrix whereas the FM one is allowed. Comparing the initial and final states list representations and considering the $|^4A_2,3/2>$ prefactor, the matrix element is $t_{xy,xz}$.\n",
    "\n",
    "Now we proceed with the $|^4A_2,1/2>$ multiple, which has the following representation:"
   ]
  },
  {
   "cell_type": "code",
   "execution_count": 15,
   "metadata": {},
   "outputs": [
    {
     "name": "stdout",
     "output_type": "stream",
     "text": [
      "AFM states\n",
      "From initial state [1, 1, 0, 1, 0, 1, 1, 1, 1, 0, 1, 0]\n",
      "       final state [1, 0, 0, 1, 0, 1, 1, 1, 1, 1, 1, 0] is allowed.\n",
      "       final state [1, 0, 0, 1, 0, 1, 1, 1, 1, 0, 1, 1] is allowed.\n",
      "\n",
      "FM states\n",
      "From initial state [1, 1, 0, 1, 0, 1, 1, 1, 0, 1, 0, 1]\n"
     ]
    }
   ],
   "source": [
    "A2_12 = [[1,0,0,1,0,1],[0,1,1,0,0,1],[0,1,0,1,1,0]]  # 4A2 Sz=1/2 d3 multiplet one spin up\n",
    "print(\"AFM states\")\n",
    "transition(AFM_down, A2_12)\n",
    "print(\"\\nFM states\")\n",
    "transition(FM_down, A2_12)"
   ]
  },
  {
   "cell_type": "markdown",
   "metadata": {},
   "source": [
    "Here, only the AFM initial state is allowed. Once again, checking the prefactor for the multiplet we get a transition matrix element of $t_{xy,xz}/\\sqrt{3}$.\n",
    "\n",
    "When summing both contributions we obtain $\\left(1+1\\sqrt{3}\\right)t_{xy,xz}$, as it could have been obtained easily by hand.\n",
    "\n",
    "### $S_z=0$\n",
    "\n",
    "The case of $S_z=0$ is handled similarly. We start with the $d_0^4d_\\uparrow^4$ initial state. For this, we will split the $d_0^4$ in the two parts."
   ]
  },
  {
   "cell_type": "code",
   "execution_count": 16,
   "metadata": {},
   "outputs": [],
   "source": [
    "S0_1 = [1, 1, 1, 0, 0, 1]\n",
    "S0_2 = [1, 1, 0, 1, 1, 0]"
   ]
  },
  {
   "cell_type": "markdown",
   "metadata": {},
   "source": [
    "and then we add the $d^4_\\uparrow$ representation to each one. Thus, for the $|^4A_2,3/2>$ $d^3$ multiplet we get"
   ]
  },
  {
   "cell_type": "code",
   "execution_count": 17,
   "metadata": {},
   "outputs": [
    {
     "name": "stdout",
     "output_type": "stream",
     "text": [
      "From initial state [1, 1, 1, 0, 0, 1, 1, 1, 1, 0, 1, 0]\n",
      "From initial state [1, 1, 0, 1, 1, 0, 1, 1, 1, 0, 1, 0]\n"
     ]
    }
   ],
   "source": [
    "transition(S0_1 + [1, 1, 1, 0, 1, 0], A2_32)\n",
    "transition(S0_2 + [1, 1, 1, 0, 1, 0], A2_32)"
   ]
  },
  {
   "cell_type": "markdown",
   "metadata": {},
   "source": [
    "that there is no allowed transition. doing the same for the $|^4A_2,1/2>$ $d_3$ multiplet"
   ]
  },
  {
   "cell_type": "code",
   "execution_count": 18,
   "metadata": {},
   "outputs": [
    {
     "name": "stdout",
     "output_type": "stream",
     "text": [
      "From initial state [1, 1, 1, 0, 0, 1, 1, 1, 0, 1, 0, 1]\n",
      "       final state [0, 1, 1, 0, 0, 1, 1, 1, 1, 1, 0, 1] is allowed.\n",
      "       final state [0, 1, 1, 0, 0, 1, 1, 1, 0, 1, 1, 1] is allowed.\n",
      "From initial state [1, 1, 0, 1, 1, 0, 1, 1, 0, 1, 0, 1]\n",
      "       final state [0, 1, 0, 1, 1, 0, 1, 1, 1, 1, 0, 1] is allowed.\n",
      "       final state [0, 1, 0, 1, 1, 0, 1, 1, 0, 1, 1, 1] is allowed.\n"
     ]
    }
   ],
   "source": [
    "transition(S0_1 + [1, 1, 0, 1, 0, 1], A2_12)\n",
    "transition(S0_2 + [1, 1, 0, 1, 0, 1], A2_12)"
   ]
  },
  {
   "cell_type": "markdown",
   "metadata": {},
   "source": [
    "Here, both parts of the $S_z=0$ state contribute. Checking the prefactors for $S_z=0$ ($1/\\sqrt{2}$) and $|^4A_2,1/2>$ ($1/\\sqrt{3}$) we get a matrix element "
   ]
  },
  {
   "cell_type": "code",
   "execution_count": null,
   "metadata": {},
   "outputs": [],
   "source": []
  },
  {
   "cell_type": "markdown",
   "metadata": {},
   "source": [
    "Continuing with the $d^4_0d^4_0$ the situation gets more complicated. In this case, we construct the four combinations for the initial state and calculate each one of them to later sum them up."
   ]
  },
  {
   "cell_type": "code",
   "execution_count": 19,
   "metadata": {},
   "outputs": [
    {
     "name": "stdout",
     "output_type": "stream",
     "text": [
      "From initial state [1, 1, 1, 0, 0, 1, 1, 1, 1, 0, 0, 1]\n",
      "From initial state [1, 1, 1, 0, 0, 1, 1, 1, 0, 1, 1, 0]\n",
      "From initial state [1, 1, 0, 1, 1, 0, 1, 1, 1, 0, 0, 1]\n",
      "From initial state [1, 1, 0, 1, 1, 0, 1, 1, 0, 1, 1, 0]\n"
     ]
    }
   ],
   "source": [
    "transition(S0_1 + S0_1, A2_32)\n",
    "transition(S0_1 + S0_2, A2_32)\n",
    "transition(S0_2 + S0_1, A2_32)\n",
    "transition(S0_2 + S0_2, A2_32)"
   ]
  },
  {
   "cell_type": "markdown",
   "metadata": {},
   "source": [
    "No transitions from the $d^4_0d^4_0$ state to $|^4A_2,3/2>$.\n",
    "\n",
    "And now, goint into the $|^4A_2,1/2>$ multiplet"
   ]
  },
  {
   "cell_type": "code",
   "execution_count": 20,
   "metadata": {},
   "outputs": [
    {
     "name": "stdout",
     "output_type": "stream",
     "text": [
      "From initial state [1, 1, 1, 0, 0, 1, 1, 1, 1, 0, 0, 1]\n",
      "       final state [0, 1, 1, 0, 0, 1, 1, 1, 1, 0, 1, 1] is allowed.\n",
      "From initial state [1, 1, 1, 0, 0, 1, 1, 1, 0, 1, 1, 0]\n",
      "       final state [0, 1, 1, 0, 0, 1, 1, 1, 1, 1, 1, 0] is allowed.\n",
      "From initial state [1, 1, 0, 1, 1, 0, 1, 1, 1, 0, 0, 1]\n",
      "       final state [0, 1, 0, 1, 1, 0, 1, 1, 1, 0, 1, 1] is allowed.\n",
      "From initial state [1, 1, 0, 1, 1, 0, 1, 1, 0, 1, 1, 0]\n",
      "       final state [0, 1, 0, 1, 1, 0, 1, 1, 1, 1, 1, 0] is allowed.\n"
     ]
    }
   ],
   "source": [
    "transition(S0_1 + S0_1, A2_12)\n",
    "transition(S0_1 + S0_2, A2_12)\n",
    "transition(S0_2 + S0_1, A2_12)\n",
    "transition(S0_2 + S0_2, A2_12)"
   ]
  },
  {
   "cell_type": "markdown",
   "metadata": {},
   "source": [
    "There are allowed transitions.\n",
    "\n",
    "TODO: sum them\n",
    "\n",
    "## $|^2E,a>$\n",
    "\n",
    "First we encode the $|^2E,a>$ multiplet "
   ]
  },
  {
   "cell_type": "code",
   "execution_count": 21,
   "metadata": {},
   "outputs": [
    {
     "name": "stdout",
     "output_type": "stream",
     "text": [
      "From initial state [1, 1, 0, 1, 0, 1, 1, 1, 1, 0, 1, 0]\n",
      "From initial state [1, 1, 1, 0, 1, 0, 1, 1, 0, 1, 0, 1]\n",
      "       final state [0, 1, 1, 0, 1, 0, 1, 1, 1, 1, 0, 1] is allowed.\n",
      "       final state [0, 1, 1, 0, 1, 0, 1, 1, 0, 1, 1, 1] is allowed.\n",
      "From initial state [1, 1, 0, 1, 0, 1, 1, 1, 0, 1, 0, 1]\n",
      "From initial state [1, 1, 1, 0, 1, 0, 1, 1, 1, 0, 1, 0]\n"
     ]
    }
   ],
   "source": [
    "Ea = [[0,1,1,0,1,0],[1,0,0,1,1,0],[1,0,1,0,0,1]]\n",
    "transition(AFM_down, Ea)\n",
    "transition(AFM_up, Ea)\n",
    "transition(FM_down, Ea)\n",
    "transition(FM_up, Ea)"
   ]
  },
  {
   "cell_type": "markdown",
   "metadata": {},
   "source": [
    "For Eb only transitions from the AFM state are possible. Collecting the prefactors we get that the transition matrix element in $-\\sqrt{2/3}t_{xy,xz}$ as could be easily checked by hand."
   ]
  },
  {
   "cell_type": "code",
   "execution_count": 22,
   "metadata": {},
   "outputs": [
    {
     "name": "stdout",
     "output_type": "stream",
     "text": [
      "From initial state [1, 1, 0, 1, 0, 1, 1, 1, 1, 0, 1, 0]\n",
      "From initial state [1, 1, 1, 0, 1, 0, 1, 1, 0, 1, 0, 1]\n",
      "From initial state [1, 1, 0, 1, 0, 1, 1, 1, 0, 1, 0, 1]\n",
      "From initial state [1, 1, 1, 0, 1, 0, 1, 1, 1, 0, 1, 0]\n"
     ]
    }
   ],
   "source": [
    "Eb = [[1,0,1,0,0,1],[1,0,0,1,1,0]]\n",
    "transition(AFM_down, Eb)\n",
    "transition(AFM_up, Eb)\n",
    "transition(FM_down, Eb)\n",
    "transition(FM_up, Eb)"
   ]
  },
  {
   "cell_type": "markdown",
   "metadata": {},
   "source": [
    "From the $S=\\pm1$ initial states no transitions possible to Eb.\n",
    "\n",
    "We follow with the situation when considering the $S=0$."
   ]
  },
  {
   "cell_type": "code",
   "execution_count": 23,
   "metadata": {},
   "outputs": [
    {
     "name": "stdout",
     "output_type": "stream",
     "text": [
      "From initial state [1, 1, 1, 0, 0, 1, 1, 1, 1, 0, 0, 1]\n",
      "       final state [1, 0, 1, 0, 0, 1, 1, 1, 1, 1, 0, 1] is allowed.\n",
      "From initial state [1, 1, 1, 0, 0, 1, 1, 1, 0, 1, 1, 0]\n",
      "       final state [1, 0, 1, 0, 0, 1, 1, 1, 0, 1, 1, 1] is allowed.\n",
      "From initial state [1, 1, 0, 1, 1, 0, 1, 1, 1, 0, 0, 1]\n",
      "       final state [1, 0, 0, 1, 1, 0, 1, 1, 1, 1, 0, 1] is allowed.\n",
      "From initial state [1, 1, 0, 1, 1, 0, 1, 1, 0, 1, 1, 0]\n",
      "       final state [1, 0, 0, 1, 1, 0, 1, 1, 0, 1, 1, 1] is allowed.\n"
     ]
    }
   ],
   "source": [
    "transition(S0_1 + S0_1, Ea)\n",
    "transition(S0_1 + S0_2, Ea)\n",
    "transition(S0_2 + S0_1, Ea)\n",
    "transition(S0_2 + S0_2, Ea)"
   ]
  },
  {
   "cell_type": "markdown",
   "metadata": {},
   "source": [
    "And Eb"
   ]
  },
  {
   "cell_type": "code",
   "execution_count": 24,
   "metadata": {},
   "outputs": [
    {
     "name": "stdout",
     "output_type": "stream",
     "text": [
      "From initial state [1, 1, 1, 0, 0, 1, 1, 1, 1, 0, 0, 1]\n",
      "       final state [1, 0, 1, 0, 0, 1, 1, 1, 1, 1, 0, 1] is allowed.\n",
      "From initial state [1, 1, 1, 0, 0, 1, 1, 1, 0, 1, 1, 0]\n",
      "       final state [1, 0, 1, 0, 0, 1, 1, 1, 0, 1, 1, 1] is allowed.\n",
      "From initial state [1, 1, 0, 1, 1, 0, 1, 1, 1, 0, 0, 1]\n",
      "       final state [1, 0, 0, 1, 1, 0, 1, 1, 1, 1, 0, 1] is allowed.\n",
      "From initial state [1, 1, 0, 1, 1, 0, 1, 1, 0, 1, 1, 0]\n",
      "       final state [1, 0, 0, 1, 1, 0, 1, 1, 0, 1, 1, 1] is allowed.\n"
     ]
    }
   ],
   "source": [
    "transition(S0_1 + S0_1, Eb)\n",
    "transition(S0_1 + S0_2, Eb)\n",
    "transition(S0_2 + S0_1, Eb)\n",
    "transition(S0_2 + S0_2, Eb)"
   ]
  },
  {
   "cell_type": "markdown",
   "metadata": {},
   "source": [
    "## $|^2T1>$\n",
    "\n",
    "First we encode the $|^2T1>$ multiplet "
   ]
  },
  {
   "cell_type": "code",
   "execution_count": 25,
   "metadata": {},
   "outputs": [
    {
     "name": "stdout",
     "output_type": "stream",
     "text": [
      "From initial state [1, 1, 0, 1, 0, 1, 1, 1, 1, 0, 1, 0]\n",
      "From initial state [1, 1, 1, 0, 1, 0, 1, 1, 0, 1, 0, 1]\n",
      "From initial state [1, 1, 0, 1, 0, 1, 1, 1, 0, 1, 0, 1]\n",
      "From initial state [1, 1, 1, 0, 1, 0, 1, 1, 1, 0, 1, 0]\n"
     ]
    }
   ],
   "source": [
    "T1 = [[1,0,0,0,1,1],[1,0,1,1,0,0]]\n",
    "transition(AFM_down, T1)\n",
    "transition(AFM_up, T1)\n",
    "transition(FM_down, T1)\n",
    "transition(FM_up, T1)"
   ]
  },
  {
   "cell_type": "code",
   "execution_count": 26,
   "metadata": {},
   "outputs": [
    {
     "name": "stdout",
     "output_type": "stream",
     "text": [
      "From initial state [1, 1, 1, 0, 0, 1, 1, 1, 1, 0, 0, 1]\n",
      "       final state [1, 0, 1, 1, 0, 0, 1, 1, 1, 1, 0, 1] is allowed.\n",
      "From initial state [1, 1, 1, 0, 0, 1, 1, 1, 0, 1, 1, 0]\n",
      "       final state [1, 0, 1, 1, 0, 0, 1, 1, 0, 1, 1, 1] is allowed.\n",
      "From initial state [1, 1, 0, 1, 1, 0, 1, 1, 1, 0, 0, 1]\n",
      "       final state [1, 0, 0, 0, 1, 1, 1, 1, 1, 1, 0, 1] is allowed.\n",
      "From initial state [1, 1, 0, 1, 1, 0, 1, 1, 0, 1, 1, 0]\n",
      "       final state [1, 0, 0, 0, 1, 1, 1, 1, 0, 1, 1, 1] is allowed.\n"
     ]
    }
   ],
   "source": [
    "transition(S0_1 + S0_1, T1)\n",
    "transition(S0_1 + S0_2, T1)\n",
    "transition(S0_2 + S0_1, T1)\n",
    "transition(S0_2 + S0_2, T1)"
   ]
  }
 ],
 "metadata": {
  "kernelspec": {
   "display_name": "Python 3",
   "language": "python",
   "name": "python3"
  },
  "language_info": {
   "codemirror_mode": {
    "name": "ipython",
    "version": 3
   },
   "file_extension": ".py",
   "mimetype": "text/x-python",
   "name": "python",
   "nbconvert_exporter": "python",
   "pygments_lexer": "ipython3",
   "version": "3.6.2"
  }
 },
 "nbformat": 4,
 "nbformat_minor": 2
}
