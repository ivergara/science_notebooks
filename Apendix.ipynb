{
 "cells": [
  {
   "cell_type": "markdown",
   "metadata": {},
   "source": [
    "# Apendix\n",
    "\n",
    "Here we show the code to calculate transition matrix elements of a $d^4$ system like the one explored in chapter 5 for the ruthenate Ca$_2$RuO$_4$ (CRO). We calculate the possible transitions of the type $d^4d^4\\rightarrow d^3d^5$, applying some knowledge regarding the allowed ground and excited states of the CRO system. The transition matrix elements are then used to calculate the amplitude of certain transitions corresponding to the low energy optical excitations found in CRO.\n",
    "\n",
    "With this in mind, we first explore a small example to test the logic of the computation. Then, we proceed to calculate the transition matrix elements of interest.\n",
    "\n",
    "## Transitions for a two level and two site system with an electron on each site\n",
    "\n",
    "For a two sites $(i,j)$ and two levels $\\alpha, \\beta$ system with one electron per site, the initial states are $d_i^1d_j^1$ configurations where one electron sits on the $\\alpha$ level on each site ($4$ in total). The final states are $d_i^0d_j^2$ configurations ($5$ in total).\n",
    "\n",
    "The representation of the states used is as follows: each level/orbital is composed of two elements of an array, one for each spin (up, down). This is to say that each element of the array corresponds to a creation operator $c^\\dagger_{\\alpha\\sigma}$ when viewed from a second quantization notation. Thus, the first two elements correspond to the $+$ and $-$ spin $\\alpha$ level and the following two to the $+$ and $-$ spin $\\beta$ level. To build the representation of the states of the combined two sites, we concatenate two single site arrays. This leads to an array where the first 4 elements correspond to the $i$ site and the second 4 ones correspond to the $j$ one.\n",
    "\n",
    "For example, the state with spin up on both sites at the $\\alpha$ level, equivalent to $c^\\dagger_{i\\alpha\\uparrow}c^\\dagger_{j\\alpha\\uparrow}$, is `[1 0 0 0 1 0 0 0]`. As a second example, we take the configuration where there is one spin up in each level at site $j$ `[0 0 0 0 1 0 1 0]`. For the remainder of this introduction, we will label those two configurations as `initial` and `final`, respectively."
   ]
  },
  {
   "cell_type": "code",
   "execution_count": 1,
   "metadata": {},
   "outputs": [],
   "source": [
    "initial = [1, 0, 0, 0, 1, 0, 0, 0]\n",
    "final = [0, 0, 0, 0, 1, 0, 1, 0]"
   ]
  },
  {
   "cell_type": "markdown",
   "metadata": {},
   "source": [
    "To compute if an optical transition between two states is possible or not, we first get some libraries to make this easier."
   ]
  },
  {
   "cell_type": "code",
   "execution_count": 2,
   "metadata": {},
   "outputs": [],
   "source": [
    "# Importing necessary extensions\n",
    "import numpy as np\n",
    "import itertools\n",
    "import functools\n",
    "import operator\n",
    "\n",
    "# The use of type annotations requires Python 3.6 or newer\n",
    "from typing import List"
   ]
  },
  {
   "cell_type": "markdown",
   "metadata": {},
   "source": [
    "The question is, whether there is a transition matrix element between the aforementioned `initial` and `final` states. We can easily anser that with a yes, since the receiving level $\\beta,+$ is empty and no spin flip is involved when moving from $\\alpha,+$. Thus, the question now is how to compute it in a systematic way. \n",
    "\n",
    "We can start by taking the `XOR` (exclusive or) operation between the constructed representations of the states. This means that we check where the changes between the states in question are located. Then, we check the positions (index) where we get a `1`, and if we find that both are odd or both are even, we can say that the transition is allowed. Whereas, if one is in odd and the other in even positions it is not allowed as it would imply a spin flip in the transition. This is equivalent as to write $<f|c^\\dagger_{i\\alpha'\\sigma}c^\\dagger_{j\\beta'\\sigma}|i>$.\n",
    "\n",
    "Now we can go step by step codifying this rules. First checking for the `XOR` operation and then asking where the two states differ."
   ]
  },
  {
   "cell_type": "code",
   "execution_count": 3,
   "metadata": {},
   "outputs": [
    {
     "data": {
      "text/plain": [
       "[0, 6]"
      ]
     },
     "execution_count": 3,
     "metadata": {},
     "output_type": "execute_result"
    }
   ],
   "source": [
    "# looking for the positions/levels with different occupation\n",
    "changes = np.logical_xor(initial, final)\n",
    "# obtaining the indexes of those positions\n",
    "np.nonzero(changes)[0].tolist()  # .tolist() is called to have a nicer representation"
   ]
  },
  {
   "cell_type": "markdown",
   "metadata": {},
   "source": [
    "We can see that we get a change in positions $0$ and $6$. Now we apply modulo 2, which will allow us to check if the changes are in even or odd positions mapping even positions to $0$ whereas odd positions to $1$. Thus, if both are even or odd there will be just one unique element in the list otherwise there will be two unique elements."
   ]
  },
  {
   "cell_type": "code",
   "execution_count": 4,
   "metadata": {},
   "outputs": [
    {
     "data": {
      "text/plain": [
       "True"
      ]
     },
     "execution_count": 4,
     "metadata": {},
     "output_type": "execute_result"
    }
   ],
   "source": [
    "np.unique(np.remainder(np.nonzero(changes),2)).size == 1"
   ]
  },
  {
   "cell_type": "markdown",
   "metadata": {},
   "source": [
    "Thus, in this case of chosen initial and finals states, the transition is allowed since both are even. We can wraps all of this logic in a function."
   ]
  },
  {
   "cell_type": "code",
   "execution_count": 5,
   "metadata": {},
   "outputs": [],
   "source": [
    "def is_allowed(initial: List[int], final: List[int]) -> bool:\n",
    "    \"\"\"Given an initial and final states as represented in a binary list, returns if it is allowed.\"\"\"\n",
    "    return np.unique(np.remainder(np.nonzero(np.logical_xor(initial,final)),2)).size == 1"
   ]
  },
  {
   "cell_type": "markdown",
   "metadata": {},
   "source": [
    "Now we have a function that tells us if between two states an optical transition is possible or not. To recapitulate, we can recompute our previous case and then with another final state that is not allowed since it involves a spin flip, e.g., `[0 0 0 0 0 1 1 0]`."
   ]
  },
  {
   "cell_type": "code",
   "execution_count": 6,
   "metadata": {},
   "outputs": [
    {
     "data": {
      "text/plain": [
       "True"
      ]
     },
     "execution_count": 6,
     "metadata": {},
     "output_type": "execute_result"
    }
   ],
   "source": [
    "is_allowed(initial, final)"
   ]
  },
  {
   "cell_type": "code",
   "execution_count": 7,
   "metadata": {},
   "outputs": [
    {
     "data": {
      "text/plain": [
       "False"
      ]
     },
     "execution_count": 7,
     "metadata": {},
     "output_type": "execute_result"
    }
   ],
   "source": [
    "is_allowed(initial, [0, 0, 0, 0, 0, 1, 1, 0])"
   ]
  },
  {
   "cell_type": "markdown",
   "metadata": {},
   "source": [
    "With this preamble, we are equiped to handle more complex cases. Given the chosen representation for the states, the normalization coefficients of the states are left out. Thus, one has to take care to keep track of them when constructing properly the transition matrix element in question."
   ]
  },
  {
   "cell_type": "markdown",
   "metadata": {},
   "source": [
    "## Ca$_2$RuO$_4$\n",
    "\n",
    "Let us first explore the $d^4$ system. In a low spin $d^4$ system, we have only the t$_{2g}$ orbitals (xy yz xz) active leading to a 6 elements representation for a site. Two neighboring states involved in a transition are concatenateed into asingle array consisting of 12 elements.\n",
    "\n",
    "For this, we create the function to generate the list representation of states given an amount of electrons and levels."
   ]
  },
  {
   "cell_type": "code",
   "execution_count": 8,
   "metadata": {},
   "outputs": [],
   "source": [
    "def generate_states(electrons: int, levels: int) -> List[List[int]]:\n",
    "    \"\"\"Generates the list representation of a given number of electrons and levels (degeneracy not considered).\"\"\"\n",
    "    seed = [1 if position < electrons else 0 for position in range(levels)]\n",
    "    generated_states = list(set(itertools.permutations(seed)))  # with set we filter out repeated states\n",
    "    generated_states.sort(reverse=True)\n",
    "    return generated_states"
   ]
  },
  {
   "cell_type": "markdown",
   "metadata": {},
   "source": [
    "With this we can generate states of 3, 4, and 5 electrons in a 3 level system with degeneracy 2 meaning 6 levels in total."
   ]
  },
  {
   "cell_type": "code",
   "execution_count": 9,
   "metadata": {},
   "outputs": [],
   "source": [
    "states_d3 = generate_states(3,6)\n",
    "states_d4 = generate_states(4,6)\n",
    "states_d5 = generate_states(5,6)"
   ]
  },
  {
   "cell_type": "markdown",
   "metadata": {},
   "source": [
    "We can consider first the $d^4$ states and take a look at them."
   ]
  },
  {
   "cell_type": "code",
   "execution_count": 10,
   "metadata": {},
   "outputs": [
    {
     "data": {
      "text/plain": [
       "[(1, 1, 1, 1, 0, 0),\n",
       " (1, 1, 1, 0, 1, 0),\n",
       " (1, 1, 1, 0, 0, 1),\n",
       " (1, 1, 0, 1, 1, 0),\n",
       " (1, 1, 0, 1, 0, 1),\n",
       " (1, 1, 0, 0, 1, 1),\n",
       " (1, 0, 1, 1, 1, 0),\n",
       " (1, 0, 1, 1, 0, 1),\n",
       " (1, 0, 1, 0, 1, 1),\n",
       " (1, 0, 0, 1, 1, 1),\n",
       " (0, 1, 1, 1, 1, 0),\n",
       " (0, 1, 1, 1, 0, 1),\n",
       " (0, 1, 1, 0, 1, 1),\n",
       " (0, 1, 0, 1, 1, 1),\n",
       " (0, 0, 1, 1, 1, 1)]"
      ]
     },
     "execution_count": 10,
     "metadata": {},
     "output_type": "execute_result"
    }
   ],
   "source": [
    "states_d4"
   ]
  },
  {
   "cell_type": "markdown",
   "metadata": {},
   "source": [
    "It is quite a list of generated states. But from this whoel list, not all states are relevant for the problem at hand. This means that we can reduce the amount of states beforehand by applying the physical constrains we have. \n",
    "\n",
    "From all the $d^4$ states, we consider only those with a full $d_{xy}$ orbital and those which distribute the other two electrons in different orbitals as possible initial states for the Ca2RuO4 system. In our representation, this means only the states that have a 1 in the first two entries and no double occupancy in $zx$ or $yz$ orbitals."
   ]
  },
  {
   "cell_type": "code",
   "execution_count": 11,
   "metadata": {},
   "outputs": [
    {
     "data": {
      "text/plain": [
       "[[1, 1, 1, 0, 1, 0],\n",
       " [1, 1, 1, 0, 0, 1],\n",
       " [1, 1, 0, 1, 1, 0],\n",
       " [1, 1, 0, 1, 0, 1]]"
      ]
     },
     "execution_count": 11,
     "metadata": {},
     "output_type": "execute_result"
    }
   ],
   "source": [
    "possible_states_d4 = [list(state) for state in states_d4 # select states that fulfill \n",
    "                      if state[0]==1 and state[1]==1     # 1) dxy orbital double occupancy\n",
    "                      and state[2] is not state[3]       # 2) dzx/dyz orbital single occupancy\n",
    "                     ]\n",
    "possible_states_d4"
   ]
  },
  {
   "cell_type": "markdown",
   "metadata": {},
   "source": [
    "We obtain 4 different $d^4$ states that fullfill the conditions previously indicated. From the previous list, the first and last elements correspond to states with $S_z=\\pm1$ whereas the ones in the middle correspond to the two superimposed states for the $S=0$ state, namely, a magnon. These four states, could have been easily written down by hand, but the power of this approach is evident when generating and selecting the possible states of the $d^3$ configuration.\n",
    "\n",
    "For the $d^3$ states, we want at least those which keep one electron in the $d_{xy}$ orbital since we know that the others states are not reachable with one movement as required by optical spectroscopy."
   ]
  },
  {
   "cell_type": "code",
   "execution_count": 12,
   "metadata": {},
   "outputs": [
    {
     "data": {
      "text/plain": [
       "[[1, 1, 1, 0, 0, 0],\n",
       " [1, 1, 0, 1, 0, 0],\n",
       " [1, 1, 0, 0, 1, 0],\n",
       " [1, 1, 0, 0, 0, 1],\n",
       " [1, 0, 1, 1, 0, 0],\n",
       " [1, 0, 1, 0, 1, 0],\n",
       " [1, 0, 1, 0, 0, 1],\n",
       " [1, 0, 0, 1, 1, 0],\n",
       " [1, 0, 0, 1, 0, 1],\n",
       " [1, 0, 0, 0, 1, 1],\n",
       " [0, 1, 1, 1, 0, 0],\n",
       " [0, 1, 1, 0, 1, 0],\n",
       " [0, 1, 1, 0, 0, 1],\n",
       " [0, 1, 0, 1, 1, 0],\n",
       " [0, 1, 0, 1, 0, 1],\n",
       " [0, 1, 0, 0, 1, 1]]"
      ]
     },
     "execution_count": 12,
     "metadata": {},
     "output_type": "execute_result"
    }
   ],
   "source": [
    "possible_states_d3 = [list(state) for state in states_d3 if state[0]==1 or state[1]==1]\n",
    "possible_states_d3"
   ]
  },
  {
   "cell_type": "markdown",
   "metadata": {},
   "source": [
    "In the case of the $d^5$ states, since our ground state has a doule occupied $d_{xy}$ orbital then it has to stay occupied."
   ]
  },
  {
   "cell_type": "code",
   "execution_count": 13,
   "metadata": {},
   "outputs": [
    {
     "data": {
      "text/plain": [
       "[[1, 1, 1, 1, 1, 0],\n",
       " [1, 1, 1, 1, 0, 1],\n",
       " [1, 1, 1, 0, 1, 1],\n",
       " [1, 1, 0, 1, 1, 1]]"
      ]
     },
     "execution_count": 13,
     "metadata": {},
     "output_type": "execute_result"
    }
   ],
   "source": [
    "possible_states_d5 = [list(state) for state in states_d5 if state[0]==1 and state[1]==1]\n",
    "possible_states_d5 "
   ]
  },
  {
   "cell_type": "markdown",
   "metadata": {},
   "source": [
    "We could generate all $d^3d^5$ combinations and check how many of them there are."
   ]
  },
  {
   "cell_type": "code",
   "execution_count": 14,
   "metadata": {},
   "outputs": [
    {
     "name": "stdout",
     "output_type": "stream",
     "text": [
      "The number of combined states is:  64\n"
     ]
    }
   ],
   "source": [
    "def combine_states(first: List[List[int]], second: List[List[int]]) -> List[List[int]]:\n",
    "    \"\"\"Takes two lists of list representations of states and returns the list representation of a two-site state.\"\"\"\n",
    "    # Producing all the possible final states. This has to be read from bottom to top.\n",
    "    final_states = [\n",
    "                    functools.reduce(operator.add, combination)  # 3) the single site representations are combined into one single two-site representation\n",
    "                            for combination                      # 2) we iterate over all the combinations produced\n",
    "                            in itertools.product(first, second)  # 1) make the product of the given first and second states lists\n",
    "                   ]\n",
    "    \n",
    "    final_states.sort(reverse=True)\n",
    "    \n",
    "    return final_states\n",
    "\n",
    "print(\"The number of combined states is: \", len(combine_states(possible_states_d3,possible_states_d5)))"
   ]
  },
  {
   "cell_type": "markdown",
   "metadata": {},
   "source": [
    "We already saw in the previous section how we can check if a transition is allowed in our list codification of the states. Here we will make it a function slightly more complex to help us deal with generating final states."
   ]
  },
  {
   "cell_type": "code",
   "execution_count": 15,
   "metadata": {},
   "outputs": [],
   "source": [
    "def transition(initial: List[int], final: List[List[int]], debug = False) -> None:\n",
    "    \"\"\"This function takes the list representation of an initial state and a list of\n",
    "    final d3 states. Then, it computes if the transition from the initial state to the \n",
    "    compounded d3d5 final state is possible. The d5 states are implicitly used in \n",
    "    the function from those already generated and filtered.\n",
    "    \"\"\"\n",
    "    \n",
    "    final_states = combine_states(final, list(possible_states_d5))\n",
    "    \n",
    "    print(\"From initial state {}\".format(initial))\n",
    "    \n",
    "    # We iterate over all final states and test whether the transition \n",
    "    # from the given initial state is allowed\n",
    "    for state in final_states:\n",
    "        allowed = is_allowed(initial, state)\n",
    "        if allowed:\n",
    "            print(\"       final state {} is allowed.\".format(state))\n",
    "        else:\n",
    "            if debug:\n",
    "                print(\"       final state {} not allowed\".format(state))"
   ]
  },
  {
   "cell_type": "markdown",
   "metadata": {},
   "source": [
    "With this, we can now explore the transitions between the different initial states and final states ($^4A_2$, $^2E$, and $^2T_1$ multiplets for the $d^3$ sector). Concerning the $d^4$ states, as explained in chapter 5, there is the possibility to be in the $S_z=\\pm1$ or $S_z=0$. We will cover each one of them in the following.\n",
    "\n",
    "## $^4A_2$\n",
    "\n",
    "First, we will deal with the $^4A_2$ multiplet. \n",
    "\n",
    "### $S_z=\\pm1$\n",
    "\n",
    "Starting with the pure $S_z=\\pm1$ initial states, meaning $d_{\\uparrow}^4d_{\\uparrow}^4$ (FM) and $d_{\\uparrow}^4d_{\\downarrow}^4$ (AFM), we have the following representations:"
   ]
  },
  {
   "cell_type": "code",
   "execution_count": 16,
   "metadata": {},
   "outputs": [],
   "source": [
    "FM       = [1,1,1,0,1,0,1,1,1,0,1,0]\n",
    "AFM_up   = [1,1,1,0,1,0,1,1,0,1,0,1]\n",
    "AFM_down = [1,1,0,1,0,1,1,1,1,0,1,0]"
   ]
  },
  {
   "cell_type": "markdown",
   "metadata": {},
   "source": [
    "Then, the representation for a $|^4A_2,3/2>$ multiplet, without factors, is given by"
   ]
  },
  {
   "cell_type": "code",
   "execution_count": 20,
   "metadata": {},
   "outputs": [],
   "source": [
    "A2_32 = [[1,0,1,0,1,0]]\n",
    "A2_neg_32 = [[0,1,0,1,0,1]]"
   ]
  },
  {
   "cell_type": "markdown",
   "metadata": {},
   "source": [
    "#### FM\n",
    "\n",
    "Handling first the ferromagnetic ordering first, the allowed transitions from the initial state are"
   ]
  },
  {
   "cell_type": "code",
   "execution_count": 22,
   "metadata": {},
   "outputs": [
    {
     "name": "stdout",
     "output_type": "stream",
     "text": [
      "From initial state [1, 1, 1, 0, 1, 0, 1, 1, 1, 0, 1, 0]\n",
      "       final state [1, 0, 1, 0, 1, 0, 1, 1, 1, 1, 1, 0] is allowed.\n",
      "       final state [1, 0, 1, 0, 1, 0, 1, 1, 1, 0, 1, 1] is allowed.\n"
     ]
    }
   ],
   "source": [
    "transition(FM, A2_32)"
   ]
  },
  {
   "cell_type": "markdown",
   "metadata": {},
   "source": [
    "Comparing the initial and final states representations and considering the $|^4A_2,3/2>$ prefactor, we obtain that there are two possible transitions with matrix element $t_{xy,xz}$ and $t_{xy,xz}$."
   ]
  },
  {
   "cell_type": "markdown",
   "metadata": {},
   "source": [
    "Now we proceed with the $|^4A_2,1/2>$ multiplet, which has the following representation:"
   ]
  },
  {
   "cell_type": "code",
   "execution_count": 33,
   "metadata": {},
   "outputs": [
    {
     "name": "stdout",
     "output_type": "stream",
     "text": [
      "From initial state [1, 1, 1, 0, 1, 0, 1, 1, 1, 0, 1, 0]\n"
     ]
    }
   ],
   "source": [
    "A2_12 = [[1,0,0,1,0,1],[0,1,1,0,0,1],[0,1,0,1,1,0]]  # 4A2 Sz=1/2 d3 multiplet\n",
    "\n",
    "transition(FM, A2_12)"
   ]
  },
  {
   "cell_type": "markdown",
   "metadata": {},
   "source": [
    "Doing the same for the $|^4A_2,-1/2>$ multiplet"
   ]
  },
  {
   "cell_type": "code",
   "execution_count": 34,
   "metadata": {},
   "outputs": [
    {
     "name": "stdout",
     "output_type": "stream",
     "text": [
      "From initial state [1, 1, 1, 0, 1, 0, 1, 1, 1, 0, 1, 0]\n"
     ]
    }
   ],
   "source": [
    "A2_neg_12 = [[0,1,1,0,1,0],[1,0,0,1,1,0],[1,0,1,0,0,1]]  # 4A2 Sz=-1/2 d3 multiplet\n",
    "\n",
    "transition(FM, A2_neg_12)"
   ]
  },
  {
   "cell_type": "markdown",
   "metadata": {},
   "source": [
    "For the $|^4A_2,\\pm1/2>$ state, there is no allowed transition starting from the FM initial state.\n",
    "\n",
    "#### AFM\n",
    "\n",
    "Repeating for both $^4A_2$ but using the AFM initial state we get"
   ]
  },
  {
   "cell_type": "code",
   "execution_count": 37,
   "metadata": {},
   "outputs": [
    {
     "name": "stdout",
     "output_type": "stream",
     "text": [
      "From initial state [1, 1, 1, 0, 1, 0, 1, 1, 0, 1, 0, 1]\n"
     ]
    }
   ],
   "source": [
    "transition(AFM_up, A2_32)"
   ]
  },
  {
   "cell_type": "markdown",
   "metadata": {},
   "source": [
    "We see that the AFM initial state has no transition matrix element for the $|^4A_2,3/2>$ state."
   ]
  },
  {
   "cell_type": "code",
   "execution_count": 38,
   "metadata": {},
   "outputs": [
    {
     "name": "stdout",
     "output_type": "stream",
     "text": [
      "From initial state [1, 1, 1, 0, 1, 0, 1, 1, 0, 1, 0, 1]\n",
      "       final state [0, 1, 1, 0, 1, 0, 1, 1, 1, 1, 0, 1] is allowed.\n",
      "       final state [0, 1, 1, 0, 1, 0, 1, 1, 0, 1, 1, 1] is allowed.\n"
     ]
    }
   ],
   "source": [
    "transition(AFM_up, A2_neg_12)"
   ]
  },
  {
   "cell_type": "markdown",
   "metadata": {},
   "source": [
    "Whereas the $|^4A_2,\\pm1/2>$ state is allowed from a FM initial state. Once again, checking the prefactor for the multiplet we get a transition matrix element of $t_{xy,xz}/\\sqrt{3}$ and $t_{xy,xy}/\\sqrt{3}$."
   ]
  },
  {
   "cell_type": "markdown",
   "metadata": {},
   "source": [
    "### $S_z=0$\n",
    "\n",
    "The case of $S_z=0$ is handled similarly, the difference is that we get more terms to handle. We start with the $d_0^4d_\\uparrow^4$ initial state. Since the $d_0^4$ is a superposition of two states, we will split it in the two parts."
   ]
  },
  {
   "cell_type": "code",
   "execution_count": 39,
   "metadata": {},
   "outputs": [],
   "source": [
    "S0_1 = [1, 1, 1, 0, 0, 1]\n",
    "S0_2 = [1, 1, 0, 1, 1, 0]\n",
    "\n",
    "d_zero_down = [1, 1, 0, 1, 0, 1]\n",
    "d_zero_up   = [1, 1, 1, 0, 1, 0]"
   ]
  },
  {
   "cell_type": "markdown",
   "metadata": {},
   "source": [
    "and then we append the $d^4_\\uparrow$ representation to each one. Thus, checking for the transitions into the $|^4A_2,3/2>$ $d^3$ multiplet we get"
   ]
  },
  {
   "cell_type": "code",
   "execution_count": 40,
   "metadata": {},
   "outputs": [
    {
     "name": "stdout",
     "output_type": "stream",
     "text": [
      "From initial state [1, 1, 1, 0, 0, 1, 1, 1, 1, 0, 1, 0]\n",
      "From initial state [1, 1, 0, 1, 1, 0, 1, 1, 1, 0, 1, 0]\n"
     ]
    }
   ],
   "source": [
    "transition(S0_1 + d_zero_up, A2_32)\n",
    "transition(S0_2 + d_zero_up, A2_32)"
   ]
  },
  {
   "cell_type": "markdown",
   "metadata": {},
   "source": [
    "And for $d^4_\\downarrow$ we get"
   ]
  },
  {
   "cell_type": "code",
   "execution_count": 41,
   "metadata": {},
   "outputs": [
    {
     "name": "stdout",
     "output_type": "stream",
     "text": [
      "From initial state [1, 1, 1, 0, 0, 1, 1, 1, 0, 1, 0, 1]\n",
      "From initial state [1, 1, 0, 1, 1, 0, 1, 1, 0, 1, 0, 1]\n"
     ]
    }
   ],
   "source": [
    "transition(S0_1 + d_zero_down, A2_32)\n",
    "transition(S0_2 + d_zero_down, A2_32)"
   ]
  },
  {
   "cell_type": "markdown",
   "metadata": {},
   "source": [
    "Thus there is no allowed transition to the $|^4A_2,3/2>$ multiplet. Doing the same for the $|^4A_2,1/2>$ multiplet and $d^4_\\uparrow$"
   ]
  },
  {
   "cell_type": "code",
   "execution_count": 42,
   "metadata": {},
   "outputs": [
    {
     "name": "stdout",
     "output_type": "stream",
     "text": [
      "From initial state [1, 1, 1, 0, 0, 1, 1, 1, 1, 0, 1, 0]\n",
      "From initial state [1, 1, 0, 1, 1, 0, 1, 1, 1, 0, 1, 0]\n"
     ]
    }
   ],
   "source": [
    "transition(S0_1 + d_zero_up, A2_12)\n",
    "transition(S0_2 + d_zero_up, A2_12)"
   ]
  },
  {
   "cell_type": "code",
   "execution_count": 43,
   "metadata": {},
   "outputs": [
    {
     "name": "stdout",
     "output_type": "stream",
     "text": [
      "From initial state [1, 1, 1, 0, 0, 1, 1, 1, 1, 0, 1, 0]\n",
      "       final state [1, 0, 1, 0, 0, 1, 1, 1, 1, 1, 1, 0] is allowed.\n",
      "       final state [1, 0, 1, 0, 0, 1, 1, 1, 1, 0, 1, 1] is allowed.\n",
      "From initial state [1, 1, 0, 1, 1, 0, 1, 1, 1, 0, 1, 0]\n",
      "       final state [1, 0, 0, 1, 1, 0, 1, 1, 1, 1, 1, 0] is allowed.\n",
      "       final state [1, 0, 0, 1, 1, 0, 1, 1, 1, 0, 1, 1] is allowed.\n"
     ]
    }
   ],
   "source": [
    "transition(S0_1 + d_zero_up, A2_neg_12)\n",
    "transition(S0_2 + d_zero_up, A2_neg_12)"
   ]
  },
  {
   "cell_type": "markdown",
   "metadata": {},
   "source": [
    "And for completeness we repeat with $d^4_\\downarrow$"
   ]
  },
  {
   "cell_type": "code",
   "execution_count": 44,
   "metadata": {},
   "outputs": [
    {
     "name": "stdout",
     "output_type": "stream",
     "text": [
      "From initial state [1, 1, 1, 0, 0, 1, 1, 1, 0, 1, 0, 1]\n",
      "       final state [0, 1, 1, 0, 0, 1, 1, 1, 1, 1, 0, 1] is allowed.\n",
      "       final state [0, 1, 1, 0, 0, 1, 1, 1, 0, 1, 1, 1] is allowed.\n",
      "From initial state [1, 1, 0, 1, 1, 0, 1, 1, 0, 1, 0, 1]\n",
      "       final state [0, 1, 0, 1, 1, 0, 1, 1, 1, 1, 0, 1] is allowed.\n",
      "       final state [0, 1, 0, 1, 1, 0, 1, 1, 0, 1, 1, 1] is allowed.\n",
      "From initial state [1, 1, 1, 0, 0, 1, 1, 1, 0, 1, 0, 1]\n",
      "From initial state [1, 1, 0, 1, 1, 0, 1, 1, 0, 1, 0, 1]\n"
     ]
    }
   ],
   "source": [
    "transition(S0_1 + d_zero_down, A2_12)\n",
    "transition(S0_2 + d_zero_down, A2_12)\n",
    "\n",
    "transition(S0_1 + d_zero_down, A2_neg_12)\n",
    "transition(S0_2 + d_zero_down, A2_neg_12)"
   ]
  },
  {
   "cell_type": "markdown",
   "metadata": {},
   "source": [
    "Here, both parts of the $S_z=0$ state contribute. Checking the prefactors for $S_z=0$ ($1/\\sqrt{2}$) and $|^4A_2,1/2>$ ($1/\\sqrt{3}$) we get a matrix element $\\sqrt{\\frac{2}{3}}t_{xy/xz}$."
   ]
  },
  {
   "cell_type": "markdown",
   "metadata": {},
   "source": [
    "Continuing with the $d^4_0d^4_0$ the situation gets more complicated. In this case, we construct the four combinations for the initial state and calculate each one of them to later sum them up."
   ]
  },
  {
   "cell_type": "code",
   "execution_count": null,
   "metadata": {},
   "outputs": [],
   "source": [
    "transition(S0_1 + S0_1, A2_32)\n",
    "transition(S0_1 + S0_2, A2_32)\n",
    "transition(S0_2 + S0_1, A2_32)\n",
    "transition(S0_2 + S0_2, A2_32)"
   ]
  },
  {
   "cell_type": "markdown",
   "metadata": {},
   "source": [
    "No transitions from the $d^4_0d^4_0$ state to $|^4A_2,3/2>$.\n",
    "\n",
    "And now repeating the same strategy for the $|^4A_2,1/2>$ multiplet"
   ]
  },
  {
   "cell_type": "code",
   "execution_count": null,
   "metadata": {},
   "outputs": [],
   "source": [
    "transition(S0_1 + S0_1, A2_12)\n",
    "transition(S0_1 + S0_2, A2_12)\n",
    "transition(S0_2 + S0_1, A2_12)\n",
    "transition(S0_2 + S0_2, A2_12)"
   ]
  },
  {
   "cell_type": "markdown",
   "metadata": {},
   "source": [
    "And $|^4A_2,-1/2>$ multiplet"
   ]
  },
  {
   "cell_type": "code",
   "execution_count": null,
   "metadata": {},
   "outputs": [],
   "source": [
    "transition(S0_1 + S0_1, A2_neg_12)\n",
    "transition(S0_1 + S0_2, A2_neg_12)\n",
    "transition(S0_2 + S0_1, A2_neg_12)\n",
    "transition(S0_2 + S0_2, A2_neg_12)"
   ]
  },
  {
   "cell_type": "markdown",
   "metadata": {},
   "source": [
    "There are allowed transitions.\n",
    "\n",
    "The prefactors for the S=0 and the $|^4A_2,1/2>$ states are $\\frac{1}{\\sqrt{2}}$ and $\\frac{1}{\\sqrt{3}}$.  Multiplying each S=0 state, we get a prefactor of $1/2$ and checking the transitions we get two jumps to $d_{yz}$ and two to $d_{xz}$. \n",
    "[NOT TRUE! ket to recycle symbols later This leads to a transition matrix element of $\\frac{1}{2\\sqrt{3}}(2t_{xy/yz}+2t_{xy/xz})$ which due to the symmetry we get $\\frac{2}{\\sqrt{3}}t_{xy/yz}$.]\n",
    "\n",
    "## $|^2E,a/b>$\n",
    "\n",
    "First we encode the $|^2E,a>$ multiplet "
   ]
  },
  {
   "cell_type": "code",
   "execution_count": null,
   "metadata": {},
   "outputs": [],
   "source": [
    "Ea = [[0,1,1,0,1,0],[1,0,0,1,1,0],[1,0,1,0,0,1]]\n",
    "transition(AFM_down, Ea)\n",
    "transition(AFM_up, Ea)\n",
    "transition(FM_down, Ea)\n",
    "transition(FM_up, Ea)"
   ]
  },
  {
   "cell_type": "markdown",
   "metadata": {},
   "source": [
    "For the $|^2E,a>$ multiplet, only transitions from the AFM ground state are possible. Collecting the prefactors we get that the transition matrix element in $-\\sqrt{2/3}t_{xy,xz}$ and $-\\sqrt{2/3}t_{xy,yz}$ as could be easily checked by hand.\n",
    "\n",
    "Then, for the $|^2E,b>$ multiplet "
   ]
  },
  {
   "cell_type": "code",
   "execution_count": null,
   "metadata": {},
   "outputs": [],
   "source": [
    "Eb = [[1,0,1,0,0,1],[1,0,0,1,1,0]]\n",
    "transition(AFM_down, Eb)\n",
    "transition(AFM_up, Eb)\n",
    "transition(FM_down, Eb)\n",
    "transition(FM_up, Eb)"
   ]
  },
  {
   "cell_type": "markdown",
   "metadata": {},
   "source": [
    "From the $S=\\pm1$ initial states, no transitions possible to Eb.\n",
    "\n",
    "We follow with the situation when considering the $S=0$. In this case, each initial state is decomposed in two parts leading to 4 terms."
   ]
  },
  {
   "cell_type": "code",
   "execution_count": null,
   "metadata": {},
   "outputs": [],
   "source": [
    "transition(S0_1 + S0_1, Ea)\n",
    "transition(S0_1 + S0_2, Ea)\n",
    "transition(S0_2 + S0_1, Ea)\n",
    "transition(S0_2 + S0_2, Ea)"
   ]
  },
  {
   "cell_type": "markdown",
   "metadata": {},
   "source": [
    "Each one of the combinations is allowed, thus considering the prefactors of the $S_0$ and $|^2E,a>$ we obtain $\\sqrt{\\frac{2}{3}}t_{xy,xz}$ and $\\sqrt{\\frac{2}{3}}t_{xy,yz}$.\n",
    "\n",
    "Doing the same for $|^2E,b>$"
   ]
  },
  {
   "cell_type": "code",
   "execution_count": null,
   "metadata": {},
   "outputs": [],
   "source": [
    "transition(S0_1 + S0_1, Eb)\n",
    "transition(S0_1 + S0_2, Eb)\n",
    "transition(S0_2 + S0_1, Eb)\n",
    "transition(S0_2 + S0_2, Eb)"
   ]
  },
  {
   "cell_type": "markdown",
   "metadata": {},
   "source": [
    "Adding all the contributions of the allowed terms we obtain, that due to the - sign in the $|^2E,b>$ multiplet, the contribution is 0.\n",
    "\n",
    "We sill have to cover the ground state of the kind $d_0^4d_\\uparrow^4$. As done previously, we again will split the $d_0^4$ in the two parts."
   ]
  },
  {
   "cell_type": "code",
   "execution_count": null,
   "metadata": {},
   "outputs": [],
   "source": [
    "S0_1 = [1, 1, 1, 0, 0, 1]\n",
    "S0_2 = [1, 1, 0, 1, 1, 0]"
   ]
  },
  {
   "cell_type": "markdown",
   "metadata": {},
   "source": [
    "and then we add the $d^4_\\uparrow$ representation to each one. Thus, for the $|^2E, Ea>$ $d^3$ multiplet we get"
   ]
  },
  {
   "cell_type": "code",
   "execution_count": null,
   "metadata": {},
   "outputs": [],
   "source": [
    "transition(S0_1 + d_zero_up, Ea)\n",
    "transition(S0_2 + d_zero_up, Ea)"
   ]
  },
  {
   "cell_type": "markdown",
   "metadata": {},
   "source": [
    "Here, both parts of the $S_z=0$ state contribute. Checking the prefactors for $S_z=0$ ($1/\\sqrt{2}$) and $|^2E, Ea>$ ($1/\\sqrt{6}$) we get a matrix element $\\sqrt{\\frac{2}{3}}t_{xy/xz}$.\n",
    "\n",
    "Following for transitions into the $|^2E, Eb>$"
   ]
  },
  {
   "cell_type": "code",
   "execution_count": null,
   "metadata": {},
   "outputs": [],
   "source": [
    "transition(S0_1 + [1, 1, 0, 1, 0, 1], Eb)\n",
    "transition(S0_2 + [1, 1, 0, 1, 0, 1], Eb)"
   ]
  },
  {
   "cell_type": "markdown",
   "metadata": {},
   "source": [
    "we see that there is no allowed transition."
   ]
  },
  {
   "cell_type": "markdown",
   "metadata": {},
   "source": [
    "## $|^2T_1,+/->$\n",
    "\n",
    "This multiplet has 6 possible forms, $\\textit{xy}$, $\\textit{xz}$, and $\\textit{yz}$ singly occupied\n",
    "\n",
    "First we encode the $|^2T_1,+>$ multiplet with singly occupied \\textit{xy}$"
   ]
  },
  {
   "cell_type": "code",
   "execution_count": null,
   "metadata": {},
   "outputs": [],
   "source": [
    "T1_p_xy = [[1,0,1,1,0,0],[1,0,0,0,1,1]]\n",
    "transition(AFM_down, T1_p_xy)\n",
    "transition(AFM_up, T1_p_xy)\n",
    "transition(FM_down, T1_p_xy)\n",
    "transition(FM_up, T1_p_xy)"
   ]
  },
  {
   "cell_type": "markdown",
   "metadata": {},
   "source": [
    "And for the $|^2T_1,->$"
   ]
  },
  {
   "cell_type": "code",
   "execution_count": null,
   "metadata": {},
   "outputs": [],
   "source": [
    "T1_n_xy = [[0,1,1,1,0,0],[0,1,0,0,1,1]]\n",
    "transition(AFM_down, T1_n_xy)\n",
    "transition(AFM_up, T1_n_xy)\n",
    "transition(FM_down, T1_n_xy)\n",
    "transition(FM_up, T1_n_xy)"
   ]
  },
  {
   "cell_type": "markdown",
   "metadata": {},
   "source": [
    "In this case, there is no possible transition."
   ]
  },
  {
   "cell_type": "code",
   "execution_count": null,
   "metadata": {},
   "outputs": [],
   "source": [
    "T1_p_xz = [[1,1,1,0,0,0],[0,0,1,0,1,1]]\n",
    "transition(AFM_down, T1_p_xz)\n",
    "transition(AFM_up, T1_p_xz)\n",
    "transition(FM_down, T1_p_xz)\n",
    "transition(FM_up, T1_p_xz)"
   ]
  },
  {
   "cell_type": "code",
   "execution_count": null,
   "metadata": {},
   "outputs": [],
   "source": [
    "T1_n_xz = [[1,1,0,1,0,0],[0,0,0,1,1,1]]\n",
    "transition(AFM_down, T1_n_xz)\n",
    "transition(AFM_up, T1_n_xz)\n",
    "transition(FM_down, T1_n_xz)\n",
    "transition(FM_up, T1_n_xz)"
   ]
  },
  {
   "cell_type": "markdown",
   "metadata": {},
   "source": [
    "$t_{yz,xy}$ and $t_{yz,yz}$ transitions are allowed"
   ]
  },
  {
   "cell_type": "code",
   "execution_count": null,
   "metadata": {},
   "outputs": [],
   "source": [
    "T1_p_yz = [[1,1,0,0,1,0],[0,0,1,1,1,0]]\n",
    "transition(AFM_down, T1_p_yz)\n",
    "transition(AFM_up, T1_p_yz)\n",
    "transition(FM_down, T1_p_yz)\n",
    "transition(FM_up, T1_p_yz)"
   ]
  },
  {
   "cell_type": "code",
   "execution_count": null,
   "metadata": {},
   "outputs": [],
   "source": [
    "T1_n_yz = [[1,1,0,0,0,1],[0,0,1,1,0,1]]\n",
    "transition(AFM_down, T1_n_yz)\n",
    "transition(AFM_up, T1_n_yz)\n",
    "transition(FM_down, T1_n_yz)\n",
    "transition(FM_up, T1_n_yz)"
   ]
  },
  {
   "cell_type": "markdown",
   "metadata": {},
   "source": [
    "$t_{xz,xz}$ and $t_{xz,yz}$ transitions are allowed\n",
    "\n",
    "We corroborate the straightforward observation that for a ferromagnetic initial state, the excitation to a $^2T_1$ multiplet is forbiden when considering the $\\textit{xy}$ orbital order.\n",
    "\n",
    "Thus, considering the prefactor of the $^2T_1$ multiplets, the hopping amplitudes are $t_{yz,xy}/\\sqrt{2}$ and $t_{yz,yz}/\\sqrt{2}$ $t_{xz,xz}/\\sqrt{2}$, and $t_{xz,yz}/\\sqrt{2}$.\n",
    "\n",
    "## S=0\n",
    "\n",
    "Now the challenge of addressing this multiplet when considering the $S=0$ component in the ground state."
   ]
  },
  {
   "cell_type": "code",
   "execution_count": null,
   "metadata": {},
   "outputs": [],
   "source": [
    "S0_1 = [1, 1, 1, 0, 0, 1]\n",
    "S0_2 = [1, 1, 0, 1, 1, 0]\n",
    "\n",
    "T1_p_xz = [[1,1,1,0,0,0],[0,0,1,0,1,1]]"
   ]
  },
  {
   "cell_type": "code",
   "execution_count": null,
   "metadata": {},
   "outputs": [],
   "source": [
    "transition(S0_1 + d_zero_up, T1_p_xz)\n",
    "transition(S0_2 + d_zero_up, T1_p_xz)\n",
    "transition(S0_1 + d_zero_up, T1_n_xz)\n",
    "transition(S0_2 + d_zero_up, T1_n_xz)"
   ]
  },
  {
   "cell_type": "code",
   "execution_count": null,
   "metadata": {},
   "outputs": [],
   "source": [
    "transition(S0_1 + d_zero_down, T1_p_xz)\n",
    "transition(S0_2 + d_zero_down, T1_p_xz)\n",
    "transition(S0_1 + d_zero_down, T1_n_xz)\n",
    "transition(S0_2 + d_zero_down, T1_n_xz)"
   ]
  },
  {
   "cell_type": "markdown",
   "metadata": {},
   "source": [
    "Thus, for initial states of the type $|0,{\\uparrow,\\downarrow}>$ considering the singly occupied $\\textit{xz}$ multiplet, we obtain transitions involving $t_{yz,xz}$ and $t_{yz,yz}$ for $|0,{\\uparrow}>$ and $t_{xz,xz}$ and $t_{xz,yz}$ $|0,{\\downarrow}>$.\n",
    "\n",
    "And at last $d^4_0d^4_0$"
   ]
  },
  {
   "cell_type": "code",
   "execution_count": null,
   "metadata": {},
   "outputs": [],
   "source": [
    "transition(S0_1 + S0_1, T1_p_xz)\n",
    "transition(S0_1 + S0_2, T1_p_xz)\n",
    "transition(S0_2 + S0_1, T1_p_xz)\n",
    "transition(S0_2 + S0_2, T1_p_xz)\n",
    "print(\"------------------------\")\n",
    "transition(S0_1 + S0_1, T1_n_xz)\n",
    "transition(S0_1 + S0_2, T1_n_xz)\n",
    "transition(S0_2 + S0_1, T1_n_xz)\n",
    "transition(S0_2 + S0_2, T1_n_xz)"
   ]
  },
  {
   "cell_type": "code",
   "execution_count": null,
   "metadata": {},
   "outputs": [],
   "source": []
  }
 ],
 "metadata": {
  "kernelspec": {
   "display_name": "Python 3",
   "language": "python",
   "name": "python3"
  },
  "language_info": {
   "codemirror_mode": {
    "name": "ipython",
    "version": 3
   },
   "file_extension": ".py",
   "mimetype": "text/x-python",
   "name": "python",
   "nbconvert_exporter": "python",
   "pygments_lexer": "ipython3",
   "version": "3.6.8"
  }
 },
 "nbformat": 4,
 "nbformat_minor": 2
}
