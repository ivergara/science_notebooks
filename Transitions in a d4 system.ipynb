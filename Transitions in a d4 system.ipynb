{
 "cells": [
  {
   "cell_type": "markdown",
   "metadata": {},
   "source": [
    "# Transitions of a $d^4$ system\n",
    "\n",
    "We calculate the possible transitions of the type $d^4d^4\\rightarrow d^3d^5$, applying some knowledge regarding the ground state of the CRO system.\n",
    "\n",
    "To recapitulate, the representation is as follows: each level/orbital is composed of two elements of an array, one for each spin (up, down). In a low spin d4 system, we have only the t2g orbitals (xy yz xz) active leading to a 6 elements representation for a site. Two neighboring states involved in a transition are contiguous in a list, thus consisting of 12 elements.\n",
    "\n",
    "First we generate all possible states for a single site with 3, 4, and 5 electrons."
   ]
  },
  {
   "cell_type": "code",
   "execution_count": null,
   "metadata": {
    "collapsed": true
   },
   "outputs": [],
   "source": [
    "import numpy as np\n",
    "import itertools\n",
    "import functools\n",
    "import operator"
   ]
  },
  {
   "cell_type": "code",
   "execution_count": null,
   "metadata": {
    "collapsed": true
   },
   "outputs": [],
   "source": [
    "def generate_states(electrons, states):\n",
    "    seed = [1 if position < electrons else 0 for position in range(states)]\n",
    "    generated_states = list(set(itertools.permutations(seed)))\n",
    "    generated_states.sort(reverse=True)\n",
    "    return generated_states"
   ]
  },
  {
   "cell_type": "code",
   "execution_count": null,
   "metadata": {},
   "outputs": [],
   "source": [
    "states_d3 = generate_states(3,6)\n",
    "states_d4 = generate_states(4,6)\n",
    "states_d5 = generate_states(5,6)\n",
    "states_d4"
   ]
  },
  {
   "cell_type": "markdown",
   "metadata": {},
   "source": [
    "Not all generated states are relevant for the problem, and we can reduce the amount of states beforehand. \n",
    "\n",
    "From all the $d^4$ states, we consider only those with a full $d_{xy}$ orbital and those which distribute the other two electrons in different orbitals as possible initial states as those are the possible ground states. In our representations, this means only the states that have a 1 in the first two entires. Also, we do not need those states with double occupancy in zx or yz orbital."
   ]
  },
  {
   "cell_type": "code",
   "execution_count": null,
   "metadata": {},
   "outputs": [],
   "source": [
    "possible_states_d4 = [state for state in states_d4 \n",
    "                      if state[0]==1 and state[1]==1  #  dxy orbital double occupancy\n",
    "                      and state[2] is not state[3]]       # dzx/dyz orbital single occupancy\n",
    "possible_states_d4"
   ]
  },
  {
   "cell_type": "markdown",
   "metadata": {},
   "source": [
    "Regarding the $d^3$ states, we want at least those which keep one electron in the $d_{xy}$ orbital since we know that the others states are not reachable with one movement."
   ]
  },
  {
   "cell_type": "code",
   "execution_count": null,
   "metadata": {},
   "outputs": [],
   "source": [
    "possible_states_d3 = [state for state in states_d3 if state[0]==1 or state[1]==1]\n",
    "possible_states_d3"
   ]
  },
  {
   "cell_type": "markdown",
   "metadata": {},
   "source": [
    "In the case of the $d^5$ states, since our ground state has a doule occupied $d_{xy}$ orbital then it has to stay occupied."
   ]
  },
  {
   "cell_type": "code",
   "execution_count": null,
   "metadata": {},
   "outputs": [],
   "source": [
    "possible_states_d5 = [list(state) for state in states_d5 if state[0]==1 and state[1]==1]\n",
    "possible_states_d5 "
   ]
  },
  {
   "cell_type": "markdown",
   "metadata": {},
   "source": [
    "Now we generate all possible initial $d^4d^4$"
   ]
  },
  {
   "cell_type": "code",
   "execution_count": null,
   "metadata": {},
   "outputs": [],
   "source": [
    "initial_states = list(set([tuple(functools.reduce(operator.add, combination)) \n",
    "                           for combination \n",
    "                           in itertools.combinations_with_replacement(possible_states_d4,2)]))\n",
    "initial_states"
   ]
  },
  {
   "cell_type": "markdown",
   "metadata": {},
   "source": [
    "and the $d^3d^5$ final states printing out the amount of them."
   ]
  },
  {
   "cell_type": "code",
   "execution_count": null,
   "metadata": {},
   "outputs": [],
   "source": [
    "final_states = list(set([tuple(functools.reduce(operator.add, combination)) \n",
    "                          for combination \n",
    "                          in itertools.product(possible_states_d3,possible_states_d5)]))\n",
    "final_states.sort(reverse=True)\n",
    "len(final_states)"
   ]
  },
  {
   "cell_type": "markdown",
   "metadata": {},
   "source": [
    "Now we check if the transition from each initial state to each final state and print out those that are allowed."
   ]
  },
  {
   "cell_type": "code",
   "execution_count": null,
   "metadata": {},
   "outputs": [],
   "source": [
    "def is_allowed(jump):\n",
    "    if np.unique(np.remainder(np.nonzero(jump),2)).size == 1:\n",
    "        return 1\n",
    "    return 0\n",
    "\n",
    "for initial_state in initial_states:\n",
    "    for final_state in final_states:\n",
    "        jump = np.logical_xor(initial_state,final_state)\n",
    "        allowed = is_allowed(jump)\n",
    "        if allowed:\n",
    "            print(\"From initial state {} to final state {} is allowed.\".format(initial_state, final_state))"
   ]
  },
  {
   "cell_type": "markdown",
   "metadata": {},
   "source": [
    "Now we test what happens for the actual transitions. First at low temperatures we only have $S_z=\\pm1$ states in the ground state in AFM ordering.\n",
    "\n"
   ]
  },
  {
   "cell_type": "code",
   "execution_count": null,
   "metadata": {},
   "outputs": [],
   "source": [
    "#                                i      '     j\n",
    "#  \n",
    "AFM_ground_state_multiplet    = [1,1,1,0,1,0,1,1,0,1,0,1] # d4d4 AFM state\n",
    "final_state_multiplet_d3_one  = [[1,0,1,0,0,1],[1,0,0,1,1,0],[0,1,1,0,1,0]]  # 4A2 S=1/2 d3 multiplet\n",
    "\n",
    "final_state_multiplet_one     = [tuple(functools.reduce(operator.add, [state, [1,1,1,1,0,1]])) \n",
    "                             for state \n",
    "                             in final_state_multiplet_d3_one]\n",
    "\n",
    "for state in final_state_multiplet_one:\n",
    "    jump = np.logical_xor(AFM_ground_state_multiplet, state)\n",
    "    allowed = is_allowed(jump)\n",
    "    print(allowed)"
   ]
  },
  {
   "cell_type": "code",
   "execution_count": null,
   "metadata": {},
   "outputs": [],
   "source": [
    "AFM_ground_state_multiplet    = [1,1,0,1,0,1,1,1,1,0,1,0] # d4d4 AFM state\n",
    "final_state_multiplet_d3_two  = [[1,0,0,1,0,1],[0,1,1,0,0,1],[0,1,0,1,1,0]]  # 4A2 S=1/2 d3 multiplet\n",
    "final_state_multiplet_two     = [list(functools.reduce(operator.add, [state, [1,1,1,0,1,1]])) \n",
    "                             for state \n",
    "                             in final_state_multiplet_d3_two]\n",
    "for state in final_state_multiplet_two:\n",
    "    jump = np.logical_xor(AFM_ground_state_multiplet,state)\n",
    "    allowed = is_allowed(jump)\n",
    "    print(allowed)"
   ]
  },
  {
   "cell_type": "markdown",
   "metadata": {},
   "source": [
    "From the $d^4_{\\downarrow}d^4_{\\uparrow}$ AFM state to the $d3d5$ $^4A_2$ $S=\\frac{1}{2}$ there is only one allowed term. Comparing the ground state and the final multiplet we can see that the transition is $t_{xy,xz}/\\sqrt{3}$. Unfortunatelly, this way of testing transitions is somewhat cumbersome, particularly given that we already calculated all possible combinations.\n",
    "\n",
    "Now we check for the $d^4_{\\uparrow}d^4_{\\uparrow}$ FM state to the $d3d5$ $^4A_2$ $S=\\frac{3}{2}$."
   ]
  },
  {
   "cell_type": "code",
   "execution_count": null,
   "metadata": {},
   "outputs": [],
   "source": [
    "FM_ground_state_multiplet     = [1,1,1,0,1,0,1,1,1,0,1,0] # d4d4 AFM state\n",
    "final_state_multiplet_d3_three  = [[1,0,1,0,1,0]]  # 4A2 S=3/2 d3 multiplet\n",
    "\n",
    "final_state_multiplet_three     = [tuple(functools.reduce(operator.add, [state, [1,1,1,1,1,0]])) \n",
    "                             for state \n",
    "                             in final_state_multiplet_d3_three]\n",
    "\n",
    "for state in final_state_multiplet_three:\n",
    "    jump = np.logical_xor(FM_ground_state_multiplet, state)\n",
    "    allowed = is_allowed(jump)\n",
    "    print(allowed)"
   ]
  },
  {
   "cell_type": "markdown",
   "metadata": {},
   "source": [
    "The result obtained is the same as easily calculculated by hand, where the transition is allowed and has a matrix element of $t_{xy,xz}$.\n",
    "\n",
    "We create now all possible $^4A_2$ multiplets with $S=3/2$. These are composed by the $S_z=3/2$ and the $S_z=1/2$ states.\n",
    "\n",
    "First for $S_z=3/2$ we have"
   ]
  },
  {
   "cell_type": "code",
   "execution_count": null,
   "metadata": {},
   "outputs": [],
   "source": [
    "multiplet_d3 = [[1,0,1,0,1,0],[0,1,0,1,0,1]] # 4A2 S=3/2 d3 multiplet, both spins\n",
    "possible_states_d5 = [list(state) for state in possible_states_d5]\n",
    "final_states_multiplets = [functools.reduce(operator.add, combination) \n",
    "                           for combination \n",
    "                           in itertools.product(list(multiplet_d3),list(possible_states_d5))]\n",
    "final_states_multiplets.sort(reverse=True)\n",
    "print(\"From initial state {}\".format(AFM_ground_state_multiplet))\n",
    "for state in final_states_multiplets:\n",
    "    jump = np.logical_xor(AFM_ground_state_multiplet,state)\n",
    "    allowed = is_allowed(jump)\n",
    "    if allowed:\n",
    "        print(\"       final state {} is allowed.\".format(state))"
   ]
  },
  {
   "cell_type": "markdown",
   "metadata": {},
   "source": [
    "From this multiplet, we cannot reach any final $d^5$ state.\n",
    "\n",
    "Doing the same for the $d^3$ $S_z=1/2$ states we obtain"
   ]
  },
  {
   "cell_type": "code",
   "execution_count": null,
   "metadata": {},
   "outputs": [],
   "source": [
    "multiplet_d3_down  = [[1,0,1,0,0,1],[1,0,0,1,1,0],[0,1,1,0,1,0]]  # 4A2 Sz=1/2 d3 multiplet one spin down\n",
    "multiplet_d3_up  = [[1,0,0,1,0,1],[0,1,1,0,0,1],[0,1,0,1,1,0]]  # 4A2 Sz=1/2 d3 multiplet one spin up\n",
    "final_states_multiplets = [functools.reduce(operator.add, combination)\n",
    "                          for combination \n",
    "                          in itertools.product(multiplet_d3_down+multiplet_d3_up,possible_states_d5)]\n",
    "final_states_multiplets.sort(reverse=True)\n",
    "print(\"From initial state {}\".format(AFM_ground_state_multiplet))\n",
    "for state in final_states_multiplets:\n",
    "    jump = np.logical_xor(AFM_ground_state_multiplet,state)\n",
    "    allowed = is_allowed(jump)\n",
    "    if allowed:\n",
    "        print(\"       final state {} is allowed.\".format(state))"
   ]
  },
  {
   "cell_type": "markdown",
   "metadata": {},
   "source": [
    "Given the antiferromagnetic $d^4_\\downarrow d^4_\\uparrow$ state as the initial one, only transitions from the $d_{xy}$ orbital to the $d_{xz}$ or $d_{yz}$ orbitals are allowed with transition matrix element $t_{xy,xz}/\\sqrt{3}$ and $t_{xy,yz}/\\sqrt{3}$, respectivelly.\n",
    "\n",
    "Now, we are interested in the $S_z=0$ $d^4$ state into account."
   ]
  },
  {
   "cell_type": "code",
   "execution_count": null,
   "metadata": {},
   "outputs": [],
   "source": [
    "multiplet_d4_Sz0 = [[1,1,1,0,0,1],[1,1,0,1,1,0]]  # Sz=0 d4 multiplet\n",
    "list(itertools.product(multiplet_d4_Sz0,multiplet_d4_Sz0))"
   ]
  },
  {
   "cell_type": "code",
   "execution_count": null,
   "metadata": {},
   "outputs": [],
   "source": [
    "multiplet_d4_Sz0 = [[1,1,1,0,0,1],[1,1,0,1,1,0]]  # Sz=0 d4 multiplet\n",
    "functools.reduce(operator.add, multiplet_d4_Sz0*2)\n",
    "initial_states_multiplets = [tuple(functools.reduce(operator.add, combination))\n",
    "                          for combination \n",
    "                          in itertools.product(multiplet_d4_Sz0,multiplet_d4_Sz0)]\n",
    "initial_states_multiplets"
   ]
  },
  {
   "cell_type": "code",
   "execution_count": null,
   "metadata": {
    "scrolled": false
   },
   "outputs": [],
   "source": [
    "\n",
    "multiplet_d3_down  = [[1,0,1,0,0,1],[1,0,0,1,1,0],[0,1,1,0,1,0]]  # 4A2 Sz=1/2 d3 multiplet one spin down\n",
    "multiplet_d3_up  = [[1,0,0,1,0,1],[0,1,1,0,0,1],[0,1,0,1,1,0]]  # 4A2 Sz=1/2 d3 multiplet one spin up\n",
    "final_states_multiplets = [tuple(functools.reduce(operator.add, combination))\n",
    "                          for combination \n",
    "                          in itertools.product(multiplet_d3_down+multiplet_d3_up,possible_states_d5)]\n",
    "final_states_multiplets.sort(reverse=True)\n",
    "for istate in initial_states_multiplets:\n",
    "    print(\"From initial state {}\".format(istate))\n",
    "    for state in final_states_multiplets:\n",
    "        print(istate,state)\n",
    "        jump = np.logical_xor(istate,state)\n",
    "        allowed = is_allowed(jump)\n",
    "        if allowed:\n",
    "            print(\"       final state {} is allowed {}.\".format(state, allowed))"
   ]
  },
  {
   "cell_type": "code",
   "execution_count": null,
   "metadata": {},
   "outputs": [],
   "source": [
    "len(final_states_multiplets)"
   ]
  },
  {
   "cell_type": "code",
   "execution_count": null,
   "metadata": {},
   "outputs": [],
   "source": [
    "multiplet_d3_down+multiplet_d3_up"
   ]
  },
  {
   "cell_type": "code",
   "execution_count": null,
   "metadata": {},
   "outputs": [],
   "source": [
    "possible_states_d5"
   ]
  },
  {
   "cell_type": "code",
   "execution_count": null,
   "metadata": {},
   "outputs": [],
   "source": [
    "list(itertools.product(multiplet_d3_down+multiplet_d3_up,possible_states_d5))"
   ]
  },
  {
   "cell_type": "code",
   "execution_count": null,
   "metadata": {},
   "outputs": [],
   "source": [
    "test_state = (1, 1, 1, 0, 0, 1, 1, 1, 0, 1, 1, 0)\n",
    "\n",
    "\n",
    "for state in final_states:\n",
    "    jump = np.logical_xor(test_state,state)\n",
    "    allowed = is_allowed(jump)\n",
    "    if allowed:\n",
    "        print(\"From initial state {}\".format(test_state))\n",
    "        print(\"       final state {} is allowed.\\n\".format(state))"
   ]
  },
  {
   "cell_type": "markdown",
   "metadata": {},
   "source": [
    "We have an overestimation of allowed transitions, from the six ones showed only 4 are proper ones. The other two have two extra changes!\n",
    "\n",
    "When taking those out, we obtain the transitions"
   ]
  },
  {
   "cell_type": "code",
   "execution_count": null,
   "metadata": {},
   "outputs": [],
   "source": [
    "test_state = (1, 1, 1, 0, 0, 1, 1, 1, 1, 0, 0, 1)\n",
    "\n",
    "\n",
    "for state in final_states:\n",
    "    jump = np.logical_xor(test_state,state)\n",
    "    allowed = is_allowed(jump)\n",
    "    if allowed:\n",
    "        print(\"From initial state {}\".format(test_state))\n",
    "        print(\"       final state {} is allowed.\\n\".format(state))"
   ]
  },
  {
   "cell_type": "markdown",
   "metadata": {},
   "source": [
    "Now, we want to extract the amplitudes in a smart way. Considering the $S_z=\\pm1,0$ we have four possible initial states: $d^\\uparrow_4d^\\uparrow_4$, $d^\\uparrow_4d^\\downarrow_4$, $d^\\uparrow_4d^0_4$, $d^0_4d^0_4$. Then, we are interested in the $d_3d_5$ sectors given by a $|^4A_2,3/2>$, $|^4A_2,1/2>$, $|^4A_2,3/2>$, $|^2E,a>$, $|^2E,b>$ multiplets (as given by Zang202017), combined with a $d_5$ state."
   ]
  },
  {
   "cell_type": "markdown",
   "metadata": {},
   "source": [
    "# Final code!"
   ]
  },
  {
   "cell_type": "code",
   "execution_count": null,
   "metadata": {},
   "outputs": [],
   "source": [
    "from typing import List\n",
    "\n",
    "def transition(initial: List, final: List[List[int]], debug = False):\n",
    "    \"\"\"This function takes the list representation of an initial state and a list of\n",
    "    final d3 states. Then, it computes if the transition from the initial state to the \n",
    "    compounded d3d5 final state is possible.\n",
    "    \"\"\"\n",
    "    # multiplet_d3 = [[1,0,1,0,1,0],[0,1,0,1,0,1]] # 4A2 S=3/2 d3 multiplet, both spins\n",
    "#     possible_states_d5 = [list(state) for state in possible_states_d5]\n",
    "    \n",
    "    # Producing all the possible final states. This has to be read from bottom to top.\n",
    "    final_states = [\n",
    "                    functools.reduce(operator.add, combination) #  3) the single site representations are combined into one single two-site representation\n",
    "                    for combination  # 2) we iterate over all the d3d5 combinations produced\n",
    "                    in itertools.product(list(final), list(possible_states_d5))  # 1) make the product of the given d3 final states and possible d5 states.\n",
    "                   ]\n",
    "    \n",
    "    final_states.sort(reverse=True)\n",
    "    \n",
    "    if debug:\n",
    "        print(final_states)\n",
    "        \n",
    "    print(\"From initial state {}\".format(initial))\n",
    "    for state in final_states:\n",
    "        jump = np.logical_xor(initial,state)\n",
    "        allowed = is_allowed(jump)\n",
    "        if allowed:\n",
    "            print(\"       final state {} is allowed.\".format(state))"
   ]
  },
  {
   "cell_type": "code",
   "execution_count": null,
   "metadata": {},
   "outputs": [],
   "source": [
    "transition(initial=[1, 1, 0, 1, 0, 1, 1, 1, 1, 0, 1, 0], final=[[1,0,1,0,1,0],[0,1,0,1,0,1]])"
   ]
  },
  {
   "cell_type": "code",
   "execution_count": null,
   "metadata": {},
   "outputs": [],
   "source": [
    "possible_states_d4"
   ]
  },
  {
   "cell_type": "markdown",
   "metadata": {},
   "source": [
    "## Case: $^4A_2$ and $S=\\pm1$\n",
    "Starting with the pure $S=\\pm1$ initial states, meaning $d^\\uparrow_4d^\\uparrow_4$ and $d^\\uparrow_4d^\\downarrow_4$, we have the following representations:"
   ]
  },
  {
   "cell_type": "code",
   "execution_count": null,
   "metadata": {
    "collapsed": true
   },
   "outputs": [],
   "source": [
    "AFM_down = [1,1,0,1,0,1,1,1,1,0,1,0]\n",
    "FM_down  = [1,1,0,1,0,1,1,1,0,1,0,1]\n",
    "\n",
    "AFM_up = [1,1,1,0,1,0,1,1,0,1,0,1]\n",
    "FM_up  = [1,1,1,0,1,0,1,1,1,0,1,0]"
   ]
  },
  {
   "cell_type": "markdown",
   "metadata": {},
   "source": [
    "Then, the representation for a $|^4A_2,3/2>$ multiplet is given by"
   ]
  },
  {
   "cell_type": "code",
   "execution_count": null,
   "metadata": {},
   "outputs": [],
   "source": [
    "A2_32 = [[1,0,1,0,1,0]]\n",
    "transition(AFM, A2_32)\n",
    "transition(FM, A2_32)"
   ]
  },
  {
   "cell_type": "markdown",
   "metadata": {},
   "source": [
    "As expected, this transition has no weigth.\n",
    "\n",
    "Continuing with $|^4A_2,1/2>$"
   ]
  },
  {
   "cell_type": "code",
   "execution_count": null,
   "metadata": {},
   "outputs": [],
   "source": [
    "A2_12 = [[1,0,0,1,0,1],[0,1,1,0,0,1],[0,1,0,1,1,0]]  # 4A2 Sz=1/2 d3 multiplet one spin up\n",
    "transition(AFM, A2_12)\n",
    "transition(FM, A2_12)"
   ]
  },
  {
   "cell_type": "markdown",
   "metadata": {},
   "source": [
    "Going now into the more challenging $S=0$ states, we start with the $d^\\uparrow_4d^0_4$ initial state. For this, we will split thw $d^0_4$ in the two parts."
   ]
  },
  {
   "cell_type": "code",
   "execution_count": null,
   "metadata": {},
   "outputs": [],
   "source": [
    "S0_1 = [1, 1, 1, 0, 0, 1]\n",
    "S0_2 = [1, 1, 0, 1, 1, 0]"
   ]
  },
  {
   "cell_type": "markdown",
   "metadata": {},
   "source": [
    "For the $|^4A_2,3/2>$ $d_3$ multiplet"
   ]
  },
  {
   "cell_type": "code",
   "execution_count": null,
   "metadata": {},
   "outputs": [],
   "source": [
    "transition(S0_1 + [1, 1, 1, 0, 1, 0], A2_32)\n",
    "transition(S0_2 + [1, 1, 1, 0, 1, 0], A2_32)"
   ]
  },
  {
   "cell_type": "markdown",
   "metadata": {},
   "source": [
    "For the $|^4A_2,1/2>$ $d_3$ multiplet"
   ]
  },
  {
   "cell_type": "code",
   "execution_count": null,
   "metadata": {},
   "outputs": [],
   "source": [
    "transition(S0_1 + [1, 1, 0, 1, 0, 1], A2_12)\n",
    "transition(S0_2 + [1, 1, 0, 1, 0, 1], A2_12)"
   ]
  },
  {
   "cell_type": "markdown",
   "metadata": {},
   "source": [
    "Continuing with the $d^0_4d^0_4$"
   ]
  },
  {
   "cell_type": "code",
   "execution_count": null,
   "metadata": {},
   "outputs": [],
   "source": [
    "transition(S0_1 + S0_2, A2_32)\n",
    "transition(S0_1 + S0_2, A2_12)"
   ]
  },
  {
   "cell_type": "markdown",
   "metadata": {},
   "source": [
    "## E multiplets\n",
    "\n",
    "We first do $S=\\pm1$ initial states."
   ]
  },
  {
   "cell_type": "code",
   "execution_count": null,
   "metadata": {},
   "outputs": [],
   "source": [
    "Ea = [[0,1,1,0,1,0],[1,0,0,1,1,0],[1,0,1,0,0,1]]  # 2Ea\n",
    "transition(AFM, Ea)\n",
    "transition(FM, Ea)"
   ]
  },
  {
   "cell_type": "code",
   "execution_count": null,
   "metadata": {},
   "outputs": [],
   "source": [
    "Eb = [[1,0,1,0,0,1],[1,0,0,1,1,0]]  # 2Eb\n",
    "transition(AFM, Eb)\n",
    "transition(FM, Eb)"
   ]
  },
  {
   "cell_type": "code",
   "execution_count": null,
   "metadata": {},
   "outputs": [],
   "source": [
    "possible_states_d5"
   ]
  }
 ],
 "metadata": {
  "kernelspec": {
   "display_name": "Python 3",
   "language": "python",
   "name": "python3"
  },
  "language_info": {
   "codemirror_mode": {
    "name": "ipython",
    "version": 3
   },
   "file_extension": ".py",
   "mimetype": "text/x-python",
   "name": "python",
   "nbconvert_exporter": "python",
   "pygments_lexer": "ipython3",
   "version": "3.6.2"
  }
 },
 "nbformat": 4,
 "nbformat_minor": 2
}
