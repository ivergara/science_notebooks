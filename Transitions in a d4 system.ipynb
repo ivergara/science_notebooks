{
 "cells": [
  {
   "cell_type": "markdown",
   "metadata": {},
   "source": [
    "# Transitions of a $d^4$ system\n",
    "\n",
    "We calculate the possible transitions of the type $d^4d^4\\rightarrow d^3d^5$, applying some knowledge regarding the ground state of the CRO system.\n",
    "\n",
    "To recapitulate, the representation is as follows: each level/orbital is composed of two elements of an array, one for each spin (up, down). In a low spin d4 system, we have only the t2g orbitals (xy yz xz) active leading to a 6 elements representation for a site. Two neighboring states involved in a transition are contiguous in a list, thus consisting of 12 elements.\n",
    "\n",
    "First we generate all possible states for a single site with 3, 4, and 5 electrons."
   ]
  },
  {
   "cell_type": "code",
   "execution_count": 1,
   "metadata": {
    "collapsed": true
   },
   "outputs": [],
   "source": [
    "import numpy as np\n",
    "import itertools\n",
    "import functools\n",
    "import operator"
   ]
  },
  {
   "cell_type": "code",
   "execution_count": 2,
   "metadata": {
    "collapsed": true
   },
   "outputs": [],
   "source": [
    "def generate_states(electrons, states):\n",
    "    seed = [1 if position < electrons else 0 for position in range(states)]\n",
    "    generated_states = list(set(itertools.permutations(seed)))\n",
    "    generated_states.sort(reverse=True)\n",
    "    return generated_states"
   ]
  },
  {
   "cell_type": "code",
   "execution_count": 3,
   "metadata": {},
   "outputs": [
    {
     "data": {
      "text/plain": [
       "[(1, 1, 1, 1, 0, 0),\n",
       " (1, 1, 1, 0, 1, 0),\n",
       " (1, 1, 1, 0, 0, 1),\n",
       " (1, 1, 0, 1, 1, 0),\n",
       " (1, 1, 0, 1, 0, 1),\n",
       " (1, 1, 0, 0, 1, 1),\n",
       " (1, 0, 1, 1, 1, 0),\n",
       " (1, 0, 1, 1, 0, 1),\n",
       " (1, 0, 1, 0, 1, 1),\n",
       " (1, 0, 0, 1, 1, 1),\n",
       " (0, 1, 1, 1, 1, 0),\n",
       " (0, 1, 1, 1, 0, 1),\n",
       " (0, 1, 1, 0, 1, 1),\n",
       " (0, 1, 0, 1, 1, 1),\n",
       " (0, 0, 1, 1, 1, 1)]"
      ]
     },
     "execution_count": 3,
     "metadata": {},
     "output_type": "execute_result"
    }
   ],
   "source": [
    "states_d3 = generate_states(3,6)\n",
    "states_d4 = generate_states(4,6)\n",
    "states_d5 = generate_states(5,6)\n",
    "states_d4"
   ]
  },
  {
   "cell_type": "markdown",
   "metadata": {},
   "source": [
    "Not all generated states are relevant for the problem, and we can reduce the amount of states beforehand. \n",
    "\n",
    "From all the $d^4$ states, we consider only those with a full $d_{xy}$ orbital and those which distribute the other two electrons in different orbitals as possible initial states as those are the possible ground states. In our representations, this means only the states that have a 1 in the first two entires. Also, we do not need those states with double occupancy in zx or yz orbital."
   ]
  },
  {
   "cell_type": "code",
   "execution_count": 4,
   "metadata": {},
   "outputs": [
    {
     "data": {
      "text/plain": [
       "[(1, 1, 1, 0, 1, 0),\n",
       " (1, 1, 1, 0, 0, 1),\n",
       " (1, 1, 0, 1, 1, 0),\n",
       " (1, 1, 0, 1, 0, 1)]"
      ]
     },
     "execution_count": 4,
     "metadata": {},
     "output_type": "execute_result"
    }
   ],
   "source": [
    "possible_states_d4 = [state for state in states_d4 \n",
    "                      if state[0]==1 and state[1]==1  #  dxy orbital double occupancy\n",
    "                      and state[2] is not state[3]]       # dzx/dyz orbital single occupancy\n",
    "possible_states_d4"
   ]
  },
  {
   "cell_type": "markdown",
   "metadata": {},
   "source": [
    "Regarding the $d^3$ states, we want at least those which keep one electron in the $d_{xy}$ orbital since we know that the others must be zero."
   ]
  },
  {
   "cell_type": "code",
   "execution_count": 5,
   "metadata": {},
   "outputs": [
    {
     "data": {
      "text/plain": [
       "[(1, 1, 1, 0, 0, 0),\n",
       " (1, 1, 0, 1, 0, 0),\n",
       " (1, 1, 0, 0, 1, 0),\n",
       " (1, 1, 0, 0, 0, 1),\n",
       " (1, 0, 1, 1, 0, 0),\n",
       " (1, 0, 1, 0, 1, 0),\n",
       " (1, 0, 1, 0, 0, 1),\n",
       " (1, 0, 0, 1, 1, 0),\n",
       " (1, 0, 0, 1, 0, 1),\n",
       " (1, 0, 0, 0, 1, 1),\n",
       " (0, 1, 1, 1, 0, 0),\n",
       " (0, 1, 1, 0, 1, 0),\n",
       " (0, 1, 1, 0, 0, 1),\n",
       " (0, 1, 0, 1, 1, 0),\n",
       " (0, 1, 0, 1, 0, 1),\n",
       " (0, 1, 0, 0, 1, 1)]"
      ]
     },
     "execution_count": 5,
     "metadata": {},
     "output_type": "execute_result"
    }
   ],
   "source": [
    "possible_states_d3 = [state for state in states_d3 if state[0]==1 or state[1]==1]\n",
    "possible_states_d3"
   ]
  },
  {
   "cell_type": "markdown",
   "metadata": {},
   "source": [
    "In the case of the $d^5$ states, since our ground state has a doule occupied $d_{xy}$ orbital then it has to stay occupied."
   ]
  },
  {
   "cell_type": "code",
   "execution_count": 11,
   "metadata": {},
   "outputs": [
    {
     "data": {
      "text/plain": [
       "[(1, 1, 1, 1, 1, 0),\n",
       " (1, 1, 1, 1, 0, 1),\n",
       " (1, 1, 1, 0, 1, 1),\n",
       " (1, 1, 0, 1, 1, 1)]"
      ]
     },
     "execution_count": 11,
     "metadata": {},
     "output_type": "execute_result"
    }
   ],
   "source": [
    "possible_states_d5 = [tuple(state) for state in states_d5 if state[0]==1 and state[1]==1]\n",
    "possible_states_d5 "
   ]
  },
  {
   "cell_type": "markdown",
   "metadata": {},
   "source": [
    "Now we generate all possible initial $d^4d^4$"
   ]
  },
  {
   "cell_type": "code",
   "execution_count": 12,
   "metadata": {},
   "outputs": [
    {
     "data": {
      "text/plain": [
       "[(1, 1, 1, 0, 0, 1, 1, 1, 0, 1, 0, 1),\n",
       " (1, 1, 1, 0, 1, 0, 1, 1, 0, 1, 1, 0),\n",
       " (1, 1, 0, 1, 1, 0, 1, 1, 0, 1, 0, 1),\n",
       " (1, 1, 1, 0, 1, 0, 1, 1, 0, 1, 0, 1),\n",
       " (1, 1, 1, 0, 0, 1, 1, 1, 0, 1, 1, 0),\n",
       " (1, 1, 1, 0, 1, 0, 1, 1, 1, 0, 0, 1)]"
      ]
     },
     "execution_count": 12,
     "metadata": {},
     "output_type": "execute_result"
    }
   ],
   "source": [
    "initial_states = list(set([tuple(functools.reduce(operator.add, combination)) \n",
    "                           for combination \n",
    "                           in itertools.combinations(possible_states_d4,2)]))\n",
    "initial_states"
   ]
  },
  {
   "cell_type": "markdown",
   "metadata": {},
   "source": [
    "and the $d^3d^5$ final states printing out the amount of them."
   ]
  },
  {
   "cell_type": "code",
   "execution_count": 13,
   "metadata": {},
   "outputs": [
    {
     "data": {
      "text/plain": [
       "64"
      ]
     },
     "execution_count": 13,
     "metadata": {},
     "output_type": "execute_result"
    }
   ],
   "source": [
    "final_states = list(set([tuple(functools.reduce(operator.add, combination)) \n",
    "                          for combination \n",
    "                          in itertools.product(possible_states_d3,possible_states_d5)]))\n",
    "final_states.sort(reverse=True)\n",
    "len(final_states)"
   ]
  },
  {
   "cell_type": "markdown",
   "metadata": {},
   "source": [
    "Now we check if the transition from each initial state to each final state and print out those that are allowed."
   ]
  },
  {
   "cell_type": "code",
   "execution_count": 14,
   "metadata": {},
   "outputs": [
    {
     "name": "stdout",
     "output_type": "stream",
     "text": [
      "From initial state (1, 1, 1, 0, 0, 1, 1, 1, 0, 1, 0, 1) to final state (1, 1, 0, 0, 0, 1, 1, 1, 1, 1, 0, 1) is allowed.\n",
      "From initial state (1, 1, 1, 0, 0, 1, 1, 1, 0, 1, 0, 1) to final state (1, 1, 0, 0, 0, 1, 1, 1, 0, 1, 1, 1) is allowed.\n",
      "From initial state (1, 1, 1, 0, 0, 1, 1, 1, 0, 1, 0, 1) to final state (0, 1, 1, 0, 0, 1, 1, 1, 1, 1, 0, 1) is allowed.\n",
      "From initial state (1, 1, 1, 0, 0, 1, 1, 1, 0, 1, 0, 1) to final state (0, 1, 1, 0, 0, 1, 1, 1, 0, 1, 1, 1) is allowed.\n",
      "From initial state (1, 1, 1, 0, 0, 1, 1, 1, 0, 1, 0, 1) to final state (0, 1, 0, 0, 1, 1, 1, 1, 1, 1, 0, 1) is allowed.\n",
      "From initial state (1, 1, 1, 0, 0, 1, 1, 1, 0, 1, 0, 1) to final state (0, 1, 0, 0, 1, 1, 1, 1, 0, 1, 1, 1) is allowed.\n",
      "From initial state (1, 1, 1, 0, 1, 0, 1, 1, 0, 1, 1, 0) to final state (1, 1, 1, 0, 0, 0, 1, 1, 1, 1, 1, 0) is allowed.\n",
      "From initial state (1, 1, 1, 0, 1, 0, 1, 1, 0, 1, 1, 0) to final state (1, 1, 0, 0, 1, 0, 1, 1, 1, 1, 1, 0) is allowed.\n",
      "From initial state (1, 1, 1, 0, 1, 0, 1, 1, 0, 1, 1, 0) to final state (1, 0, 1, 0, 1, 0, 1, 1, 0, 1, 1, 1) is allowed.\n",
      "From initial state (1, 1, 1, 0, 1, 0, 1, 1, 0, 1, 1, 0) to final state (0, 1, 1, 0, 1, 0, 1, 1, 1, 1, 1, 0) is allowed.\n",
      "From initial state (1, 1, 0, 1, 1, 0, 1, 1, 0, 1, 0, 1) to final state (1, 1, 0, 1, 0, 0, 1, 1, 1, 1, 0, 1) is allowed.\n",
      "From initial state (1, 1, 0, 1, 1, 0, 1, 1, 0, 1, 0, 1) to final state (1, 1, 0, 1, 0, 0, 1, 1, 0, 1, 1, 1) is allowed.\n",
      "From initial state (1, 1, 0, 1, 1, 0, 1, 1, 0, 1, 0, 1) to final state (0, 1, 1, 1, 0, 0, 1, 1, 1, 1, 0, 1) is allowed.\n",
      "From initial state (1, 1, 0, 1, 1, 0, 1, 1, 0, 1, 0, 1) to final state (0, 1, 1, 1, 0, 0, 1, 1, 0, 1, 1, 1) is allowed.\n",
      "From initial state (1, 1, 0, 1, 1, 0, 1, 1, 0, 1, 0, 1) to final state (0, 1, 0, 1, 1, 0, 1, 1, 1, 1, 0, 1) is allowed.\n",
      "From initial state (1, 1, 0, 1, 1, 0, 1, 1, 0, 1, 0, 1) to final state (0, 1, 0, 1, 1, 0, 1, 1, 0, 1, 1, 1) is allowed.\n",
      "From initial state (1, 1, 1, 0, 1, 0, 1, 1, 0, 1, 0, 1) to final state (1, 1, 1, 0, 0, 0, 1, 1, 1, 1, 0, 1) is allowed.\n",
      "From initial state (1, 1, 1, 0, 1, 0, 1, 1, 0, 1, 0, 1) to final state (1, 1, 1, 0, 0, 0, 1, 1, 0, 1, 1, 1) is allowed.\n",
      "From initial state (1, 1, 1, 0, 1, 0, 1, 1, 0, 1, 0, 1) to final state (1, 1, 0, 0, 1, 0, 1, 1, 1, 1, 0, 1) is allowed.\n",
      "From initial state (1, 1, 1, 0, 1, 0, 1, 1, 0, 1, 0, 1) to final state (1, 1, 0, 0, 1, 0, 1, 1, 0, 1, 1, 1) is allowed.\n",
      "From initial state (1, 1, 1, 0, 1, 0, 1, 1, 0, 1, 0, 1) to final state (0, 1, 1, 0, 1, 0, 1, 1, 1, 1, 0, 1) is allowed.\n",
      "From initial state (1, 1, 1, 0, 1, 0, 1, 1, 0, 1, 0, 1) to final state (0, 1, 1, 0, 1, 0, 1, 1, 0, 1, 1, 1) is allowed.\n",
      "From initial state (1, 1, 1, 0, 0, 1, 1, 1, 0, 1, 1, 0) to final state (1, 1, 1, 0, 0, 0, 1, 1, 0, 1, 1, 1) is allowed.\n",
      "From initial state (1, 1, 1, 0, 0, 1, 1, 1, 0, 1, 1, 0) to final state (1, 1, 0, 0, 0, 1, 1, 1, 1, 1, 1, 0) is allowed.\n",
      "From initial state (1, 1, 1, 0, 0, 1, 1, 1, 0, 1, 1, 0) to final state (1, 0, 1, 1, 0, 0, 1, 1, 0, 1, 1, 1) is allowed.\n",
      "From initial state (1, 1, 1, 0, 0, 1, 1, 1, 0, 1, 1, 0) to final state (1, 0, 1, 0, 0, 1, 1, 1, 0, 1, 1, 1) is allowed.\n",
      "From initial state (1, 1, 1, 0, 0, 1, 1, 1, 0, 1, 1, 0) to final state (0, 1, 1, 0, 0, 1, 1, 1, 1, 1, 1, 0) is allowed.\n",
      "From initial state (1, 1, 1, 0, 0, 1, 1, 1, 0, 1, 1, 0) to final state (0, 1, 0, 0, 1, 1, 1, 1, 1, 1, 1, 0) is allowed.\n",
      "From initial state (1, 1, 1, 0, 1, 0, 1, 1, 1, 0, 0, 1) to final state (1, 1, 1, 0, 0, 0, 1, 1, 1, 0, 1, 1) is allowed.\n",
      "From initial state (1, 1, 1, 0, 1, 0, 1, 1, 1, 0, 0, 1) to final state (1, 1, 0, 0, 1, 0, 1, 1, 1, 0, 1, 1) is allowed.\n",
      "From initial state (1, 1, 1, 0, 1, 0, 1, 1, 1, 0, 0, 1) to final state (1, 0, 1, 0, 1, 0, 1, 1, 1, 1, 0, 1) is allowed.\n",
      "From initial state (1, 1, 1, 0, 1, 0, 1, 1, 1, 0, 0, 1) to final state (0, 1, 1, 0, 1, 0, 1, 1, 1, 0, 1, 1) is allowed.\n"
     ]
    }
   ],
   "source": [
    "def is_allowed(jump):\n",
    "    if np.unique(np.remainder(np.nonzero(jump),2)).size == 1:\n",
    "        return 1\n",
    "    return 0\n",
    "\n",
    "for initial_state in initial_states:\n",
    "    for final_state in final_states:\n",
    "        jump = np.logical_xor(initial_state,final_state)\n",
    "        allowed = is_allowed(jump)\n",
    "        if allowed:\n",
    "            print(\"From initial state {} to final state {} is allowed.\".format(initial_state, final_state))"
   ]
  },
  {
   "cell_type": "markdown",
   "metadata": {
    "collapsed": true
   },
   "source": [
    "Now we test what happens for the actual transitions. First at low temperatures we only have $S_z=\\pm1$ states in the ground state in AFM ordering.\n",
    "\n"
   ]
  },
  {
   "cell_type": "code",
   "execution_count": 15,
   "metadata": {},
   "outputs": [
    {
     "name": "stdout",
     "output_type": "stream",
     "text": [
      "0\n",
      "0\n",
      "1\n"
     ]
    }
   ],
   "source": [
    "#                                i      '     j\n",
    "#  \n",
    "ground_state_multiplet    = [1,1,1,0,1,0,1,1,0,1,0,1] # d4d4 AFM state\n",
    "final_state_multiplet_d3_one  = [[1,0,1,0,0,1],[1,0,0,1,1,0],[0,1,1,0,1,0]]  # 4A2 S=1/2 d3 multiplet\n",
    "\n",
    "final_state_multiplet_one     = [tuple(functools.reduce(operator.add, [state, [1,1,1,1,0,1]])) \n",
    "                             for state \n",
    "                             in final_state_multiplet_d3_one]\n",
    "\n",
    "for state in final_state_multiplet_one:\n",
    "    jump = np.logical_xor(ground_state_multiplet,state)\n",
    "    allowed = is_allowed(jump)\n",
    "    print(allowed)\n",
    "    \n",
    "\n",
    "#final_state_multiplet  # d3d5 final state"
   ]
  },
  {
   "cell_type": "code",
   "execution_count": 16,
   "metadata": {},
   "outputs": [
    {
     "name": "stdout",
     "output_type": "stream",
     "text": [
      "1\n",
      "0\n",
      "0\n"
     ]
    }
   ],
   "source": [
    "ground_state_multiplet    = [1,1,0,1,0,1,1,1,1,0,1,0] # d4d4 AFM state\n",
    "final_state_multiplet_d3_two  = [[1,0,0,1,0,1],[0,1,1,0,0,1],[0,1,0,1,1,0]]  # 4A2 S=1/2 d3 multiplet\n",
    "final_state_multiplet_two     = [list(functools.reduce(operator.add, [state, [1,1,1,0,1,1]])) \n",
    "                             for state \n",
    "                             in final_state_multiplet_d3_two]\n",
    "for state in final_state_multiplet_two:\n",
    "    jump = np.logical_xor(ground_state_multiplet,state)\n",
    "    allowed = is_allowed(jump)\n",
    "    print(allowed)"
   ]
  },
  {
   "cell_type": "markdown",
   "metadata": {},
   "source": [
    "From the $d^4_{\\downarrow}d^4_{\\uparrow}$ AFM state to the $d3d5$ $^4A_2$ $S=\\frac{1}{2}$ there is only one allowed term. Comparing the ground state and the final multiplet we can see that the transition is $t_{xy,xz}/\\sqrt{3}$. Unfortunatelly, this way of testing transitions is somewhat cumbersome, particularly given that we already calculated all possible combinations."
   ]
  },
  {
   "cell_type": "markdown",
   "metadata": {},
   "source": [
    "We create now all possible $^4A_2$ multiplets with $S=3/2$. These are composed by the $S_z=3/2$ and the $S_z=1/2$ states.\n",
    "\n",
    "First for $S_z=3/2$ we have"
   ]
  },
  {
   "cell_type": "code",
   "execution_count": 19,
   "metadata": {},
   "outputs": [
    {
     "ename": "TypeError",
     "evalue": "can only concatenate list (not \"tuple\") to list",
     "output_type": "error",
     "traceback": [
      "\u001b[1;31m---------------------------------------------------------------------------\u001b[0m",
      "\u001b[1;31mTypeError\u001b[0m                                 Traceback (most recent call last)",
      "\u001b[1;32m<ipython-input-19-de63166be38a>\u001b[0m in \u001b[0;36m<module>\u001b[1;34m()\u001b[0m\n\u001b[0;32m      2\u001b[0m final_states_multiplets = [functools.reduce(operator.add, combination)\n\u001b[0;32m      3\u001b[0m                           \u001b[1;32mfor\u001b[0m \u001b[0mcombination\u001b[0m\u001b[1;33m\u001b[0m\u001b[0m\n\u001b[1;32m----> 4\u001b[1;33m                           in itertools.product(list(multiplet_d3),list(possible_states_d5))]\n\u001b[0m\u001b[0;32m      5\u001b[0m \u001b[0mfinal_states_multiplets\u001b[0m\u001b[1;33m.\u001b[0m\u001b[0msort\u001b[0m\u001b[1;33m(\u001b[0m\u001b[0mreverse\u001b[0m\u001b[1;33m=\u001b[0m\u001b[1;32mTrue\u001b[0m\u001b[1;33m)\u001b[0m\u001b[1;33m\u001b[0m\u001b[0m\n\u001b[0;32m      6\u001b[0m \u001b[0mprint\u001b[0m\u001b[1;33m(\u001b[0m\u001b[1;34m\"From initial state {}\"\u001b[0m\u001b[1;33m.\u001b[0m\u001b[0mformat\u001b[0m\u001b[1;33m(\u001b[0m\u001b[0mground_state_multiplet\u001b[0m\u001b[1;33m)\u001b[0m\u001b[1;33m)\u001b[0m\u001b[1;33m\u001b[0m\u001b[0m\n",
      "\u001b[1;32m<ipython-input-19-de63166be38a>\u001b[0m in \u001b[0;36m<listcomp>\u001b[1;34m(.0)\u001b[0m\n\u001b[0;32m      1\u001b[0m \u001b[0mmultiplet_d3\u001b[0m \u001b[1;33m=\u001b[0m \u001b[1;33m[\u001b[0m\u001b[1;33m[\u001b[0m\u001b[1;36m1\u001b[0m\u001b[1;33m,\u001b[0m\u001b[1;36m0\u001b[0m\u001b[1;33m,\u001b[0m\u001b[1;36m1\u001b[0m\u001b[1;33m,\u001b[0m\u001b[1;36m0\u001b[0m\u001b[1;33m,\u001b[0m\u001b[1;36m1\u001b[0m\u001b[1;33m,\u001b[0m\u001b[1;36m0\u001b[0m\u001b[1;33m]\u001b[0m\u001b[1;33m,\u001b[0m\u001b[1;33m[\u001b[0m\u001b[1;36m0\u001b[0m\u001b[1;33m,\u001b[0m\u001b[1;36m1\u001b[0m\u001b[1;33m,\u001b[0m\u001b[1;36m0\u001b[0m\u001b[1;33m,\u001b[0m\u001b[1;36m1\u001b[0m\u001b[1;33m,\u001b[0m\u001b[1;36m0\u001b[0m\u001b[1;33m,\u001b[0m\u001b[1;36m1\u001b[0m\u001b[1;33m]\u001b[0m\u001b[1;33m]\u001b[0m \u001b[1;31m# 4A2 S=3/2 d3 multiplet, both spins\u001b[0m\u001b[1;33m\u001b[0m\u001b[0m\n\u001b[0;32m      2\u001b[0m final_states_multiplets = [functools.reduce(operator.add, combination)\n\u001b[1;32m----> 3\u001b[1;33m                           \u001b[1;32mfor\u001b[0m \u001b[0mcombination\u001b[0m\u001b[1;33m\u001b[0m\u001b[0m\n\u001b[0m\u001b[0;32m      4\u001b[0m                           in itertools.product(list(multiplet_d3),list(possible_states_d5))]\n\u001b[0;32m      5\u001b[0m \u001b[0mfinal_states_multiplets\u001b[0m\u001b[1;33m.\u001b[0m\u001b[0msort\u001b[0m\u001b[1;33m(\u001b[0m\u001b[0mreverse\u001b[0m\u001b[1;33m=\u001b[0m\u001b[1;32mTrue\u001b[0m\u001b[1;33m)\u001b[0m\u001b[1;33m\u001b[0m\u001b[0m\n",
      "\u001b[1;31mTypeError\u001b[0m: can only concatenate list (not \"tuple\") to list"
     ]
    }
   ],
   "source": [
    "multiplet_d3 = [[1,0,1,0,1,0],[0,1,0,1,0,1]] # 4A2 S=3/2 d3 multiplet, both spins\n",
    "final_states_multiplets = [functools.reduce(operator.add, combination)\n",
    "                          for combination \n",
    "                          in itertools.product(list(multiplet_d3),list(possible_states_d5))]\n",
    "final_states_multiplets.sort(reverse=True)\n",
    "print(\"From initial state {}\".format(ground_state_multiplet))\n",
    "for state in final_states_multiplets:\n",
    "    jump = np.logical_xor(ground_state_multiplet,state)\n",
    "    allowed = is_allowed(jump)\n",
    "    if allowed:\n",
    "        print(\"       final state {} is allowed {}.\".format(state, allowed))"
   ]
  },
  {
   "cell_type": "markdown",
   "metadata": {},
   "source": [
    "From this multiplet, we cannot reach any final $d^5$ state.\n",
    "\n",
    "Doing the same for the $S_z=1/2$ states we obtain"
   ]
  },
  {
   "cell_type": "code",
   "execution_count": null,
   "metadata": {},
   "outputs": [],
   "source": [
    "multiplet_d3_down  = [[1,0,1,0,0,1],[1,0,0,1,1,0],[0,1,1,0,1,0]]  # 4A2 Sz=1/2 d3 multiplet one spin down\n",
    "multiplet_d3_up  = [[1,0,0,1,0,1],[0,1,1,0,0,1],[0,1,0,1,1,0]]  # 4A2 Sz=1/2 d3 multiplet one spin up\n",
    "final_states_multiplets = [functools.reduce(operator.add, combination)\n",
    "                          for combination \n",
    "                          in itertools.product(multiplet_d3_down+multiplet_d3_up,possible_states_d5)]\n",
    "final_states_multiplets.sort(reverse=True)\n",
    "print(\"From initial state {}\".format(ground_state_multiplet))\n",
    "for state in final_states_multiplets:\n",
    "    jump = np.logical_xor(ground_state_multiplet,state)\n",
    "    allowed = is_allowed(jump)\n",
    "    if allowed:\n",
    "        print(\"       final state {} is allowed {}.\".format(state, allowed))"
   ]
  },
  {
   "cell_type": "markdown",
   "metadata": {},
   "source": [
    "Given the antiferromagnetic $d^4_\\downarrow d^4_\\uparrow$ state as the initial one, only transitions from the $d_{xy}$ orbital to the $d_{xz}$ or $d_{yz}$ orbitals are allowed with transition matrix element $t_{xy,xz}/\\sqrt{3}$ and $t_{xy,yz}/\\sqrt{3}$, respectivelly.\n",
    "\n",
    "Now, we are interested in the $S_z=0$ $d^4$ state into account."
   ]
  },
  {
   "cell_type": "code",
   "execution_count": null,
   "metadata": {},
   "outputs": [],
   "source": [
    "multiplet_d4_Sz0 = [[1,1,1,0,0,1],[1,1,0,1,1,0]]  # Sz=0 d4 multiplet\n",
    "multiplet_d3_down  = [[1,0,1,0,0,1],[1,0,0,1,1,0],[0,1,1,0,1,0]]  # 4A2 Sz=1/2 d3 multiplet one spin down\n",
    "multiplet_d3_up  = [[1,0,0,1,0,1],[0,1,1,0,0,1],[0,1,0,1,1,0]]  # 4A2 Sz=1/2 d3 multiplet one spin up\n",
    "final_states_multiplets = [functools.reduce(operator.add, combination)\n",
    "                          for combination \n",
    "                          in itertools.product(multiplet_d3_down+multiplet_d3_up,possible_states_d5)]\n",
    "final_states_multiplets.sort(reverse=True)\n",
    "for istate in multiplet_d4_Sz0:\n",
    "    print(\"From initial state {}\".format(istate))\n",
    "    for state in final_states_multiplets:\n",
    "        jump = np.logical_xor(istate,state)\n",
    "        allowed = is_allowed(jump)\n",
    "        if allowed:\n",
    "            print(\"       final state {} is allowed {}.\".format(state, allowed))"
   ]
  },
  {
   "cell_type": "code",
   "execution_count": null,
   "metadata": {
    "collapsed": true
   },
   "outputs": [],
   "source": []
  }
 ],
 "metadata": {
  "kernelspec": {
   "display_name": "Python 3",
   "language": "python",
   "name": "python3"
  },
  "language_info": {
   "codemirror_mode": {
    "name": "ipython",
    "version": 3
   },
   "file_extension": ".py",
   "mimetype": "text/x-python",
   "name": "python",
   "nbconvert_exporter": "python",
   "pygments_lexer": "ipython3",
   "version": "3.6.1"
  }
 },
 "nbformat": 4,
 "nbformat_minor": 2
}
