{
 "metadata": {
  "name": "Optics"
 },
 "nbformat": 3,
 "nbformat_minor": 0,
 "worksheets": [
  {
   "cells": [
    {
     "cell_type": "heading",
     "level": 1,
     "metadata": {},
     "source": [
      "Interactive Introduction to Optics"
     ]
    },
    {
     "cell_type": "markdown",
     "metadata": {},
     "source": [
      "The objective is to review some principles in optics and how light interacts with matter."
     ]
    },
    {
     "cell_type": "heading",
     "level": 2,
     "metadata": {},
     "source": [
      "Classical Propagation"
     ]
    },
    {
     "cell_type": "markdown",
     "metadata": {},
     "source": [
      "A simple model to understand the propagation of light in matter is to consider matter as a collection of dipoles.\n",
      "\n",
      "$$ m_0\\frac{d^2x}{dt^2} + m_0\\gamma\\frac{dx}{dt} + m_0\\omega_0^2x = -e \\varepsilon $$ where $m_0$ is the electron mass, $\\gamma$ the damping rate, $e$ the electric charge and $\\varepsilon$ the electric field of the light wave driving the dipole.\n",
      "\n",
      "All the effect of the interaction with matter, can be encoded in what is known as the complex dielectric function \n",
      "\n",
      "$$\\epsilon(\\omega)= \\frac{Ne^2}{\\epsilon_0 m_0}\\frac{\\gamma\\omega}{(\\omega_0^2-\\omega^2)+ (\\gamma\\omega)^2}$$"
     ]
    },
    {
     "cell_type": "code",
     "collapsed": false,
     "input": [
      "from sympy import *\n",
      "import sympy.plotting as p\n",
      "init_printing()\n",
      "%pylab inline"
     ],
     "language": "python",
     "metadata": {},
     "outputs": [
      {
       "output_type": "stream",
       "stream": "stdout",
       "text": [
        "\n",
        "Welcome to pylab, a matplotlib-based Python environment [backend: module://IPython.zmq.pylab.backend_inline].\n",
        "For more information, type 'help(pylab)'.\n"
       ]
      }
     ],
     "prompt_number": 6
    },
    {
     "cell_type": "markdown",
     "metadata": {},
     "source": []
    },
    {
     "cell_type": "code",
     "collapsed": false,
     "input": [
      "x = symbols('x')\n",
      "omega, gamma, omega_0 = symbols('omega, gamma, omega_0', positive = True, real = True)\n",
      "p.plot(x, x**2, x**3, (x,-5,5))\n",
      "epsilon = symbols('epsilon', cls=Function)\n",
      "epsilon = gamma*omega/((omega_0**2-omega**2)+ (gamma*omega)**2)\n",
      "epsilon"
     ],
     "language": "python",
     "metadata": {},
     "outputs": [
      {
       "output_type": "display_data",
       "png": "[encoded data removed]"
      },
      {
       "latex": [
        "$$\\frac{\\gamma \\omega}{\\gamma^{2} \\omega^{2} - \\omega^{2} + \\omega_{0}^{2}}$$"
       ],
       "output_type": "pyout",
       "prompt_number": 18,
       "text": [
        "      \u03b3\u22c5\u03c9       \n",
        "\u2500\u2500\u2500\u2500\u2500\u2500\u2500\u2500\u2500\u2500\u2500\u2500\u2500\u2500\u2500\u2500\n",
        " 2  2    2     2\n",
        "\u03b3 \u22c5\u03c9  - \u03c9  + \u03c9\u2080 "
       ]
      }
     ],
     "prompt_number": 18
    },
    {
     "cell_type": "code",
     "collapsed": false,
     "input": [],
     "language": "python",
     "metadata": {},
     "outputs": []
    }
   ],
   "metadata": {}
  }
 ]
}