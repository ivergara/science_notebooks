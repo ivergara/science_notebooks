{
 "metadata": {
  "name": "Spectral Weight Gaussian Oscillator"
 },
 "nbformat": 3,
 "nbformat_minor": 0,
 "worksheets": [
  {
   "cells": [
    {
     "cell_type": "heading",
     "level": 1,
     "metadata": {},
     "source": [
      "Spectral Weight of a Gaussian oscillator"
     ]
    },
    {
     "cell_type": "markdown",
     "metadata": {},
     "source": [
      "Given a Gaussian oscillator of the form:\n",
      "\n",
      "$$\\epsilon_2 = A\\left[e^{-4\\ln(2)\\left(\\frac{\\omega-\\omega_0}{\\sigma}\\right)^2} - e^{-4\\ln(2)\\left(\\frac{\\omega+\\omega_0}{\\sigma}\\right)^2}\\right]$$\n",
      "\n",
      "as defined in [1] so that $\\epsilon(\\omega)$ is Kramers-Kronig consistent by calculating $\\epsilon_1$ with a KK analysis, we want to obtain the spectral weight of such an oscillator. The spectral weight is given by\n",
      "\n",
      "$$SW_{G} = \\int\\limits_0^{\\infty}\\omega\\sigma_1(\\omega) d\\omega = \\int\\limits_0^{\\infty}\\omega\\epsilon_0\\epsilon_2(\\omega) d\\omega $$ where $\\sigma_1$ is the real part of the optical conductivity and $\\epsilon_2$ is the imaginary part of the dielectric function."
     ]
    },
    {
     "cell_type": "heading",
     "level": 2,
     "metadata": {},
     "source": [
      "Preliminaries"
     ]
    },
    {
     "cell_type": "heading",
     "level": 3,
     "metadata": {},
     "source": [
      "Computational Preliminaries"
     ]
    },
    {
     "cell_type": "code",
     "collapsed": false,
     "input": [
      "from sympy import *\n",
      "%load_ext sympy.interactive.ipythonprinting\n",
      "e_2 = symbols('e_2', cls=Function)\n",
      "omega = symbols('omega')\n",
      "A, sigma, omega_0 = symbols('A sigma omega_0', real = True, positive = True)"
     ],
     "language": "python",
     "metadata": {},
     "outputs": [],
     "prompt_number": 13
    },
    {
     "cell_type": "markdown",
     "metadata": {},
     "source": [
      "First, to get familiar with the integrals, the strategy will be to calculate $\\int\\limits_0^{\\infty}Ae^{-C\\left(\\frac{\\omega\\mp\\omega_0}{\\sigma}\\right)^2}$ with $C = 4\\ln(2)$."
     ]
    },
    {
     "cell_type": "code",
     "collapsed": false,
     "input": [
      "I = Integral(omega*e_2, (omega, 0, oo))"
     ],
     "language": "python",
     "metadata": {},
     "outputs": [],
     "prompt_number": 57
    },
    {
     "cell_type": "code",
     "collapsed": false,
     "input": [
      "C = symbols('C', real = True, positive = True)\n",
      "I_m = Integral(A*exp(-C*((omega-omega_0)/sigma)**2), (omega, 0, oo))\n",
      "I_p = Integral(A*exp(-C*((omega+omega_0)/sigma)**2), (omega, 0, oo))"
     ],
     "language": "python",
     "metadata": {},
     "outputs": [],
     "prompt_number": 14
    },
    {
     "cell_type": "code",
     "collapsed": false,
     "input": [
      "I_1 = Integral(e_2, (omega, 0, oo))"
     ],
     "language": "python",
     "metadata": {},
     "outputs": [],
     "prompt_number": 59
    },
    {
     "cell_type": "markdown",
     "metadata": {},
     "source": [
      "Performing a change of variables $x = \\frac{\\omega\\mp\\omega_0}{\\sigma}$"
     ]
    },
    {
     "cell_type": "code",
     "collapsed": false,
     "input": [
      "x = symbols('x')\n",
      "I_m = I_m.transform((omega-omega_0)/sigma, x)\n",
      "I_p = I_p.transform((omega+omega_0)/sigma, x)"
     ],
     "language": "python",
     "metadata": {},
     "outputs": [],
     "prompt_number": 25
    },
    {
     "cell_type": "markdown",
     "metadata": {},
     "source": [
      "The area of integration gets reduced to the interval $[-\\frac{\\omega_0}{\\sigma}, \\frac{\\omega_0}{\\sigma}]$ and exploiting the even integrand"
     ]
    },
    {
     "cell_type": "code",
     "collapsed": false,
     "input": [
      "I_1 = 2*A*sigma*Integral(exp(-C*x**2), (x, 0, omega_0/sigma))\n"
     ],
     "language": "python",
     "metadata": {},
     "outputs": [],
     "prompt_number": 51
    },
    {
     "cell_type": "code",
     "collapsed": false,
     "input": [
      "I_1 = I_1.doit()"
     ],
     "language": "python",
     "metadata": {},
     "outputs": [],
     "prompt_number": 55
    },
    {
     "cell_type": "heading",
     "level": 2,
     "metadata": {},
     "source": [
      "Obtaining the Spectral Weight"
     ]
    },
    {
     "cell_type": "markdown",
     "metadata": {},
     "source": [
      "Now, performing the real integral for the spectral weight. Again splitting the integral in two pieces with $C = 4\\ln(2)$"
     ]
    },
    {
     "cell_type": "code",
     "collapsed": false,
     "input": [
      "epsilon_0 = symbols('epsilon_0', real = True, positive = True)\n",
      "SW_m = Integral(A*epsilon_0*omega*exp(-C*((omega-omega_0)/sigma)**2), (omega, 0, oo))\n",
      "SW_p = Integral(A*epsilon_0*omega*exp(-C*((omega+omega_0)/sigma)**2), (omega, 0, oo))"
     ],
     "language": "python",
     "metadata": {},
     "outputs": [],
     "prompt_number": 97
    },
    {
     "cell_type": "code",
     "collapsed": false,
     "input": [
      "SW_m = SW_m.transform((omega-omega_0)/sigma, x)\n",
      "SW_p = SW_p.transform((omega+omega_0)/sigma, x)"
     ],
     "language": "python",
     "metadata": {},
     "outputs": [],
     "prompt_number": 98
    },
    {
     "cell_type": "markdown",
     "metadata": {},
     "source": [
      "For the term linear in $x$ (odd), the interval of integration is again $[-\\frac{\\omega_0}{\\sigma}, \\frac{\\omega_0}{\\sigma}]$, which renders the integral to $0$. Reordering the rest of the integrals and keeping the leading $A\\epsilon_0\\sigma$ coefficient out"
     ]
    },
    {
     "cell_type": "code",
     "collapsed": false,
     "input": [
      "NumCoeff = A*epsilon_0*sigma\n",
      "SW_1 = Integral(omega_0*exp(-C*x**2), (x, -omega_0/sigma, oo))\n",
      "SW_2 = Integral(omega_0*exp(-C*x**2), (x, omega_0/sigma, oo))\n",
      "SW = SW_1 + SW_2"
     ],
     "language": "python",
     "metadata": {},
     "outputs": [],
     "prompt_number": 132
    },
    {
     "cell_type": "markdown",
     "metadata": {},
     "source": [
      "This is the same integral with overlapping intervals. Once in the range $[-\\frac{\\omega_0}{\\sigma}, \\frac{\\omega_0}{\\sigma}]$ and twice in the range $[\\frac{\\omega_0}{\\sigma}, \\infty]$ and absorbing $\\omega_0$ to the numerical prefactor"
     ]
    },
    {
     "cell_type": "code",
     "collapsed": false,
     "input": [
      "NumCoeff *= omega_0\n",
      "SW_1 = Integral(exp(-C*x**2), (x, -omega_0/sigma, omega_0/sigma))\n",
      "SW_2 = Integral(exp(-C*x**2), (x, omega_0/sigma, oo))\n",
      "SW = SW_1 + 2*SW_2"
     ],
     "language": "python",
     "metadata": {},
     "outputs": [],
     "prompt_number": 133
    },
    {
     "cell_type": "markdown",
     "metadata": {},
     "source": [
      "The first integral is already known from the preparatory calculations, but we recalculate it again here."
     ]
    },
    {
     "cell_type": "code",
     "collapsed": false,
     "input": [
      "SW = SW.subs(C, 4*ln(2))\n",
      "result = SW.doit().simplify()\n",
      "result *= NumCoeff "
     ],
     "language": "python",
     "metadata": {},
     "outputs": [],
     "prompt_number": 136
    },
    {
     "cell_type": "heading",
     "level": 2,
     "metadata": {},
     "source": [
      "Reference"
     ]
    },
    {
     "cell_type": "markdown",
     "metadata": {},
     "source": [
      "[1] De Sousa Meneses, D., Malki, M., & Echegut, P. (2006). Structure and lattice dynamics of binary lead silicate glasses investigated by infrared spectroscopy. Journal of Non-Crystalline Solids, 352(8), 769\u2013776. doi:10.1016/j.jnoncrysol.2006.02.004"
     ]
    },
    {
     "cell_type": "heading",
     "level": 2,
     "metadata": {},
     "source": [
      "ToDo"
     ]
    },
    {
     "cell_type": "markdown",
     "metadata": {},
     "source": [
      "* Prettify the notebook\n",
      "* Make better use of the notebook\n",
      "* Explore \"closed\" forms for partial spectral weight (reduced interval)"
     ]
    }
   ],
   "metadata": {}
  }
 ]
}